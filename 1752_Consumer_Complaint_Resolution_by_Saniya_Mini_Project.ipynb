{
  "cells": [
    {
      "cell_type": "markdown",
      "metadata": {
        "id": "KPpvecwEpopQ"
      },
      "source": [
        "## Mini Project 2"
      ]
    },
    {
      "cell_type": "markdown",
      "metadata": {
        "id": "qdiFBmcBpopt"
      },
      "source": [
        "Import required libraries"
      ]
    },
    {
      "cell_type": "code",
      "execution_count": 469,
      "metadata": {
        "colab": {
          "base_uri": "https://localhost:8080/"
        },
        "id": "nRvORrhJpopv",
        "outputId": "88c1fa8b-a852-4dd2-88da-39cce60ce29e"
      },
      "outputs": [
        {
          "output_type": "stream",
          "name": "stderr",
          "text": [
            "[nltk_data] Downloading package stopwords to /root/nltk_data...\n",
            "[nltk_data]   Package stopwords is already up-to-date!\n",
            "[nltk_data] Downloading package wordnet to /root/nltk_data...\n",
            "[nltk_data]   Package wordnet is already up-to-date!\n",
            "[nltk_data] Downloading package omw-1.4 to /root/nltk_data...\n",
            "[nltk_data]   Package omw-1.4 is already up-to-date!\n"
          ]
        }
      ],
      "source": [
        "import pandas as pd\n",
        "import numpy as np\n",
        "import matplotlib.pyplot as plt\n",
        "import seaborn as sns\n",
        "from nltk.tokenize import wordpunct_tokenize\n",
        "from datetime import timedelta\n",
        "import string\n",
        "import nltk\n",
        "nltk.download('stopwords')\n",
        "from nltk.corpus import stopwords\n",
        "from nltk.stem import WordNetLemmatizer\n",
        "nltk.download('wordnet')\n",
        "nltk.download('omw-1.4')\n",
        "from nltk.stem import PorterStemmer\n",
        "from sklearn.feature_extraction.text import TfidfVectorizer\n",
        "from sklearn.preprocessing import StandardScaler\n",
        "from sklearn.decomposition import PCA\n",
        "from sklearn.linear_model import LogisticRegression\n",
        "from sklearn.tree import DecisionTreeClassifier\n",
        "from sklearn.ensemble import RandomForestClassifier\n",
        "from sklearn.ensemble import AdaBoostClassifier\n",
        "from sklearn.ensemble import GradientBoostingClassifier\n",
        "from sklearn.neighbors import KNeighborsClassifier\n",
        "from xgboost import XGBClassifier\n",
        "from sklearn import preprocessing\n",
        "from sklearn.model_selection import KFold"
      ]
    },
    {
      "cell_type": "markdown",
      "metadata": {
        "id": "9psaFBmPpop0"
      },
      "source": [
        "Load given datasets"
      ]
    },
    {
      "cell_type": "code",
      "execution_count": 470,
      "metadata": {
        "colab": {
          "base_uri": "https://localhost:8080/"
        },
        "id": "q3hRmG1Zpop3",
        "outputId": "47e13532-2a75-4ce0-d7a8-e4144af1be60"
      },
      "outputs": [
        {
          "output_type": "stream",
          "name": "stdout",
          "text": [
            "--2022-08-13 09:34:47--  https://www.dropbox.com/s/l3enw3hgjb4zzpp/Consumer_Complaints_train.csv\n",
            "Resolving www.dropbox.com (www.dropbox.com)... 162.125.5.18, 2620:100:601d:18::a27d:512\n",
            "Connecting to www.dropbox.com (www.dropbox.com)|162.125.5.18|:443... connected.\n",
            "HTTP request sent, awaiting response... 301 Moved Permanently\n",
            "Location: /s/raw/l3enw3hgjb4zzpp/Consumer_Complaints_train.csv [following]\n",
            "--2022-08-13 09:34:47--  https://www.dropbox.com/s/raw/l3enw3hgjb4zzpp/Consumer_Complaints_train.csv\n",
            "Reusing existing connection to www.dropbox.com:443.\n",
            "HTTP request sent, awaiting response... 302 Found\n",
            "Location: https://uc058cd99a7f86380f1f4541c56d.dl.dropboxusercontent.com/cd/0/inline/Bq5ltnhWq4lgyVqqA1uo-zQvhB8X28_faB7vl9_iPzZcFua-M16RIExOlBF6F2E9zMkR-nk6cxH9wObqiApyaVTdVIcxcrKmiGJ_dPWhAstLGS5Iui4svzEryNtbUbHVfeX5968r8jiaUJlI90mg_HC19E5ULW62zZpGbrcHfSim-A/file# [following]\n",
            "--2022-08-13 09:34:47--  https://uc058cd99a7f86380f1f4541c56d.dl.dropboxusercontent.com/cd/0/inline/Bq5ltnhWq4lgyVqqA1uo-zQvhB8X28_faB7vl9_iPzZcFua-M16RIExOlBF6F2E9zMkR-nk6cxH9wObqiApyaVTdVIcxcrKmiGJ_dPWhAstLGS5Iui4svzEryNtbUbHVfeX5968r8jiaUJlI90mg_HC19E5ULW62zZpGbrcHfSim-A/file\n",
            "Resolving uc058cd99a7f86380f1f4541c56d.dl.dropboxusercontent.com (uc058cd99a7f86380f1f4541c56d.dl.dropboxusercontent.com)... 162.125.5.15, 2620:100:601d:15::a27d:50f\n",
            "Connecting to uc058cd99a7f86380f1f4541c56d.dl.dropboxusercontent.com (uc058cd99a7f86380f1f4541c56d.dl.dropboxusercontent.com)|162.125.5.15|:443... connected.\n",
            "HTTP request sent, awaiting response... 200 OK\n",
            "Length: 129180717 (123M) [text/plain]\n",
            "Saving to: ‘Consumer_Complaints_train.csv.6’\n",
            "\n",
            "Consumer_Complaints 100%[===================>] 123.20M  75.9MB/s    in 1.6s    \n",
            "\n",
            "2022-08-13 09:34:50 (75.9 MB/s) - ‘Consumer_Complaints_train.csv.6’ saved [129180717/129180717]\n",
            "\n",
            "--2022-08-13 09:34:50--  https://www.dropbox.com/s/llnxj1ozg4wmz23/Consumer_Complaints_test.csv\n",
            "Resolving www.dropbox.com (www.dropbox.com)... 162.125.5.18, 2620:100:601d:18::a27d:512\n",
            "Connecting to www.dropbox.com (www.dropbox.com)|162.125.5.18|:443... connected.\n",
            "HTTP request sent, awaiting response... 301 Moved Permanently\n",
            "Location: /s/raw/llnxj1ozg4wmz23/Consumer_Complaints_test.csv [following]\n",
            "--2022-08-13 09:34:50--  https://www.dropbox.com/s/raw/llnxj1ozg4wmz23/Consumer_Complaints_test.csv\n",
            "Reusing existing connection to www.dropbox.com:443.\n",
            "HTTP request sent, awaiting response... 302 Found\n",
            "Location: https://ucbeb651337e21af47d80fd1bbbb.dl.dropboxusercontent.com/cd/0/inline/Bq5owhmVqFw6C2-Sn2AiwGIYMY5hQ2tN6FbaAxnbsAbZiMcAfnTzN0lb_k-3oXxJOhWTGV3BDa9Jcr2PpojGgeZnGOPQo5ZN0grCjiNjpv7lObi7XlpOgpeTu2y5_qghBcouu1N1FBJOxtSM6pN997iQLWTLrcUqlzX_DJzDcnZmog/file# [following]\n",
            "--2022-08-13 09:34:51--  https://ucbeb651337e21af47d80fd1bbbb.dl.dropboxusercontent.com/cd/0/inline/Bq5owhmVqFw6C2-Sn2AiwGIYMY5hQ2tN6FbaAxnbsAbZiMcAfnTzN0lb_k-3oXxJOhWTGV3BDa9Jcr2PpojGgeZnGOPQo5ZN0grCjiNjpv7lObi7XlpOgpeTu2y5_qghBcouu1N1FBJOxtSM6pN997iQLWTLrcUqlzX_DJzDcnZmog/file\n",
            "Resolving ucbeb651337e21af47d80fd1bbbb.dl.dropboxusercontent.com (ucbeb651337e21af47d80fd1bbbb.dl.dropboxusercontent.com)... 162.125.5.15, 2620:100:601d:15::a27d:50f\n",
            "Connecting to ucbeb651337e21af47d80fd1bbbb.dl.dropboxusercontent.com (ucbeb651337e21af47d80fd1bbbb.dl.dropboxusercontent.com)|162.125.5.15|:443... connected.\n",
            "HTTP request sent, awaiting response... 200 OK\n",
            "Length: 43050984 (41M) [text/plain]\n",
            "Saving to: ‘Consumer_Complaints_test.csv.6’\n",
            "\n",
            "Consumer_Complaints 100%[===================>]  41.06M  58.2MB/s    in 0.7s    \n",
            "\n",
            "2022-08-13 09:34:52 (58.2 MB/s) - ‘Consumer_Complaints_test.csv.6’ saved [43050984/43050984]\n",
            "\n"
          ]
        }
      ],
      "source": [
        "!wget https://www.dropbox.com/s/l3enw3hgjb4zzpp/Consumer_Complaints_train.csv\n",
        "!wget https://www.dropbox.com/s/llnxj1ozg4wmz23/Consumer_Complaints_test.csv"
      ]
    },
    {
      "cell_type": "markdown",
      "metadata": {
        "id": "Xp8W3eXcpop5"
      },
      "source": [
        "Print top 5 records of train dataset"
      ]
    },
    {
      "cell_type": "code",
      "execution_count": 471,
      "metadata": {
        "colab": {
          "base_uri": "https://localhost:8080/",
          "height": 493
        },
        "id": "w1b67V24pop6",
        "outputId": "7728557d-0525-4df2-f9f8-aa707a802622"
      },
      "outputs": [
        {
          "output_type": "execute_result",
          "data": {
            "text/plain": [
              "  Date received                  Product  \\\n",
              "0    2015-10-14         Credit reporting   \n",
              "1    2015-04-26  Bank account or service   \n",
              "2    2013-12-20              Credit card   \n",
              "3    2016-03-03          Debt collection   \n",
              "4    2015-01-30          Debt collection   \n",
              "\n",
              "                             Sub-product  \\\n",
              "0                                    NaN   \n",
              "1             Other bank product/service   \n",
              "2                                    NaN   \n",
              "3  Other (i.e. phone, health club, etc.)   \n",
              "4                                Medical   \n",
              "\n",
              "                                    Issue  \\\n",
              "0  Incorrect information on credit report   \n",
              "1                Deposits and withdrawals   \n",
              "2                                   Other   \n",
              "3         Disclosure verification of debt   \n",
              "4         Disclosure verification of debt   \n",
              "\n",
              "                              Sub-issue  \\\n",
              "0               Information is not mine   \n",
              "1                                   NaN   \n",
              "2                                   NaN   \n",
              "3  Not given enough info to verify debt   \n",
              "4  Not given enough info to verify debt   \n",
              "\n",
              "                        Consumer complaint narrative  \\\n",
              "0                                                NaN   \n",
              "1  RE : XXXX XXXX XXXX-PRIVILEGED AND CONFIDENTIA...   \n",
              "2                                                NaN   \n",
              "3                                                NaN   \n",
              "4                                                NaN   \n",
              "\n",
              "                             Company public response  \\\n",
              "0                                                NaN   \n",
              "1                                                NaN   \n",
              "2                                                NaN   \n",
              "3  Company has responded to the consumer and the ...   \n",
              "4                                                NaN   \n",
              "\n",
              "                                     Company State ZIP code Tags  \\\n",
              "0                                    Equifax    GA    30134  NaN   \n",
              "1                      Wells Fargo & Company    GA    319XX  NaN   \n",
              "2                                   Citibank    SC    29203  NaN   \n",
              "3       FAIR COLLECTIONS & OUTSOURCING, INC.    OH    43082  NaN   \n",
              "4  HCFS Health Care Financial Services, Inc.    CA    90036  NaN   \n",
              "\n",
              "  Consumer consent provided? Submitted via Date sent to company  \\\n",
              "0       Consent not provided           Web           2015-10-14   \n",
              "1           Consent provided           Web           2015-04-26   \n",
              "2                        NaN         Phone           2014-01-03   \n",
              "3                        NaN      Referral           2016-03-04   \n",
              "4                        NaN           Web           2015-01-30   \n",
              "\n",
              "      Company response to consumer Timely response? Consumer disputed?  \\\n",
              "0          Closed with explanation              Yes                 No   \n",
              "1          Closed with explanation              Yes                Yes   \n",
              "2  Closed with non-monetary relief              Yes                 No   \n",
              "3          Closed with explanation              Yes                 No   \n",
              "4          Closed with explanation              Yes                Yes   \n",
              "\n",
              "   Complaint ID  \n",
              "0       1605653  \n",
              "1       1347613  \n",
              "2        640394  \n",
              "3       1815134  \n",
              "4       1218613  "
            ],
            "text/html": [
              "\n",
              "  <div id=\"df-e515f588-1a84-4d89-9e23-108c6ed649a6\">\n",
              "    <div class=\"colab-df-container\">\n",
              "      <div>\n",
              "<style scoped>\n",
              "    .dataframe tbody tr th:only-of-type {\n",
              "        vertical-align: middle;\n",
              "    }\n",
              "\n",
              "    .dataframe tbody tr th {\n",
              "        vertical-align: top;\n",
              "    }\n",
              "\n",
              "    .dataframe thead th {\n",
              "        text-align: right;\n",
              "    }\n",
              "</style>\n",
              "<table border=\"1\" class=\"dataframe\">\n",
              "  <thead>\n",
              "    <tr style=\"text-align: right;\">\n",
              "      <th></th>\n",
              "      <th>Date received</th>\n",
              "      <th>Product</th>\n",
              "      <th>Sub-product</th>\n",
              "      <th>Issue</th>\n",
              "      <th>Sub-issue</th>\n",
              "      <th>Consumer complaint narrative</th>\n",
              "      <th>Company public response</th>\n",
              "      <th>Company</th>\n",
              "      <th>State</th>\n",
              "      <th>ZIP code</th>\n",
              "      <th>Tags</th>\n",
              "      <th>Consumer consent provided?</th>\n",
              "      <th>Submitted via</th>\n",
              "      <th>Date sent to company</th>\n",
              "      <th>Company response to consumer</th>\n",
              "      <th>Timely response?</th>\n",
              "      <th>Consumer disputed?</th>\n",
              "      <th>Complaint ID</th>\n",
              "    </tr>\n",
              "  </thead>\n",
              "  <tbody>\n",
              "    <tr>\n",
              "      <th>0</th>\n",
              "      <td>2015-10-14</td>\n",
              "      <td>Credit reporting</td>\n",
              "      <td>NaN</td>\n",
              "      <td>Incorrect information on credit report</td>\n",
              "      <td>Information is not mine</td>\n",
              "      <td>NaN</td>\n",
              "      <td>NaN</td>\n",
              "      <td>Equifax</td>\n",
              "      <td>GA</td>\n",
              "      <td>30134</td>\n",
              "      <td>NaN</td>\n",
              "      <td>Consent not provided</td>\n",
              "      <td>Web</td>\n",
              "      <td>2015-10-14</td>\n",
              "      <td>Closed with explanation</td>\n",
              "      <td>Yes</td>\n",
              "      <td>No</td>\n",
              "      <td>1605653</td>\n",
              "    </tr>\n",
              "    <tr>\n",
              "      <th>1</th>\n",
              "      <td>2015-04-26</td>\n",
              "      <td>Bank account or service</td>\n",
              "      <td>Other bank product/service</td>\n",
              "      <td>Deposits and withdrawals</td>\n",
              "      <td>NaN</td>\n",
              "      <td>RE : XXXX XXXX XXXX-PRIVILEGED AND CONFIDENTIA...</td>\n",
              "      <td>NaN</td>\n",
              "      <td>Wells Fargo &amp; Company</td>\n",
              "      <td>GA</td>\n",
              "      <td>319XX</td>\n",
              "      <td>NaN</td>\n",
              "      <td>Consent provided</td>\n",
              "      <td>Web</td>\n",
              "      <td>2015-04-26</td>\n",
              "      <td>Closed with explanation</td>\n",
              "      <td>Yes</td>\n",
              "      <td>Yes</td>\n",
              "      <td>1347613</td>\n",
              "    </tr>\n",
              "    <tr>\n",
              "      <th>2</th>\n",
              "      <td>2013-12-20</td>\n",
              "      <td>Credit card</td>\n",
              "      <td>NaN</td>\n",
              "      <td>Other</td>\n",
              "      <td>NaN</td>\n",
              "      <td>NaN</td>\n",
              "      <td>NaN</td>\n",
              "      <td>Citibank</td>\n",
              "      <td>SC</td>\n",
              "      <td>29203</td>\n",
              "      <td>NaN</td>\n",
              "      <td>NaN</td>\n",
              "      <td>Phone</td>\n",
              "      <td>2014-01-03</td>\n",
              "      <td>Closed with non-monetary relief</td>\n",
              "      <td>Yes</td>\n",
              "      <td>No</td>\n",
              "      <td>640394</td>\n",
              "    </tr>\n",
              "    <tr>\n",
              "      <th>3</th>\n",
              "      <td>2016-03-03</td>\n",
              "      <td>Debt collection</td>\n",
              "      <td>Other (i.e. phone, health club, etc.)</td>\n",
              "      <td>Disclosure verification of debt</td>\n",
              "      <td>Not given enough info to verify debt</td>\n",
              "      <td>NaN</td>\n",
              "      <td>Company has responded to the consumer and the ...</td>\n",
              "      <td>FAIR COLLECTIONS &amp; OUTSOURCING, INC.</td>\n",
              "      <td>OH</td>\n",
              "      <td>43082</td>\n",
              "      <td>NaN</td>\n",
              "      <td>NaN</td>\n",
              "      <td>Referral</td>\n",
              "      <td>2016-03-04</td>\n",
              "      <td>Closed with explanation</td>\n",
              "      <td>Yes</td>\n",
              "      <td>No</td>\n",
              "      <td>1815134</td>\n",
              "    </tr>\n",
              "    <tr>\n",
              "      <th>4</th>\n",
              "      <td>2015-01-30</td>\n",
              "      <td>Debt collection</td>\n",
              "      <td>Medical</td>\n",
              "      <td>Disclosure verification of debt</td>\n",
              "      <td>Not given enough info to verify debt</td>\n",
              "      <td>NaN</td>\n",
              "      <td>NaN</td>\n",
              "      <td>HCFS Health Care Financial Services, Inc.</td>\n",
              "      <td>CA</td>\n",
              "      <td>90036</td>\n",
              "      <td>NaN</td>\n",
              "      <td>NaN</td>\n",
              "      <td>Web</td>\n",
              "      <td>2015-01-30</td>\n",
              "      <td>Closed with explanation</td>\n",
              "      <td>Yes</td>\n",
              "      <td>Yes</td>\n",
              "      <td>1218613</td>\n",
              "    </tr>\n",
              "  </tbody>\n",
              "</table>\n",
              "</div>\n",
              "      <button class=\"colab-df-convert\" onclick=\"convertToInteractive('df-e515f588-1a84-4d89-9e23-108c6ed649a6')\"\n",
              "              title=\"Convert this dataframe to an interactive table.\"\n",
              "              style=\"display:none;\">\n",
              "        \n",
              "  <svg xmlns=\"http://www.w3.org/2000/svg\" height=\"24px\"viewBox=\"0 0 24 24\"\n",
              "       width=\"24px\">\n",
              "    <path d=\"M0 0h24v24H0V0z\" fill=\"none\"/>\n",
              "    <path d=\"M18.56 5.44l.94 2.06.94-2.06 2.06-.94-2.06-.94-.94-2.06-.94 2.06-2.06.94zm-11 1L8.5 8.5l.94-2.06 2.06-.94-2.06-.94L8.5 2.5l-.94 2.06-2.06.94zm10 10l.94 2.06.94-2.06 2.06-.94-2.06-.94-.94-2.06-.94 2.06-2.06.94z\"/><path d=\"M17.41 7.96l-1.37-1.37c-.4-.4-.92-.59-1.43-.59-.52 0-1.04.2-1.43.59L10.3 9.45l-7.72 7.72c-.78.78-.78 2.05 0 2.83L4 21.41c.39.39.9.59 1.41.59.51 0 1.02-.2 1.41-.59l7.78-7.78 2.81-2.81c.8-.78.8-2.07 0-2.86zM5.41 20L4 18.59l7.72-7.72 1.47 1.35L5.41 20z\"/>\n",
              "  </svg>\n",
              "      </button>\n",
              "      \n",
              "  <style>\n",
              "    .colab-df-container {\n",
              "      display:flex;\n",
              "      flex-wrap:wrap;\n",
              "      gap: 12px;\n",
              "    }\n",
              "\n",
              "    .colab-df-convert {\n",
              "      background-color: #E8F0FE;\n",
              "      border: none;\n",
              "      border-radius: 50%;\n",
              "      cursor: pointer;\n",
              "      display: none;\n",
              "      fill: #1967D2;\n",
              "      height: 32px;\n",
              "      padding: 0 0 0 0;\n",
              "      width: 32px;\n",
              "    }\n",
              "\n",
              "    .colab-df-convert:hover {\n",
              "      background-color: #E2EBFA;\n",
              "      box-shadow: 0px 1px 2px rgba(60, 64, 67, 0.3), 0px 1px 3px 1px rgba(60, 64, 67, 0.15);\n",
              "      fill: #174EA6;\n",
              "    }\n",
              "\n",
              "    [theme=dark] .colab-df-convert {\n",
              "      background-color: #3B4455;\n",
              "      fill: #D2E3FC;\n",
              "    }\n",
              "\n",
              "    [theme=dark] .colab-df-convert:hover {\n",
              "      background-color: #434B5C;\n",
              "      box-shadow: 0px 1px 3px 1px rgba(0, 0, 0, 0.15);\n",
              "      filter: drop-shadow(0px 1px 2px rgba(0, 0, 0, 0.3));\n",
              "      fill: #FFFFFF;\n",
              "    }\n",
              "  </style>\n",
              "\n",
              "      <script>\n",
              "        const buttonEl =\n",
              "          document.querySelector('#df-e515f588-1a84-4d89-9e23-108c6ed649a6 button.colab-df-convert');\n",
              "        buttonEl.style.display =\n",
              "          google.colab.kernel.accessAllowed ? 'block' : 'none';\n",
              "\n",
              "        async function convertToInteractive(key) {\n",
              "          const element = document.querySelector('#df-e515f588-1a84-4d89-9e23-108c6ed649a6');\n",
              "          const dataTable =\n",
              "            await google.colab.kernel.invokeFunction('convertToInteractive',\n",
              "                                                     [key], {});\n",
              "          if (!dataTable) return;\n",
              "\n",
              "          const docLinkHtml = 'Like what you see? Visit the ' +\n",
              "            '<a target=\"_blank\" href=https://colab.research.google.com/notebooks/data_table.ipynb>data table notebook</a>'\n",
              "            + ' to learn more about interactive tables.';\n",
              "          element.innerHTML = '';\n",
              "          dataTable['output_type'] = 'display_data';\n",
              "          await google.colab.output.renderOutput(dataTable, element);\n",
              "          const docLink = document.createElement('div');\n",
              "          docLink.innerHTML = docLinkHtml;\n",
              "          element.appendChild(docLink);\n",
              "        }\n",
              "      </script>\n",
              "    </div>\n",
              "  </div>\n",
              "  "
            ]
          },
          "metadata": {},
          "execution_count": 471
        }
      ],
      "source": [
        "train_data=pd.read_csv(\"Consumer_Complaints_train.csv\")\n",
        "train_data.head()"
      ]
    },
    {
      "cell_type": "markdown",
      "metadata": {
        "id": "vy0goz35pop7"
      },
      "source": [
        "Print top 5 records of test dataset"
      ]
    },
    {
      "cell_type": "code",
      "execution_count": 472,
      "metadata": {
        "colab": {
          "base_uri": "https://localhost:8080/",
          "height": 511
        },
        "id": "M1GqR9Agpop9",
        "outputId": "b3dc447a-4102-4eff-af2a-a49da723a6c0"
      },
      "outputs": [
        {
          "output_type": "execute_result",
          "data": {
            "text/plain": [
              "  Date received          Product                            Sub-product  \\\n",
              "0    2015-01-17      Credit card                                    NaN   \n",
              "1    2016-06-22    Consumer Loan                             Title loan   \n",
              "2    2015-09-04      Credit card                                    NaN   \n",
              "3    2016-05-17    Consumer Loan                       Installment loan   \n",
              "4    2016-07-07  Debt collection  Other (i.e. phone, health club, etc.)   \n",
              "\n",
              "                                   Issue  \\\n",
              "0  Customer service / Customer relations   \n",
              "1           Payment to acct not credited   \n",
              "2          Credit line increase/decrease   \n",
              "3    Problems when you are unable to pay   \n",
              "4    Improper contact or sharing of info   \n",
              "\n",
              "                               Sub-issue  \\\n",
              "0                                    NaN   \n",
              "1                                    NaN   \n",
              "2                                    NaN   \n",
              "3                                    NaN   \n",
              "4  Contacted employer after asked not to   \n",
              "\n",
              "                        Consumer complaint narrative  \\\n",
              "0                                                NaN   \n",
              "1                                                NaN   \n",
              "2  I WANT TO REQUEST A CREDIT LINE INCREASE OF XX...   \n",
              "3  I have asked One Main Financial not to call my...   \n",
              "4  I have received several calls from a XXXX XXXX...   \n",
              "\n",
              "                             Company public response  \\\n",
              "0                                                NaN   \n",
              "1  Company believes it acted appropriately as aut...   \n",
              "2                                                NaN   \n",
              "3                                                NaN   \n",
              "4  Company has responded to the consumer and the ...   \n",
              "\n",
              "                            Company State ZIP code           Tags  \\\n",
              "0                          Citibank    TX    75241            NaN   \n",
              "1  Larsen MacColl Partners II, L.P.    TX    76548  Servicemember   \n",
              "2                       Capital One    NC    271XX            NaN   \n",
              "3   OneMain Financial Holdings, LLC    MO    634XX            NaN   \n",
              "4              GMA Investments, LLC    SC    296XX            NaN   \n",
              "\n",
              "  Consumer consent provided? Submitted via Date sent to company  \\\n",
              "0                        NaN           Web           2015-01-17   \n",
              "1                        NaN         Phone           2016-06-22   \n",
              "2           Consent provided           Web           2015-09-04   \n",
              "3           Consent provided           Web           2016-05-20   \n",
              "4           Consent provided           Web           2016-07-07   \n",
              "\n",
              "      Company response to consumer Timely response?  Complaint ID  \n",
              "0      Closed with monetary relief              Yes       1198133  \n",
              "1          Closed with explanation              Yes       1979989  \n",
              "2          Closed with explanation              Yes       1552090  \n",
              "3  Closed with non-monetary relief              Yes       1929306  \n",
              "4          Closed with explanation              Yes       2001667  "
            ],
            "text/html": [
              "\n",
              "  <div id=\"df-b57c24a4-a193-406d-a24e-26b64df7efd6\">\n",
              "    <div class=\"colab-df-container\">\n",
              "      <div>\n",
              "<style scoped>\n",
              "    .dataframe tbody tr th:only-of-type {\n",
              "        vertical-align: middle;\n",
              "    }\n",
              "\n",
              "    .dataframe tbody tr th {\n",
              "        vertical-align: top;\n",
              "    }\n",
              "\n",
              "    .dataframe thead th {\n",
              "        text-align: right;\n",
              "    }\n",
              "</style>\n",
              "<table border=\"1\" class=\"dataframe\">\n",
              "  <thead>\n",
              "    <tr style=\"text-align: right;\">\n",
              "      <th></th>\n",
              "      <th>Date received</th>\n",
              "      <th>Product</th>\n",
              "      <th>Sub-product</th>\n",
              "      <th>Issue</th>\n",
              "      <th>Sub-issue</th>\n",
              "      <th>Consumer complaint narrative</th>\n",
              "      <th>Company public response</th>\n",
              "      <th>Company</th>\n",
              "      <th>State</th>\n",
              "      <th>ZIP code</th>\n",
              "      <th>Tags</th>\n",
              "      <th>Consumer consent provided?</th>\n",
              "      <th>Submitted via</th>\n",
              "      <th>Date sent to company</th>\n",
              "      <th>Company response to consumer</th>\n",
              "      <th>Timely response?</th>\n",
              "      <th>Complaint ID</th>\n",
              "    </tr>\n",
              "  </thead>\n",
              "  <tbody>\n",
              "    <tr>\n",
              "      <th>0</th>\n",
              "      <td>2015-01-17</td>\n",
              "      <td>Credit card</td>\n",
              "      <td>NaN</td>\n",
              "      <td>Customer service / Customer relations</td>\n",
              "      <td>NaN</td>\n",
              "      <td>NaN</td>\n",
              "      <td>NaN</td>\n",
              "      <td>Citibank</td>\n",
              "      <td>TX</td>\n",
              "      <td>75241</td>\n",
              "      <td>NaN</td>\n",
              "      <td>NaN</td>\n",
              "      <td>Web</td>\n",
              "      <td>2015-01-17</td>\n",
              "      <td>Closed with monetary relief</td>\n",
              "      <td>Yes</td>\n",
              "      <td>1198133</td>\n",
              "    </tr>\n",
              "    <tr>\n",
              "      <th>1</th>\n",
              "      <td>2016-06-22</td>\n",
              "      <td>Consumer Loan</td>\n",
              "      <td>Title loan</td>\n",
              "      <td>Payment to acct not credited</td>\n",
              "      <td>NaN</td>\n",
              "      <td>NaN</td>\n",
              "      <td>Company believes it acted appropriately as aut...</td>\n",
              "      <td>Larsen MacColl Partners II, L.P.</td>\n",
              "      <td>TX</td>\n",
              "      <td>76548</td>\n",
              "      <td>Servicemember</td>\n",
              "      <td>NaN</td>\n",
              "      <td>Phone</td>\n",
              "      <td>2016-06-22</td>\n",
              "      <td>Closed with explanation</td>\n",
              "      <td>Yes</td>\n",
              "      <td>1979989</td>\n",
              "    </tr>\n",
              "    <tr>\n",
              "      <th>2</th>\n",
              "      <td>2015-09-04</td>\n",
              "      <td>Credit card</td>\n",
              "      <td>NaN</td>\n",
              "      <td>Credit line increase/decrease</td>\n",
              "      <td>NaN</td>\n",
              "      <td>I WANT TO REQUEST A CREDIT LINE INCREASE OF XX...</td>\n",
              "      <td>NaN</td>\n",
              "      <td>Capital One</td>\n",
              "      <td>NC</td>\n",
              "      <td>271XX</td>\n",
              "      <td>NaN</td>\n",
              "      <td>Consent provided</td>\n",
              "      <td>Web</td>\n",
              "      <td>2015-09-04</td>\n",
              "      <td>Closed with explanation</td>\n",
              "      <td>Yes</td>\n",
              "      <td>1552090</td>\n",
              "    </tr>\n",
              "    <tr>\n",
              "      <th>3</th>\n",
              "      <td>2016-05-17</td>\n",
              "      <td>Consumer Loan</td>\n",
              "      <td>Installment loan</td>\n",
              "      <td>Problems when you are unable to pay</td>\n",
              "      <td>NaN</td>\n",
              "      <td>I have asked One Main Financial not to call my...</td>\n",
              "      <td>NaN</td>\n",
              "      <td>OneMain Financial Holdings, LLC</td>\n",
              "      <td>MO</td>\n",
              "      <td>634XX</td>\n",
              "      <td>NaN</td>\n",
              "      <td>Consent provided</td>\n",
              "      <td>Web</td>\n",
              "      <td>2016-05-20</td>\n",
              "      <td>Closed with non-monetary relief</td>\n",
              "      <td>Yes</td>\n",
              "      <td>1929306</td>\n",
              "    </tr>\n",
              "    <tr>\n",
              "      <th>4</th>\n",
              "      <td>2016-07-07</td>\n",
              "      <td>Debt collection</td>\n",
              "      <td>Other (i.e. phone, health club, etc.)</td>\n",
              "      <td>Improper contact or sharing of info</td>\n",
              "      <td>Contacted employer after asked not to</td>\n",
              "      <td>I have received several calls from a XXXX XXXX...</td>\n",
              "      <td>Company has responded to the consumer and the ...</td>\n",
              "      <td>GMA Investments, LLC</td>\n",
              "      <td>SC</td>\n",
              "      <td>296XX</td>\n",
              "      <td>NaN</td>\n",
              "      <td>Consent provided</td>\n",
              "      <td>Web</td>\n",
              "      <td>2016-07-07</td>\n",
              "      <td>Closed with explanation</td>\n",
              "      <td>Yes</td>\n",
              "      <td>2001667</td>\n",
              "    </tr>\n",
              "  </tbody>\n",
              "</table>\n",
              "</div>\n",
              "      <button class=\"colab-df-convert\" onclick=\"convertToInteractive('df-b57c24a4-a193-406d-a24e-26b64df7efd6')\"\n",
              "              title=\"Convert this dataframe to an interactive table.\"\n",
              "              style=\"display:none;\">\n",
              "        \n",
              "  <svg xmlns=\"http://www.w3.org/2000/svg\" height=\"24px\"viewBox=\"0 0 24 24\"\n",
              "       width=\"24px\">\n",
              "    <path d=\"M0 0h24v24H0V0z\" fill=\"none\"/>\n",
              "    <path d=\"M18.56 5.44l.94 2.06.94-2.06 2.06-.94-2.06-.94-.94-2.06-.94 2.06-2.06.94zm-11 1L8.5 8.5l.94-2.06 2.06-.94-2.06-.94L8.5 2.5l-.94 2.06-2.06.94zm10 10l.94 2.06.94-2.06 2.06-.94-2.06-.94-.94-2.06-.94 2.06-2.06.94z\"/><path d=\"M17.41 7.96l-1.37-1.37c-.4-.4-.92-.59-1.43-.59-.52 0-1.04.2-1.43.59L10.3 9.45l-7.72 7.72c-.78.78-.78 2.05 0 2.83L4 21.41c.39.39.9.59 1.41.59.51 0 1.02-.2 1.41-.59l7.78-7.78 2.81-2.81c.8-.78.8-2.07 0-2.86zM5.41 20L4 18.59l7.72-7.72 1.47 1.35L5.41 20z\"/>\n",
              "  </svg>\n",
              "      </button>\n",
              "      \n",
              "  <style>\n",
              "    .colab-df-container {\n",
              "      display:flex;\n",
              "      flex-wrap:wrap;\n",
              "      gap: 12px;\n",
              "    }\n",
              "\n",
              "    .colab-df-convert {\n",
              "      background-color: #E8F0FE;\n",
              "      border: none;\n",
              "      border-radius: 50%;\n",
              "      cursor: pointer;\n",
              "      display: none;\n",
              "      fill: #1967D2;\n",
              "      height: 32px;\n",
              "      padding: 0 0 0 0;\n",
              "      width: 32px;\n",
              "    }\n",
              "\n",
              "    .colab-df-convert:hover {\n",
              "      background-color: #E2EBFA;\n",
              "      box-shadow: 0px 1px 2px rgba(60, 64, 67, 0.3), 0px 1px 3px 1px rgba(60, 64, 67, 0.15);\n",
              "      fill: #174EA6;\n",
              "    }\n",
              "\n",
              "    [theme=dark] .colab-df-convert {\n",
              "      background-color: #3B4455;\n",
              "      fill: #D2E3FC;\n",
              "    }\n",
              "\n",
              "    [theme=dark] .colab-df-convert:hover {\n",
              "      background-color: #434B5C;\n",
              "      box-shadow: 0px 1px 3px 1px rgba(0, 0, 0, 0.15);\n",
              "      filter: drop-shadow(0px 1px 2px rgba(0, 0, 0, 0.3));\n",
              "      fill: #FFFFFF;\n",
              "    }\n",
              "  </style>\n",
              "\n",
              "      <script>\n",
              "        const buttonEl =\n",
              "          document.querySelector('#df-b57c24a4-a193-406d-a24e-26b64df7efd6 button.colab-df-convert');\n",
              "        buttonEl.style.display =\n",
              "          google.colab.kernel.accessAllowed ? 'block' : 'none';\n",
              "\n",
              "        async function convertToInteractive(key) {\n",
              "          const element = document.querySelector('#df-b57c24a4-a193-406d-a24e-26b64df7efd6');\n",
              "          const dataTable =\n",
              "            await google.colab.kernel.invokeFunction('convertToInteractive',\n",
              "                                                     [key], {});\n",
              "          if (!dataTable) return;\n",
              "\n",
              "          const docLinkHtml = 'Like what you see? Visit the ' +\n",
              "            '<a target=\"_blank\" href=https://colab.research.google.com/notebooks/data_table.ipynb>data table notebook</a>'\n",
              "            + ' to learn more about interactive tables.';\n",
              "          element.innerHTML = '';\n",
              "          dataTable['output_type'] = 'display_data';\n",
              "          await google.colab.output.renderOutput(dataTable, element);\n",
              "          const docLink = document.createElement('div');\n",
              "          docLink.innerHTML = docLinkHtml;\n",
              "          element.appendChild(docLink);\n",
              "        }\n",
              "      </script>\n",
              "    </div>\n",
              "  </div>\n",
              "  "
            ]
          },
          "metadata": {},
          "execution_count": 472
        }
      ],
      "source": [
        "test_data=pd.read_csv(\"Consumer_Complaints_test.csv\")\n",
        "test_data.head()"
      ]
    },
    {
      "cell_type": "markdown",
      "metadata": {
        "id": "KzRBJoR7pop-"
      },
      "source": [
        "**Note: Please note that do all given tasks for test and train both datasets.**"
      ]
    },
    {
      "cell_type": "markdown",
      "metadata": {
        "id": "pbq7pvmGpop_"
      },
      "source": [
        "Print shape of train and test datasets "
      ]
    },
    {
      "cell_type": "code",
      "execution_count": 473,
      "metadata": {
        "colab": {
          "base_uri": "https://localhost:8080/"
        },
        "id": "eFPXZRfMpoqA",
        "outputId": "cc6e4c55-bd18-4b21-aa62-f6eb22136a8f"
      },
      "outputs": [
        {
          "output_type": "stream",
          "name": "stdout",
          "text": [
            "(358810, 18) (119606, 17)\n"
          ]
        }
      ],
      "source": [
        "from pandas._libs.lib import tuples_to_object_array\n",
        "print(train_data.shape,test_data.shape)"
      ]
    },
    {
      "cell_type": "markdown",
      "metadata": {
        "id": "7oPnYhOapoqA"
      },
      "source": [
        "Print columns of train and test datasets"
      ]
    },
    {
      "cell_type": "code",
      "execution_count": 474,
      "metadata": {
        "colab": {
          "base_uri": "https://localhost:8080/"
        },
        "id": "iPzUL5fUpoqB",
        "outputId": "268bc55e-a93a-4620-851b-d207bc2db01e"
      },
      "outputs": [
        {
          "output_type": "stream",
          "name": "stdout",
          "text": [
            "Index(['Date received', 'Product', 'Sub-product', 'Issue', 'Sub-issue',\n",
            "       'Consumer complaint narrative', 'Company public response', 'Company',\n",
            "       'State', 'ZIP code', 'Tags', 'Consumer consent provided?',\n",
            "       'Submitted via', 'Date sent to company', 'Company response to consumer',\n",
            "       'Timely response?', 'Consumer disputed?', 'Complaint ID'],\n",
            "      dtype='object')\n",
            "Index(['Date received', 'Product', 'Sub-product', 'Issue', 'Sub-issue',\n",
            "       'Consumer complaint narrative', 'Company public response', 'Company',\n",
            "       'State', 'ZIP code', 'Tags', 'Consumer consent provided?',\n",
            "       'Submitted via', 'Date sent to company', 'Company response to consumer',\n",
            "       'Timely response?', 'Complaint ID'],\n",
            "      dtype='object')\n"
          ]
        }
      ],
      "source": [
        "print(train_data.columns)\n",
        "print(test_data.columns)"
      ]
    },
    {
      "cell_type": "markdown",
      "metadata": {
        "id": "0HiyNNaKpoqC"
      },
      "source": [
        "Check data type for both datasets"
      ]
    },
    {
      "cell_type": "code",
      "execution_count": 475,
      "metadata": {
        "colab": {
          "base_uri": "https://localhost:8080/"
        },
        "id": "vxGdAynspoqC",
        "outputId": "36f05632-5ac3-4b6d-8585-0688b8f9aaf2"
      },
      "outputs": [
        {
          "output_type": "stream",
          "name": "stdout",
          "text": [
            "<class 'pandas.core.frame.DataFrame'>\n",
            "RangeIndex: 358810 entries, 0 to 358809\n",
            "Data columns (total 18 columns):\n",
            " #   Column                        Non-Null Count   Dtype \n",
            "---  ------                        --------------   ----- \n",
            " 0   Date received                 358810 non-null  object\n",
            " 1   Product                       358810 non-null  object\n",
            " 2   Sub-product                   255024 non-null  object\n",
            " 3   Issue                         358810 non-null  object\n",
            " 4   Sub-issue                     139436 non-null  object\n",
            " 5   Consumer complaint narrative  56180 non-null   object\n",
            " 6   Company public response       67931 non-null   object\n",
            " 7   Company                       358810 non-null  object\n",
            " 8   State                         355907 non-null  object\n",
            " 9   ZIP code                      355899 non-null  object\n",
            " 10  Tags                          50226 non-null   object\n",
            " 11  Consumer consent provided?    101580 non-null  object\n",
            " 12  Submitted via                 358810 non-null  object\n",
            " 13  Date sent to company          358810 non-null  object\n",
            " 14  Company response to consumer  358810 non-null  object\n",
            " 15  Timely response?              358810 non-null  object\n",
            " 16  Consumer disputed?            358810 non-null  object\n",
            " 17  Complaint ID                  358810 non-null  int64 \n",
            "dtypes: int64(1), object(17)\n",
            "memory usage: 49.3+ MB\n",
            "None\n",
            "<class 'pandas.core.frame.DataFrame'>\n",
            "RangeIndex: 119606 entries, 0 to 119605\n",
            "Data columns (total 17 columns):\n",
            " #   Column                        Non-Null Count   Dtype \n",
            "---  ------                        --------------   ----- \n",
            " 0   Date received                 119606 non-null  object\n",
            " 1   Product                       119606 non-null  object\n",
            " 2   Sub-product                   84923 non-null   object\n",
            " 3   Issue                         119606 non-null  object\n",
            " 4   Sub-issue                     46356 non-null   object\n",
            " 5   Consumer complaint narrative  18914 non-null   object\n",
            " 6   Company public response       22460 non-null   object\n",
            " 7   Company                       119606 non-null  object\n",
            " 8   State                         118670 non-null  object\n",
            " 9   ZIP code                      118669 non-null  object\n",
            " 10  Tags                          16977 non-null   object\n",
            " 11  Consumer consent provided?    33907 non-null   object\n",
            " 12  Submitted via                 119606 non-null  object\n",
            " 13  Date sent to company          119606 non-null  object\n",
            " 14  Company response to consumer  119606 non-null  object\n",
            " 15  Timely response?              119606 non-null  object\n",
            " 16  Complaint ID                  119606 non-null  int64 \n",
            "dtypes: int64(1), object(16)\n",
            "memory usage: 15.5+ MB\n",
            "None\n"
          ]
        }
      ],
      "source": [
        "print(train_data.info())\n",
        "print(test_data.info())"
      ]
    },
    {
      "cell_type": "markdown",
      "metadata": {
        "id": "bLuxvPTupoqD"
      },
      "source": [
        "Print missing values in percentage"
      ]
    },
    {
      "cell_type": "code",
      "execution_count": 476,
      "metadata": {
        "colab": {
          "base_uri": "https://localhost:8080/"
        },
        "id": "MGG5jiynpoqD",
        "outputId": "5557539a-5733-4748-b748-b2281b6671f1"
      },
      "outputs": [
        {
          "output_type": "stream",
          "name": "stdout",
          "text": [
            "train missing\n",
            "                                               column_name  percent_missing\n",
            "Date received                                Date received         0.000000\n",
            "Product                                            Product         0.000000\n",
            "Sub-product                                    Sub-product        28.925058\n",
            "Issue                                                Issue         0.000000\n",
            "Sub-issue                                        Sub-issue        61.139322\n",
            "Consumer complaint narrative  Consumer complaint narrative        84.342688\n",
            "Company public response            Company public response        81.067696\n",
            "Company                                            Company         0.000000\n",
            "State                                                State         0.809063\n",
            "ZIP code                                          ZIP code         0.811293\n",
            "Tags                                                  Tags        86.002062\n",
            "Consumer consent provided?      Consumer consent provided?        71.689752\n",
            "Submitted via                                Submitted via         0.000000\n",
            "Date sent to company                  Date sent to company         0.000000\n",
            "Company response to consumer  Company response to consumer         0.000000\n",
            "Timely response?                          Timely response?         0.000000\n",
            "Consumer disputed?                      Consumer disputed?         0.000000\n",
            "Complaint ID                                  Complaint ID         0.000000\n",
            "\n",
            "\n",
            "test missing\n",
            "                                               column_name  percent_missing\n",
            "Date received                                Date received         0.000000\n",
            "Product                                            Product         0.000000\n",
            "Sub-product                                    Sub-product        28.997709\n",
            "Issue                                                Issue         0.000000\n",
            "Sub-issue                                        Sub-issue        61.242747\n",
            "Consumer complaint narrative  Consumer complaint narrative        84.186412\n",
            "Company public response            Company public response        81.221678\n",
            "Company                                            Company         0.000000\n",
            "State                                                State         0.782569\n",
            "ZIP code                                          ZIP code         0.783406\n",
            "Tags                                                  Tags        85.805896\n",
            "Consumer consent provided?      Consumer consent provided?        71.651088\n",
            "Submitted via                                Submitted via         0.000000\n",
            "Date sent to company                  Date sent to company         0.000000\n",
            "Company response to consumer  Company response to consumer         0.000000\n",
            "Timely response?                          Timely response?         0.000000\n",
            "Complaint ID                                  Complaint ID         0.000000\n"
          ]
        }
      ],
      "source": [
        "percent_missing_tr= train_data.isnull().sum() * 100 / len(train_data)\n",
        "missing_value_df_tr = pd.DataFrame({'column_name': train_data.columns,\n",
        "                                 'percent_missing': percent_missing_tr})\n",
        "percent_missing_test = test_data.isnull().sum() * 100 / len(test_data)\n",
        "missing_value_df_ts = pd.DataFrame({'column_name': test_data.columns,\n",
        "                                 'percent_missing': percent_missing_test})\n",
        "print(\"train missing\")\n",
        "print(missing_value_df_tr)\n",
        "print(\"\\n\\ntest missing\")\n",
        "print(missing_value_df_ts)"
      ]
    },
    {
      "cell_type": "markdown",
      "metadata": {
        "id": "z9mdQc6npoqE"
      },
      "source": [
        "Drop columns where more than 25% of the data are missing."
      ]
    },
    {
      "cell_type": "code",
      "execution_count": 477,
      "metadata": {
        "colab": {
          "base_uri": "https://localhost:8080/",
          "height": 624
        },
        "id": "XMbc7qcXlSqU",
        "outputId": "0f962352-a72a-4def-9476-418319bc1e75"
      },
      "outputs": [
        {
          "output_type": "execute_result",
          "data": {
            "text/plain": [
              "       Date received                  Product  \\\n",
              "0         2015-10-14         Credit reporting   \n",
              "1         2015-04-26  Bank account or service   \n",
              "2         2013-12-20              Credit card   \n",
              "3         2016-03-03          Debt collection   \n",
              "4         2015-01-30          Debt collection   \n",
              "...              ...                      ...   \n",
              "358805    2014-04-14         Credit reporting   \n",
              "358806    2013-03-14                 Mortgage   \n",
              "358807    2013-02-01              Credit card   \n",
              "358808    2015-06-25          Debt collection   \n",
              "358809    2015-05-12         Credit reporting   \n",
              "\n",
              "                                           Issue  \\\n",
              "0         Incorrect information on credit report   \n",
              "1                       Deposits and withdrawals   \n",
              "2                                          Other   \n",
              "3                Disclosure verification of debt   \n",
              "4                Disclosure verification of debt   \n",
              "...                                          ...   \n",
              "358805    Incorrect information on credit report   \n",
              "358806  Loan modification,collection,foreclosure   \n",
              "358807                            Payoff process   \n",
              "358808     Cont'd attempts collect debt not owed   \n",
              "358809    Incorrect information on credit report   \n",
              "\n",
              "                                          Company State ZIP code  \\\n",
              "0                                         Equifax    GA    30134   \n",
              "1                           Wells Fargo & Company    GA    319XX   \n",
              "2                                        Citibank    SC    29203   \n",
              "3            FAIR COLLECTIONS & OUTSOURCING, INC.    OH    43082   \n",
              "4       HCFS Health Care Financial Services, Inc.    CA    90036   \n",
              "...                                           ...   ...      ...   \n",
              "358805                                   Experian    OR    97306   \n",
              "358806                                   Citibank    OH    43026   \n",
              "358807                                Capital One    TX    76021   \n",
              "358808                       Encore Capital Group    FL    33256   \n",
              "358809     TransUnion Intermediate Holdings, Inc.    FL    32583   \n",
              "\n",
              "       Submitted via Date sent to company     Company response to consumer  \\\n",
              "0                Web           2015-10-14          Closed with explanation   \n",
              "1                Web           2015-04-26          Closed with explanation   \n",
              "2              Phone           2014-01-03  Closed with non-monetary relief   \n",
              "3           Referral           2016-03-04          Closed with explanation   \n",
              "4                Web           2015-01-30          Closed with explanation   \n",
              "...              ...                  ...                              ...   \n",
              "358805           Web           2014-04-13  Closed with non-monetary relief   \n",
              "358806      Referral           2013-03-18  Closed with non-monetary relief   \n",
              "358807           Web           2013-02-01                           Closed   \n",
              "358808         Phone           2015-06-29  Closed with non-monetary relief   \n",
              "358809      Referral           2015-06-03          Closed with explanation   \n",
              "\n",
              "       Timely response? Consumer disputed?  Complaint ID  \n",
              "0                   Yes                 No       1605653  \n",
              "1                   Yes                Yes       1347613  \n",
              "2                   Yes                 No        640394  \n",
              "3                   Yes                 No       1815134  \n",
              "4                   Yes                Yes       1218613  \n",
              "...                 ...                ...           ...  \n",
              "358805              Yes                 No        806868  \n",
              "358806              Yes                 No        355254  \n",
              "358807              Yes                Yes        283994  \n",
              "358808              Yes                 No       1438670  \n",
              "358809              Yes                 No       1372035  \n",
              "\n",
              "[358810 rows x 12 columns]"
            ],
            "text/html": [
              "\n",
              "  <div id=\"df-2114c283-257c-4740-bfda-d455b34e626e\">\n",
              "    <div class=\"colab-df-container\">\n",
              "      <div>\n",
              "<style scoped>\n",
              "    .dataframe tbody tr th:only-of-type {\n",
              "        vertical-align: middle;\n",
              "    }\n",
              "\n",
              "    .dataframe tbody tr th {\n",
              "        vertical-align: top;\n",
              "    }\n",
              "\n",
              "    .dataframe thead th {\n",
              "        text-align: right;\n",
              "    }\n",
              "</style>\n",
              "<table border=\"1\" class=\"dataframe\">\n",
              "  <thead>\n",
              "    <tr style=\"text-align: right;\">\n",
              "      <th></th>\n",
              "      <th>Date received</th>\n",
              "      <th>Product</th>\n",
              "      <th>Issue</th>\n",
              "      <th>Company</th>\n",
              "      <th>State</th>\n",
              "      <th>ZIP code</th>\n",
              "      <th>Submitted via</th>\n",
              "      <th>Date sent to company</th>\n",
              "      <th>Company response to consumer</th>\n",
              "      <th>Timely response?</th>\n",
              "      <th>Consumer disputed?</th>\n",
              "      <th>Complaint ID</th>\n",
              "    </tr>\n",
              "  </thead>\n",
              "  <tbody>\n",
              "    <tr>\n",
              "      <th>0</th>\n",
              "      <td>2015-10-14</td>\n",
              "      <td>Credit reporting</td>\n",
              "      <td>Incorrect information on credit report</td>\n",
              "      <td>Equifax</td>\n",
              "      <td>GA</td>\n",
              "      <td>30134</td>\n",
              "      <td>Web</td>\n",
              "      <td>2015-10-14</td>\n",
              "      <td>Closed with explanation</td>\n",
              "      <td>Yes</td>\n",
              "      <td>No</td>\n",
              "      <td>1605653</td>\n",
              "    </tr>\n",
              "    <tr>\n",
              "      <th>1</th>\n",
              "      <td>2015-04-26</td>\n",
              "      <td>Bank account or service</td>\n",
              "      <td>Deposits and withdrawals</td>\n",
              "      <td>Wells Fargo &amp; Company</td>\n",
              "      <td>GA</td>\n",
              "      <td>319XX</td>\n",
              "      <td>Web</td>\n",
              "      <td>2015-04-26</td>\n",
              "      <td>Closed with explanation</td>\n",
              "      <td>Yes</td>\n",
              "      <td>Yes</td>\n",
              "      <td>1347613</td>\n",
              "    </tr>\n",
              "    <tr>\n",
              "      <th>2</th>\n",
              "      <td>2013-12-20</td>\n",
              "      <td>Credit card</td>\n",
              "      <td>Other</td>\n",
              "      <td>Citibank</td>\n",
              "      <td>SC</td>\n",
              "      <td>29203</td>\n",
              "      <td>Phone</td>\n",
              "      <td>2014-01-03</td>\n",
              "      <td>Closed with non-monetary relief</td>\n",
              "      <td>Yes</td>\n",
              "      <td>No</td>\n",
              "      <td>640394</td>\n",
              "    </tr>\n",
              "    <tr>\n",
              "      <th>3</th>\n",
              "      <td>2016-03-03</td>\n",
              "      <td>Debt collection</td>\n",
              "      <td>Disclosure verification of debt</td>\n",
              "      <td>FAIR COLLECTIONS &amp; OUTSOURCING, INC.</td>\n",
              "      <td>OH</td>\n",
              "      <td>43082</td>\n",
              "      <td>Referral</td>\n",
              "      <td>2016-03-04</td>\n",
              "      <td>Closed with explanation</td>\n",
              "      <td>Yes</td>\n",
              "      <td>No</td>\n",
              "      <td>1815134</td>\n",
              "    </tr>\n",
              "    <tr>\n",
              "      <th>4</th>\n",
              "      <td>2015-01-30</td>\n",
              "      <td>Debt collection</td>\n",
              "      <td>Disclosure verification of debt</td>\n",
              "      <td>HCFS Health Care Financial Services, Inc.</td>\n",
              "      <td>CA</td>\n",
              "      <td>90036</td>\n",
              "      <td>Web</td>\n",
              "      <td>2015-01-30</td>\n",
              "      <td>Closed with explanation</td>\n",
              "      <td>Yes</td>\n",
              "      <td>Yes</td>\n",
              "      <td>1218613</td>\n",
              "    </tr>\n",
              "    <tr>\n",
              "      <th>...</th>\n",
              "      <td>...</td>\n",
              "      <td>...</td>\n",
              "      <td>...</td>\n",
              "      <td>...</td>\n",
              "      <td>...</td>\n",
              "      <td>...</td>\n",
              "      <td>...</td>\n",
              "      <td>...</td>\n",
              "      <td>...</td>\n",
              "      <td>...</td>\n",
              "      <td>...</td>\n",
              "      <td>...</td>\n",
              "    </tr>\n",
              "    <tr>\n",
              "      <th>358805</th>\n",
              "      <td>2014-04-14</td>\n",
              "      <td>Credit reporting</td>\n",
              "      <td>Incorrect information on credit report</td>\n",
              "      <td>Experian</td>\n",
              "      <td>OR</td>\n",
              "      <td>97306</td>\n",
              "      <td>Web</td>\n",
              "      <td>2014-04-13</td>\n",
              "      <td>Closed with non-monetary relief</td>\n",
              "      <td>Yes</td>\n",
              "      <td>No</td>\n",
              "      <td>806868</td>\n",
              "    </tr>\n",
              "    <tr>\n",
              "      <th>358806</th>\n",
              "      <td>2013-03-14</td>\n",
              "      <td>Mortgage</td>\n",
              "      <td>Loan modification,collection,foreclosure</td>\n",
              "      <td>Citibank</td>\n",
              "      <td>OH</td>\n",
              "      <td>43026</td>\n",
              "      <td>Referral</td>\n",
              "      <td>2013-03-18</td>\n",
              "      <td>Closed with non-monetary relief</td>\n",
              "      <td>Yes</td>\n",
              "      <td>No</td>\n",
              "      <td>355254</td>\n",
              "    </tr>\n",
              "    <tr>\n",
              "      <th>358807</th>\n",
              "      <td>2013-02-01</td>\n",
              "      <td>Credit card</td>\n",
              "      <td>Payoff process</td>\n",
              "      <td>Capital One</td>\n",
              "      <td>TX</td>\n",
              "      <td>76021</td>\n",
              "      <td>Web</td>\n",
              "      <td>2013-02-01</td>\n",
              "      <td>Closed</td>\n",
              "      <td>Yes</td>\n",
              "      <td>Yes</td>\n",
              "      <td>283994</td>\n",
              "    </tr>\n",
              "    <tr>\n",
              "      <th>358808</th>\n",
              "      <td>2015-06-25</td>\n",
              "      <td>Debt collection</td>\n",
              "      <td>Cont'd attempts collect debt not owed</td>\n",
              "      <td>Encore Capital Group</td>\n",
              "      <td>FL</td>\n",
              "      <td>33256</td>\n",
              "      <td>Phone</td>\n",
              "      <td>2015-06-29</td>\n",
              "      <td>Closed with non-monetary relief</td>\n",
              "      <td>Yes</td>\n",
              "      <td>No</td>\n",
              "      <td>1438670</td>\n",
              "    </tr>\n",
              "    <tr>\n",
              "      <th>358809</th>\n",
              "      <td>2015-05-12</td>\n",
              "      <td>Credit reporting</td>\n",
              "      <td>Incorrect information on credit report</td>\n",
              "      <td>TransUnion Intermediate Holdings, Inc.</td>\n",
              "      <td>FL</td>\n",
              "      <td>32583</td>\n",
              "      <td>Referral</td>\n",
              "      <td>2015-06-03</td>\n",
              "      <td>Closed with explanation</td>\n",
              "      <td>Yes</td>\n",
              "      <td>No</td>\n",
              "      <td>1372035</td>\n",
              "    </tr>\n",
              "  </tbody>\n",
              "</table>\n",
              "<p>358810 rows × 12 columns</p>\n",
              "</div>\n",
              "      <button class=\"colab-df-convert\" onclick=\"convertToInteractive('df-2114c283-257c-4740-bfda-d455b34e626e')\"\n",
              "              title=\"Convert this dataframe to an interactive table.\"\n",
              "              style=\"display:none;\">\n",
              "        \n",
              "  <svg xmlns=\"http://www.w3.org/2000/svg\" height=\"24px\"viewBox=\"0 0 24 24\"\n",
              "       width=\"24px\">\n",
              "    <path d=\"M0 0h24v24H0V0z\" fill=\"none\"/>\n",
              "    <path d=\"M18.56 5.44l.94 2.06.94-2.06 2.06-.94-2.06-.94-.94-2.06-.94 2.06-2.06.94zm-11 1L8.5 8.5l.94-2.06 2.06-.94-2.06-.94L8.5 2.5l-.94 2.06-2.06.94zm10 10l.94 2.06.94-2.06 2.06-.94-2.06-.94-.94-2.06-.94 2.06-2.06.94z\"/><path d=\"M17.41 7.96l-1.37-1.37c-.4-.4-.92-.59-1.43-.59-.52 0-1.04.2-1.43.59L10.3 9.45l-7.72 7.72c-.78.78-.78 2.05 0 2.83L4 21.41c.39.39.9.59 1.41.59.51 0 1.02-.2 1.41-.59l7.78-7.78 2.81-2.81c.8-.78.8-2.07 0-2.86zM5.41 20L4 18.59l7.72-7.72 1.47 1.35L5.41 20z\"/>\n",
              "  </svg>\n",
              "      </button>\n",
              "      \n",
              "  <style>\n",
              "    .colab-df-container {\n",
              "      display:flex;\n",
              "      flex-wrap:wrap;\n",
              "      gap: 12px;\n",
              "    }\n",
              "\n",
              "    .colab-df-convert {\n",
              "      background-color: #E8F0FE;\n",
              "      border: none;\n",
              "      border-radius: 50%;\n",
              "      cursor: pointer;\n",
              "      display: none;\n",
              "      fill: #1967D2;\n",
              "      height: 32px;\n",
              "      padding: 0 0 0 0;\n",
              "      width: 32px;\n",
              "    }\n",
              "\n",
              "    .colab-df-convert:hover {\n",
              "      background-color: #E2EBFA;\n",
              "      box-shadow: 0px 1px 2px rgba(60, 64, 67, 0.3), 0px 1px 3px 1px rgba(60, 64, 67, 0.15);\n",
              "      fill: #174EA6;\n",
              "    }\n",
              "\n",
              "    [theme=dark] .colab-df-convert {\n",
              "      background-color: #3B4455;\n",
              "      fill: #D2E3FC;\n",
              "    }\n",
              "\n",
              "    [theme=dark] .colab-df-convert:hover {\n",
              "      background-color: #434B5C;\n",
              "      box-shadow: 0px 1px 3px 1px rgba(0, 0, 0, 0.15);\n",
              "      filter: drop-shadow(0px 1px 2px rgba(0, 0, 0, 0.3));\n",
              "      fill: #FFFFFF;\n",
              "    }\n",
              "  </style>\n",
              "\n",
              "      <script>\n",
              "        const buttonEl =\n",
              "          document.querySelector('#df-2114c283-257c-4740-bfda-d455b34e626e button.colab-df-convert');\n",
              "        buttonEl.style.display =\n",
              "          google.colab.kernel.accessAllowed ? 'block' : 'none';\n",
              "\n",
              "        async function convertToInteractive(key) {\n",
              "          const element = document.querySelector('#df-2114c283-257c-4740-bfda-d455b34e626e');\n",
              "          const dataTable =\n",
              "            await google.colab.kernel.invokeFunction('convertToInteractive',\n",
              "                                                     [key], {});\n",
              "          if (!dataTable) return;\n",
              "\n",
              "          const docLinkHtml = 'Like what you see? Visit the ' +\n",
              "            '<a target=\"_blank\" href=https://colab.research.google.com/notebooks/data_table.ipynb>data table notebook</a>'\n",
              "            + ' to learn more about interactive tables.';\n",
              "          element.innerHTML = '';\n",
              "          dataTable['output_type'] = 'display_data';\n",
              "          await google.colab.output.renderOutput(dataTable, element);\n",
              "          const docLink = document.createElement('div');\n",
              "          docLink.innerHTML = docLinkHtml;\n",
              "          element.appendChild(docLink);\n",
              "        }\n",
              "      </script>\n",
              "    </div>\n",
              "  </div>\n",
              "  "
            ]
          },
          "metadata": {},
          "execution_count": 477
        }
      ],
      "source": [
        "# Below code gives percentage of null in every column\n",
        "null_percentage2 = train_data.isnull().sum()/train_data.shape[0]*100\n",
        "\n",
        "# Below code gives list of columns having more than 25% null\n",
        "col_to_drop = null_percentage2[null_percentage2>25].keys()\n",
        "\n",
        "train_data = train_data.drop(col_to_drop, axis=1)\n",
        "train_data"
      ]
    },
    {
      "cell_type": "code",
      "execution_count": 478,
      "metadata": {
        "colab": {
          "base_uri": "https://localhost:8080/",
          "height": 424
        },
        "id": "wQfmdhsglJt-",
        "outputId": "0c7e58a8-d8c2-47d8-db6a-31204085f4b5"
      },
      "outputs": [
        {
          "output_type": "execute_result",
          "data": {
            "text/plain": [
              "       Date received           Product  \\\n",
              "0         2015-01-17       Credit card   \n",
              "1         2016-06-22     Consumer Loan   \n",
              "2         2015-09-04       Credit card   \n",
              "3         2016-05-17     Consumer Loan   \n",
              "4         2016-07-07   Debt collection   \n",
              "...              ...               ...   \n",
              "119601    2015-02-09       Credit card   \n",
              "119602    2012-11-13       Credit card   \n",
              "119603    2012-05-15          Mortgage   \n",
              "119604    2015-06-07  Credit reporting   \n",
              "119605    2015-03-20   Debt collection   \n",
              "\n",
              "                                           Issue  \\\n",
              "0          Customer service / Customer relations   \n",
              "1                   Payment to acct not credited   \n",
              "2                  Credit line increase/decrease   \n",
              "3            Problems when you are unable to pay   \n",
              "4            Improper contact or sharing of info   \n",
              "...                                          ...   \n",
              "119601                      Credit determination   \n",
              "119602                          Balance transfer   \n",
              "119603  Loan modification,collection,foreclosure   \n",
              "119604    Incorrect information on credit report   \n",
              "119605                     Communication tactics   \n",
              "\n",
              "                                 Company State ZIP code Submitted via  \\\n",
              "0                               Citibank    TX    75241           Web   \n",
              "1       Larsen MacColl Partners II, L.P.    TX    76548         Phone   \n",
              "2                            Capital One    NC    271XX           Web   \n",
              "3        OneMain Financial Holdings, LLC    MO    634XX           Web   \n",
              "4                   GMA Investments, LLC    SC    296XX           Web   \n",
              "...                                  ...   ...      ...           ...   \n",
              "119601                          Citibank    IL    60803           Web   \n",
              "119602                       Capital One    KS    67114           Web   \n",
              "119603                   Bank of America    CA    95691      Referral   \n",
              "119604                          Experian    OH    436XX           Web   \n",
              "119605             Northland Group, Inc.    FL    322XX           Web   \n",
              "\n",
              "       Date sent to company     Company response to consumer Timely response?  \\\n",
              "0                2015-01-17      Closed with monetary relief              Yes   \n",
              "1                2016-06-22          Closed with explanation              Yes   \n",
              "2                2015-09-04          Closed with explanation              Yes   \n",
              "3                2016-05-20  Closed with non-monetary relief              Yes   \n",
              "4                2016-07-07          Closed with explanation              Yes   \n",
              "...                     ...                              ...              ...   \n",
              "119601           2015-02-09          Closed with explanation              Yes   \n",
              "119602           2012-11-14          Closed with explanation              Yes   \n",
              "119603           2012-05-15            Closed without relief              Yes   \n",
              "119604           2015-06-07          Closed with explanation              Yes   \n",
              "119605           2015-03-20          Closed with explanation              Yes   \n",
              "\n",
              "        Complaint ID  \n",
              "0            1198133  \n",
              "1            1979989  \n",
              "2            1552090  \n",
              "3            1929306  \n",
              "4            2001667  \n",
              "...              ...  \n",
              "119601       1230729  \n",
              "119602        189749  \n",
              "119603         78574  \n",
              "119604       1409765  \n",
              "119605       1294040  \n",
              "\n",
              "[119606 rows x 11 columns]"
            ],
            "text/html": [
              "\n",
              "  <div id=\"df-3e59ce8d-9d93-4578-be7d-e3ceb5eeb380\">\n",
              "    <div class=\"colab-df-container\">\n",
              "      <div>\n",
              "<style scoped>\n",
              "    .dataframe tbody tr th:only-of-type {\n",
              "        vertical-align: middle;\n",
              "    }\n",
              "\n",
              "    .dataframe tbody tr th {\n",
              "        vertical-align: top;\n",
              "    }\n",
              "\n",
              "    .dataframe thead th {\n",
              "        text-align: right;\n",
              "    }\n",
              "</style>\n",
              "<table border=\"1\" class=\"dataframe\">\n",
              "  <thead>\n",
              "    <tr style=\"text-align: right;\">\n",
              "      <th></th>\n",
              "      <th>Date received</th>\n",
              "      <th>Product</th>\n",
              "      <th>Issue</th>\n",
              "      <th>Company</th>\n",
              "      <th>State</th>\n",
              "      <th>ZIP code</th>\n",
              "      <th>Submitted via</th>\n",
              "      <th>Date sent to company</th>\n",
              "      <th>Company response to consumer</th>\n",
              "      <th>Timely response?</th>\n",
              "      <th>Complaint ID</th>\n",
              "    </tr>\n",
              "  </thead>\n",
              "  <tbody>\n",
              "    <tr>\n",
              "      <th>0</th>\n",
              "      <td>2015-01-17</td>\n",
              "      <td>Credit card</td>\n",
              "      <td>Customer service / Customer relations</td>\n",
              "      <td>Citibank</td>\n",
              "      <td>TX</td>\n",
              "      <td>75241</td>\n",
              "      <td>Web</td>\n",
              "      <td>2015-01-17</td>\n",
              "      <td>Closed with monetary relief</td>\n",
              "      <td>Yes</td>\n",
              "      <td>1198133</td>\n",
              "    </tr>\n",
              "    <tr>\n",
              "      <th>1</th>\n",
              "      <td>2016-06-22</td>\n",
              "      <td>Consumer Loan</td>\n",
              "      <td>Payment to acct not credited</td>\n",
              "      <td>Larsen MacColl Partners II, L.P.</td>\n",
              "      <td>TX</td>\n",
              "      <td>76548</td>\n",
              "      <td>Phone</td>\n",
              "      <td>2016-06-22</td>\n",
              "      <td>Closed with explanation</td>\n",
              "      <td>Yes</td>\n",
              "      <td>1979989</td>\n",
              "    </tr>\n",
              "    <tr>\n",
              "      <th>2</th>\n",
              "      <td>2015-09-04</td>\n",
              "      <td>Credit card</td>\n",
              "      <td>Credit line increase/decrease</td>\n",
              "      <td>Capital One</td>\n",
              "      <td>NC</td>\n",
              "      <td>271XX</td>\n",
              "      <td>Web</td>\n",
              "      <td>2015-09-04</td>\n",
              "      <td>Closed with explanation</td>\n",
              "      <td>Yes</td>\n",
              "      <td>1552090</td>\n",
              "    </tr>\n",
              "    <tr>\n",
              "      <th>3</th>\n",
              "      <td>2016-05-17</td>\n",
              "      <td>Consumer Loan</td>\n",
              "      <td>Problems when you are unable to pay</td>\n",
              "      <td>OneMain Financial Holdings, LLC</td>\n",
              "      <td>MO</td>\n",
              "      <td>634XX</td>\n",
              "      <td>Web</td>\n",
              "      <td>2016-05-20</td>\n",
              "      <td>Closed with non-monetary relief</td>\n",
              "      <td>Yes</td>\n",
              "      <td>1929306</td>\n",
              "    </tr>\n",
              "    <tr>\n",
              "      <th>4</th>\n",
              "      <td>2016-07-07</td>\n",
              "      <td>Debt collection</td>\n",
              "      <td>Improper contact or sharing of info</td>\n",
              "      <td>GMA Investments, LLC</td>\n",
              "      <td>SC</td>\n",
              "      <td>296XX</td>\n",
              "      <td>Web</td>\n",
              "      <td>2016-07-07</td>\n",
              "      <td>Closed with explanation</td>\n",
              "      <td>Yes</td>\n",
              "      <td>2001667</td>\n",
              "    </tr>\n",
              "    <tr>\n",
              "      <th>...</th>\n",
              "      <td>...</td>\n",
              "      <td>...</td>\n",
              "      <td>...</td>\n",
              "      <td>...</td>\n",
              "      <td>...</td>\n",
              "      <td>...</td>\n",
              "      <td>...</td>\n",
              "      <td>...</td>\n",
              "      <td>...</td>\n",
              "      <td>...</td>\n",
              "      <td>...</td>\n",
              "    </tr>\n",
              "    <tr>\n",
              "      <th>119601</th>\n",
              "      <td>2015-02-09</td>\n",
              "      <td>Credit card</td>\n",
              "      <td>Credit determination</td>\n",
              "      <td>Citibank</td>\n",
              "      <td>IL</td>\n",
              "      <td>60803</td>\n",
              "      <td>Web</td>\n",
              "      <td>2015-02-09</td>\n",
              "      <td>Closed with explanation</td>\n",
              "      <td>Yes</td>\n",
              "      <td>1230729</td>\n",
              "    </tr>\n",
              "    <tr>\n",
              "      <th>119602</th>\n",
              "      <td>2012-11-13</td>\n",
              "      <td>Credit card</td>\n",
              "      <td>Balance transfer</td>\n",
              "      <td>Capital One</td>\n",
              "      <td>KS</td>\n",
              "      <td>67114</td>\n",
              "      <td>Web</td>\n",
              "      <td>2012-11-14</td>\n",
              "      <td>Closed with explanation</td>\n",
              "      <td>Yes</td>\n",
              "      <td>189749</td>\n",
              "    </tr>\n",
              "    <tr>\n",
              "      <th>119603</th>\n",
              "      <td>2012-05-15</td>\n",
              "      <td>Mortgage</td>\n",
              "      <td>Loan modification,collection,foreclosure</td>\n",
              "      <td>Bank of America</td>\n",
              "      <td>CA</td>\n",
              "      <td>95691</td>\n",
              "      <td>Referral</td>\n",
              "      <td>2012-05-15</td>\n",
              "      <td>Closed without relief</td>\n",
              "      <td>Yes</td>\n",
              "      <td>78574</td>\n",
              "    </tr>\n",
              "    <tr>\n",
              "      <th>119604</th>\n",
              "      <td>2015-06-07</td>\n",
              "      <td>Credit reporting</td>\n",
              "      <td>Incorrect information on credit report</td>\n",
              "      <td>Experian</td>\n",
              "      <td>OH</td>\n",
              "      <td>436XX</td>\n",
              "      <td>Web</td>\n",
              "      <td>2015-06-07</td>\n",
              "      <td>Closed with explanation</td>\n",
              "      <td>Yes</td>\n",
              "      <td>1409765</td>\n",
              "    </tr>\n",
              "    <tr>\n",
              "      <th>119605</th>\n",
              "      <td>2015-03-20</td>\n",
              "      <td>Debt collection</td>\n",
              "      <td>Communication tactics</td>\n",
              "      <td>Northland Group, Inc.</td>\n",
              "      <td>FL</td>\n",
              "      <td>322XX</td>\n",
              "      <td>Web</td>\n",
              "      <td>2015-03-20</td>\n",
              "      <td>Closed with explanation</td>\n",
              "      <td>Yes</td>\n",
              "      <td>1294040</td>\n",
              "    </tr>\n",
              "  </tbody>\n",
              "</table>\n",
              "<p>119606 rows × 11 columns</p>\n",
              "</div>\n",
              "      <button class=\"colab-df-convert\" onclick=\"convertToInteractive('df-3e59ce8d-9d93-4578-be7d-e3ceb5eeb380')\"\n",
              "              title=\"Convert this dataframe to an interactive table.\"\n",
              "              style=\"display:none;\">\n",
              "        \n",
              "  <svg xmlns=\"http://www.w3.org/2000/svg\" height=\"24px\"viewBox=\"0 0 24 24\"\n",
              "       width=\"24px\">\n",
              "    <path d=\"M0 0h24v24H0V0z\" fill=\"none\"/>\n",
              "    <path d=\"M18.56 5.44l.94 2.06.94-2.06 2.06-.94-2.06-.94-.94-2.06-.94 2.06-2.06.94zm-11 1L8.5 8.5l.94-2.06 2.06-.94-2.06-.94L8.5 2.5l-.94 2.06-2.06.94zm10 10l.94 2.06.94-2.06 2.06-.94-2.06-.94-.94-2.06-.94 2.06-2.06.94z\"/><path d=\"M17.41 7.96l-1.37-1.37c-.4-.4-.92-.59-1.43-.59-.52 0-1.04.2-1.43.59L10.3 9.45l-7.72 7.72c-.78.78-.78 2.05 0 2.83L4 21.41c.39.39.9.59 1.41.59.51 0 1.02-.2 1.41-.59l7.78-7.78 2.81-2.81c.8-.78.8-2.07 0-2.86zM5.41 20L4 18.59l7.72-7.72 1.47 1.35L5.41 20z\"/>\n",
              "  </svg>\n",
              "      </button>\n",
              "      \n",
              "  <style>\n",
              "    .colab-df-container {\n",
              "      display:flex;\n",
              "      flex-wrap:wrap;\n",
              "      gap: 12px;\n",
              "    }\n",
              "\n",
              "    .colab-df-convert {\n",
              "      background-color: #E8F0FE;\n",
              "      border: none;\n",
              "      border-radius: 50%;\n",
              "      cursor: pointer;\n",
              "      display: none;\n",
              "      fill: #1967D2;\n",
              "      height: 32px;\n",
              "      padding: 0 0 0 0;\n",
              "      width: 32px;\n",
              "    }\n",
              "\n",
              "    .colab-df-convert:hover {\n",
              "      background-color: #E2EBFA;\n",
              "      box-shadow: 0px 1px 2px rgba(60, 64, 67, 0.3), 0px 1px 3px 1px rgba(60, 64, 67, 0.15);\n",
              "      fill: #174EA6;\n",
              "    }\n",
              "\n",
              "    [theme=dark] .colab-df-convert {\n",
              "      background-color: #3B4455;\n",
              "      fill: #D2E3FC;\n",
              "    }\n",
              "\n",
              "    [theme=dark] .colab-df-convert:hover {\n",
              "      background-color: #434B5C;\n",
              "      box-shadow: 0px 1px 3px 1px rgba(0, 0, 0, 0.15);\n",
              "      filter: drop-shadow(0px 1px 2px rgba(0, 0, 0, 0.3));\n",
              "      fill: #FFFFFF;\n",
              "    }\n",
              "  </style>\n",
              "\n",
              "      <script>\n",
              "        const buttonEl =\n",
              "          document.querySelector('#df-3e59ce8d-9d93-4578-be7d-e3ceb5eeb380 button.colab-df-convert');\n",
              "        buttonEl.style.display =\n",
              "          google.colab.kernel.accessAllowed ? 'block' : 'none';\n",
              "\n",
              "        async function convertToInteractive(key) {\n",
              "          const element = document.querySelector('#df-3e59ce8d-9d93-4578-be7d-e3ceb5eeb380');\n",
              "          const dataTable =\n",
              "            await google.colab.kernel.invokeFunction('convertToInteractive',\n",
              "                                                     [key], {});\n",
              "          if (!dataTable) return;\n",
              "\n",
              "          const docLinkHtml = 'Like what you see? Visit the ' +\n",
              "            '<a target=\"_blank\" href=https://colab.research.google.com/notebooks/data_table.ipynb>data table notebook</a>'\n",
              "            + ' to learn more about interactive tables.';\n",
              "          element.innerHTML = '';\n",
              "          dataTable['output_type'] = 'display_data';\n",
              "          await google.colab.output.renderOutput(dataTable, element);\n",
              "          const docLink = document.createElement('div');\n",
              "          docLink.innerHTML = docLinkHtml;\n",
              "          element.appendChild(docLink);\n",
              "        }\n",
              "      </script>\n",
              "    </div>\n",
              "  </div>\n",
              "  "
            ]
          },
          "metadata": {},
          "execution_count": 478
        }
      ],
      "source": [
        "# Below code gives percentage of null in every column\n",
        "null_percentage1 = test_data.isnull().sum()/test_data.shape[0]*100\n",
        "\n",
        "# Below code gives list of columns having more than 25% null\n",
        "col_to_drop = null_percentage1[null_percentage1>25].keys()\n",
        "test_data = test_data.drop(col_to_drop, axis=1)\n",
        "test_data"
      ]
    },
    {
      "cell_type": "markdown",
      "metadata": {
        "id": "PkddP08zpoqI"
      },
      "source": [
        "Extract Date, Month, and Year from the \"Date Received\" Column and create new fields for year, month, and day.\n",
        "\n",
        "like, df_train['Year_Received'] = df_train['Date received']........(logic)"
      ]
    },
    {
      "cell_type": "code",
      "execution_count": 479,
      "metadata": {
        "id": "B-f5_sc8poqM"
      },
      "outputs": [],
      "source": [
        "train_data['Date received']= pd.to_datetime(train_data['Date received'])\n",
        "test_data['Date received']= pd.to_datetime(test_data['Date received'])"
      ]
    },
    {
      "cell_type": "code",
      "execution_count": 480,
      "metadata": {
        "id": "AV-WcfBrtdHV"
      },
      "outputs": [],
      "source": [
        "from datetime import datetime\n",
        "ls1=[]\n",
        "ls2=[]\n",
        "ls3=[]\n",
        "for i in train_data['Date received']:\n",
        "  x = datetime.date(i)\n",
        "  ls1.append(x.month)\n",
        "  ls2.append(x.day)\n",
        "  ls3.append(x.year)\n",
        "mn=pd.Series(ls1)\n",
        "dy=pd.Series(ls2)\n",
        "yr=pd.Series(ls3)\n",
        "train_data[\"Month\"]=mn\n",
        "train_data[\"Day\"]=dy\n",
        "train_data[\"Year\"]=yr"
      ]
    },
    {
      "cell_type": "code",
      "execution_count": 481,
      "metadata": {
        "id": "f8RtjjjEt70v"
      },
      "outputs": [],
      "source": [
        "ls1=[]\n",
        "ls2=[]\n",
        "ls3=[]\n",
        "for i in test_data['Date received']:\n",
        "  x = datetime.date(i)\n",
        "  ls1.append(x.month)\n",
        "  ls2.append(x.day)\n",
        "  ls3.append(x.year)\n",
        "mn=pd.Series(ls1)\n",
        "dy=pd.Series(ls2)\n",
        "yr=pd.Series(ls3)\n",
        "test_data[\"Month\"]=mn\n",
        "test_data[\"Day\"]=dy\n",
        "test_data[\"Year\"]=yr"
      ]
    },
    {
      "cell_type": "code",
      "execution_count": 482,
      "metadata": {
        "colab": {
          "base_uri": "https://localhost:8080/",
          "height": 355
        },
        "id": "NPHGH7MRuoGN",
        "outputId": "eeab5528-dd02-44c2-afe7-9b3b4bfe687f"
      },
      "outputs": [
        {
          "output_type": "execute_result",
          "data": {
            "text/plain": [
              "  Date received                  Product  \\\n",
              "0    2015-10-14         Credit reporting   \n",
              "1    2015-04-26  Bank account or service   \n",
              "2    2013-12-20              Credit card   \n",
              "3    2016-03-03          Debt collection   \n",
              "4    2015-01-30          Debt collection   \n",
              "\n",
              "                                    Issue  \\\n",
              "0  Incorrect information on credit report   \n",
              "1                Deposits and withdrawals   \n",
              "2                                   Other   \n",
              "3         Disclosure verification of debt   \n",
              "4         Disclosure verification of debt   \n",
              "\n",
              "                                     Company State ZIP code Submitted via  \\\n",
              "0                                    Equifax    GA    30134           Web   \n",
              "1                      Wells Fargo & Company    GA    319XX           Web   \n",
              "2                                   Citibank    SC    29203         Phone   \n",
              "3       FAIR COLLECTIONS & OUTSOURCING, INC.    OH    43082      Referral   \n",
              "4  HCFS Health Care Financial Services, Inc.    CA    90036           Web   \n",
              "\n",
              "  Date sent to company     Company response to consumer Timely response?  \\\n",
              "0           2015-10-14          Closed with explanation              Yes   \n",
              "1           2015-04-26          Closed with explanation              Yes   \n",
              "2           2014-01-03  Closed with non-monetary relief              Yes   \n",
              "3           2016-03-04          Closed with explanation              Yes   \n",
              "4           2015-01-30          Closed with explanation              Yes   \n",
              "\n",
              "  Consumer disputed?  Complaint ID  Month  Day  Year  \n",
              "0                 No       1605653     10   14  2015  \n",
              "1                Yes       1347613      4   26  2015  \n",
              "2                 No        640394     12   20  2013  \n",
              "3                 No       1815134      3    3  2016  \n",
              "4                Yes       1218613      1   30  2015  "
            ],
            "text/html": [
              "\n",
              "  <div id=\"df-8fc32dc3-bf4c-437d-a3dd-8d3ecde992fb\">\n",
              "    <div class=\"colab-df-container\">\n",
              "      <div>\n",
              "<style scoped>\n",
              "    .dataframe tbody tr th:only-of-type {\n",
              "        vertical-align: middle;\n",
              "    }\n",
              "\n",
              "    .dataframe tbody tr th {\n",
              "        vertical-align: top;\n",
              "    }\n",
              "\n",
              "    .dataframe thead th {\n",
              "        text-align: right;\n",
              "    }\n",
              "</style>\n",
              "<table border=\"1\" class=\"dataframe\">\n",
              "  <thead>\n",
              "    <tr style=\"text-align: right;\">\n",
              "      <th></th>\n",
              "      <th>Date received</th>\n",
              "      <th>Product</th>\n",
              "      <th>Issue</th>\n",
              "      <th>Company</th>\n",
              "      <th>State</th>\n",
              "      <th>ZIP code</th>\n",
              "      <th>Submitted via</th>\n",
              "      <th>Date sent to company</th>\n",
              "      <th>Company response to consumer</th>\n",
              "      <th>Timely response?</th>\n",
              "      <th>Consumer disputed?</th>\n",
              "      <th>Complaint ID</th>\n",
              "      <th>Month</th>\n",
              "      <th>Day</th>\n",
              "      <th>Year</th>\n",
              "    </tr>\n",
              "  </thead>\n",
              "  <tbody>\n",
              "    <tr>\n",
              "      <th>0</th>\n",
              "      <td>2015-10-14</td>\n",
              "      <td>Credit reporting</td>\n",
              "      <td>Incorrect information on credit report</td>\n",
              "      <td>Equifax</td>\n",
              "      <td>GA</td>\n",
              "      <td>30134</td>\n",
              "      <td>Web</td>\n",
              "      <td>2015-10-14</td>\n",
              "      <td>Closed with explanation</td>\n",
              "      <td>Yes</td>\n",
              "      <td>No</td>\n",
              "      <td>1605653</td>\n",
              "      <td>10</td>\n",
              "      <td>14</td>\n",
              "      <td>2015</td>\n",
              "    </tr>\n",
              "    <tr>\n",
              "      <th>1</th>\n",
              "      <td>2015-04-26</td>\n",
              "      <td>Bank account or service</td>\n",
              "      <td>Deposits and withdrawals</td>\n",
              "      <td>Wells Fargo &amp; Company</td>\n",
              "      <td>GA</td>\n",
              "      <td>319XX</td>\n",
              "      <td>Web</td>\n",
              "      <td>2015-04-26</td>\n",
              "      <td>Closed with explanation</td>\n",
              "      <td>Yes</td>\n",
              "      <td>Yes</td>\n",
              "      <td>1347613</td>\n",
              "      <td>4</td>\n",
              "      <td>26</td>\n",
              "      <td>2015</td>\n",
              "    </tr>\n",
              "    <tr>\n",
              "      <th>2</th>\n",
              "      <td>2013-12-20</td>\n",
              "      <td>Credit card</td>\n",
              "      <td>Other</td>\n",
              "      <td>Citibank</td>\n",
              "      <td>SC</td>\n",
              "      <td>29203</td>\n",
              "      <td>Phone</td>\n",
              "      <td>2014-01-03</td>\n",
              "      <td>Closed with non-monetary relief</td>\n",
              "      <td>Yes</td>\n",
              "      <td>No</td>\n",
              "      <td>640394</td>\n",
              "      <td>12</td>\n",
              "      <td>20</td>\n",
              "      <td>2013</td>\n",
              "    </tr>\n",
              "    <tr>\n",
              "      <th>3</th>\n",
              "      <td>2016-03-03</td>\n",
              "      <td>Debt collection</td>\n",
              "      <td>Disclosure verification of debt</td>\n",
              "      <td>FAIR COLLECTIONS &amp; OUTSOURCING, INC.</td>\n",
              "      <td>OH</td>\n",
              "      <td>43082</td>\n",
              "      <td>Referral</td>\n",
              "      <td>2016-03-04</td>\n",
              "      <td>Closed with explanation</td>\n",
              "      <td>Yes</td>\n",
              "      <td>No</td>\n",
              "      <td>1815134</td>\n",
              "      <td>3</td>\n",
              "      <td>3</td>\n",
              "      <td>2016</td>\n",
              "    </tr>\n",
              "    <tr>\n",
              "      <th>4</th>\n",
              "      <td>2015-01-30</td>\n",
              "      <td>Debt collection</td>\n",
              "      <td>Disclosure verification of debt</td>\n",
              "      <td>HCFS Health Care Financial Services, Inc.</td>\n",
              "      <td>CA</td>\n",
              "      <td>90036</td>\n",
              "      <td>Web</td>\n",
              "      <td>2015-01-30</td>\n",
              "      <td>Closed with explanation</td>\n",
              "      <td>Yes</td>\n",
              "      <td>Yes</td>\n",
              "      <td>1218613</td>\n",
              "      <td>1</td>\n",
              "      <td>30</td>\n",
              "      <td>2015</td>\n",
              "    </tr>\n",
              "  </tbody>\n",
              "</table>\n",
              "</div>\n",
              "      <button class=\"colab-df-convert\" onclick=\"convertToInteractive('df-8fc32dc3-bf4c-437d-a3dd-8d3ecde992fb')\"\n",
              "              title=\"Convert this dataframe to an interactive table.\"\n",
              "              style=\"display:none;\">\n",
              "        \n",
              "  <svg xmlns=\"http://www.w3.org/2000/svg\" height=\"24px\"viewBox=\"0 0 24 24\"\n",
              "       width=\"24px\">\n",
              "    <path d=\"M0 0h24v24H0V0z\" fill=\"none\"/>\n",
              "    <path d=\"M18.56 5.44l.94 2.06.94-2.06 2.06-.94-2.06-.94-.94-2.06-.94 2.06-2.06.94zm-11 1L8.5 8.5l.94-2.06 2.06-.94-2.06-.94L8.5 2.5l-.94 2.06-2.06.94zm10 10l.94 2.06.94-2.06 2.06-.94-2.06-.94-.94-2.06-.94 2.06-2.06.94z\"/><path d=\"M17.41 7.96l-1.37-1.37c-.4-.4-.92-.59-1.43-.59-.52 0-1.04.2-1.43.59L10.3 9.45l-7.72 7.72c-.78.78-.78 2.05 0 2.83L4 21.41c.39.39.9.59 1.41.59.51 0 1.02-.2 1.41-.59l7.78-7.78 2.81-2.81c.8-.78.8-2.07 0-2.86zM5.41 20L4 18.59l7.72-7.72 1.47 1.35L5.41 20z\"/>\n",
              "  </svg>\n",
              "      </button>\n",
              "      \n",
              "  <style>\n",
              "    .colab-df-container {\n",
              "      display:flex;\n",
              "      flex-wrap:wrap;\n",
              "      gap: 12px;\n",
              "    }\n",
              "\n",
              "    .colab-df-convert {\n",
              "      background-color: #E8F0FE;\n",
              "      border: none;\n",
              "      border-radius: 50%;\n",
              "      cursor: pointer;\n",
              "      display: none;\n",
              "      fill: #1967D2;\n",
              "      height: 32px;\n",
              "      padding: 0 0 0 0;\n",
              "      width: 32px;\n",
              "    }\n",
              "\n",
              "    .colab-df-convert:hover {\n",
              "      background-color: #E2EBFA;\n",
              "      box-shadow: 0px 1px 2px rgba(60, 64, 67, 0.3), 0px 1px 3px 1px rgba(60, 64, 67, 0.15);\n",
              "      fill: #174EA6;\n",
              "    }\n",
              "\n",
              "    [theme=dark] .colab-df-convert {\n",
              "      background-color: #3B4455;\n",
              "      fill: #D2E3FC;\n",
              "    }\n",
              "\n",
              "    [theme=dark] .colab-df-convert:hover {\n",
              "      background-color: #434B5C;\n",
              "      box-shadow: 0px 1px 3px 1px rgba(0, 0, 0, 0.15);\n",
              "      filter: drop-shadow(0px 1px 2px rgba(0, 0, 0, 0.3));\n",
              "      fill: #FFFFFF;\n",
              "    }\n",
              "  </style>\n",
              "\n",
              "      <script>\n",
              "        const buttonEl =\n",
              "          document.querySelector('#df-8fc32dc3-bf4c-437d-a3dd-8d3ecde992fb button.colab-df-convert');\n",
              "        buttonEl.style.display =\n",
              "          google.colab.kernel.accessAllowed ? 'block' : 'none';\n",
              "\n",
              "        async function convertToInteractive(key) {\n",
              "          const element = document.querySelector('#df-8fc32dc3-bf4c-437d-a3dd-8d3ecde992fb');\n",
              "          const dataTable =\n",
              "            await google.colab.kernel.invokeFunction('convertToInteractive',\n",
              "                                                     [key], {});\n",
              "          if (!dataTable) return;\n",
              "\n",
              "          const docLinkHtml = 'Like what you see? Visit the ' +\n",
              "            '<a target=\"_blank\" href=https://colab.research.google.com/notebooks/data_table.ipynb>data table notebook</a>'\n",
              "            + ' to learn more about interactive tables.';\n",
              "          element.innerHTML = '';\n",
              "          dataTable['output_type'] = 'display_data';\n",
              "          await google.colab.output.renderOutput(dataTable, element);\n",
              "          const docLink = document.createElement('div');\n",
              "          docLink.innerHTML = docLinkHtml;\n",
              "          element.appendChild(docLink);\n",
              "        }\n",
              "      </script>\n",
              "    </div>\n",
              "  </div>\n",
              "  "
            ]
          },
          "metadata": {},
          "execution_count": 482
        }
      ],
      "source": [
        "train_data.head()"
      ]
    },
    {
      "cell_type": "code",
      "execution_count": 483,
      "metadata": {
        "colab": {
          "base_uri": "https://localhost:8080/",
          "height": 320
        },
        "id": "foJ-G-ugvAdb",
        "outputId": "e2e5befe-b2f1-48ff-8b46-634cdb9c3e6d"
      },
      "outputs": [
        {
          "output_type": "execute_result",
          "data": {
            "text/plain": [
              "  Date received          Product                                  Issue  \\\n",
              "0    2015-01-17      Credit card  Customer service / Customer relations   \n",
              "1    2016-06-22    Consumer Loan           Payment to acct not credited   \n",
              "2    2015-09-04      Credit card          Credit line increase/decrease   \n",
              "3    2016-05-17    Consumer Loan    Problems when you are unable to pay   \n",
              "4    2016-07-07  Debt collection    Improper contact or sharing of info   \n",
              "\n",
              "                            Company State ZIP code Submitted via  \\\n",
              "0                          Citibank    TX    75241           Web   \n",
              "1  Larsen MacColl Partners II, L.P.    TX    76548         Phone   \n",
              "2                       Capital One    NC    271XX           Web   \n",
              "3   OneMain Financial Holdings, LLC    MO    634XX           Web   \n",
              "4              GMA Investments, LLC    SC    296XX           Web   \n",
              "\n",
              "  Date sent to company     Company response to consumer Timely response?  \\\n",
              "0           2015-01-17      Closed with monetary relief              Yes   \n",
              "1           2016-06-22          Closed with explanation              Yes   \n",
              "2           2015-09-04          Closed with explanation              Yes   \n",
              "3           2016-05-20  Closed with non-monetary relief              Yes   \n",
              "4           2016-07-07          Closed with explanation              Yes   \n",
              "\n",
              "   Complaint ID  Month  Day  Year  \n",
              "0       1198133      1   17  2015  \n",
              "1       1979989      6   22  2016  \n",
              "2       1552090      9    4  2015  \n",
              "3       1929306      5   17  2016  \n",
              "4       2001667      7    7  2016  "
            ],
            "text/html": [
              "\n",
              "  <div id=\"df-f289235d-866d-4976-be06-be4c03e82410\">\n",
              "    <div class=\"colab-df-container\">\n",
              "      <div>\n",
              "<style scoped>\n",
              "    .dataframe tbody tr th:only-of-type {\n",
              "        vertical-align: middle;\n",
              "    }\n",
              "\n",
              "    .dataframe tbody tr th {\n",
              "        vertical-align: top;\n",
              "    }\n",
              "\n",
              "    .dataframe thead th {\n",
              "        text-align: right;\n",
              "    }\n",
              "</style>\n",
              "<table border=\"1\" class=\"dataframe\">\n",
              "  <thead>\n",
              "    <tr style=\"text-align: right;\">\n",
              "      <th></th>\n",
              "      <th>Date received</th>\n",
              "      <th>Product</th>\n",
              "      <th>Issue</th>\n",
              "      <th>Company</th>\n",
              "      <th>State</th>\n",
              "      <th>ZIP code</th>\n",
              "      <th>Submitted via</th>\n",
              "      <th>Date sent to company</th>\n",
              "      <th>Company response to consumer</th>\n",
              "      <th>Timely response?</th>\n",
              "      <th>Complaint ID</th>\n",
              "      <th>Month</th>\n",
              "      <th>Day</th>\n",
              "      <th>Year</th>\n",
              "    </tr>\n",
              "  </thead>\n",
              "  <tbody>\n",
              "    <tr>\n",
              "      <th>0</th>\n",
              "      <td>2015-01-17</td>\n",
              "      <td>Credit card</td>\n",
              "      <td>Customer service / Customer relations</td>\n",
              "      <td>Citibank</td>\n",
              "      <td>TX</td>\n",
              "      <td>75241</td>\n",
              "      <td>Web</td>\n",
              "      <td>2015-01-17</td>\n",
              "      <td>Closed with monetary relief</td>\n",
              "      <td>Yes</td>\n",
              "      <td>1198133</td>\n",
              "      <td>1</td>\n",
              "      <td>17</td>\n",
              "      <td>2015</td>\n",
              "    </tr>\n",
              "    <tr>\n",
              "      <th>1</th>\n",
              "      <td>2016-06-22</td>\n",
              "      <td>Consumer Loan</td>\n",
              "      <td>Payment to acct not credited</td>\n",
              "      <td>Larsen MacColl Partners II, L.P.</td>\n",
              "      <td>TX</td>\n",
              "      <td>76548</td>\n",
              "      <td>Phone</td>\n",
              "      <td>2016-06-22</td>\n",
              "      <td>Closed with explanation</td>\n",
              "      <td>Yes</td>\n",
              "      <td>1979989</td>\n",
              "      <td>6</td>\n",
              "      <td>22</td>\n",
              "      <td>2016</td>\n",
              "    </tr>\n",
              "    <tr>\n",
              "      <th>2</th>\n",
              "      <td>2015-09-04</td>\n",
              "      <td>Credit card</td>\n",
              "      <td>Credit line increase/decrease</td>\n",
              "      <td>Capital One</td>\n",
              "      <td>NC</td>\n",
              "      <td>271XX</td>\n",
              "      <td>Web</td>\n",
              "      <td>2015-09-04</td>\n",
              "      <td>Closed with explanation</td>\n",
              "      <td>Yes</td>\n",
              "      <td>1552090</td>\n",
              "      <td>9</td>\n",
              "      <td>4</td>\n",
              "      <td>2015</td>\n",
              "    </tr>\n",
              "    <tr>\n",
              "      <th>3</th>\n",
              "      <td>2016-05-17</td>\n",
              "      <td>Consumer Loan</td>\n",
              "      <td>Problems when you are unable to pay</td>\n",
              "      <td>OneMain Financial Holdings, LLC</td>\n",
              "      <td>MO</td>\n",
              "      <td>634XX</td>\n",
              "      <td>Web</td>\n",
              "      <td>2016-05-20</td>\n",
              "      <td>Closed with non-monetary relief</td>\n",
              "      <td>Yes</td>\n",
              "      <td>1929306</td>\n",
              "      <td>5</td>\n",
              "      <td>17</td>\n",
              "      <td>2016</td>\n",
              "    </tr>\n",
              "    <tr>\n",
              "      <th>4</th>\n",
              "      <td>2016-07-07</td>\n",
              "      <td>Debt collection</td>\n",
              "      <td>Improper contact or sharing of info</td>\n",
              "      <td>GMA Investments, LLC</td>\n",
              "      <td>SC</td>\n",
              "      <td>296XX</td>\n",
              "      <td>Web</td>\n",
              "      <td>2016-07-07</td>\n",
              "      <td>Closed with explanation</td>\n",
              "      <td>Yes</td>\n",
              "      <td>2001667</td>\n",
              "      <td>7</td>\n",
              "      <td>7</td>\n",
              "      <td>2016</td>\n",
              "    </tr>\n",
              "  </tbody>\n",
              "</table>\n",
              "</div>\n",
              "      <button class=\"colab-df-convert\" onclick=\"convertToInteractive('df-f289235d-866d-4976-be06-be4c03e82410')\"\n",
              "              title=\"Convert this dataframe to an interactive table.\"\n",
              "              style=\"display:none;\">\n",
              "        \n",
              "  <svg xmlns=\"http://www.w3.org/2000/svg\" height=\"24px\"viewBox=\"0 0 24 24\"\n",
              "       width=\"24px\">\n",
              "    <path d=\"M0 0h24v24H0V0z\" fill=\"none\"/>\n",
              "    <path d=\"M18.56 5.44l.94 2.06.94-2.06 2.06-.94-2.06-.94-.94-2.06-.94 2.06-2.06.94zm-11 1L8.5 8.5l.94-2.06 2.06-.94-2.06-.94L8.5 2.5l-.94 2.06-2.06.94zm10 10l.94 2.06.94-2.06 2.06-.94-2.06-.94-.94-2.06-.94 2.06-2.06.94z\"/><path d=\"M17.41 7.96l-1.37-1.37c-.4-.4-.92-.59-1.43-.59-.52 0-1.04.2-1.43.59L10.3 9.45l-7.72 7.72c-.78.78-.78 2.05 0 2.83L4 21.41c.39.39.9.59 1.41.59.51 0 1.02-.2 1.41-.59l7.78-7.78 2.81-2.81c.8-.78.8-2.07 0-2.86zM5.41 20L4 18.59l7.72-7.72 1.47 1.35L5.41 20z\"/>\n",
              "  </svg>\n",
              "      </button>\n",
              "      \n",
              "  <style>\n",
              "    .colab-df-container {\n",
              "      display:flex;\n",
              "      flex-wrap:wrap;\n",
              "      gap: 12px;\n",
              "    }\n",
              "\n",
              "    .colab-df-convert {\n",
              "      background-color: #E8F0FE;\n",
              "      border: none;\n",
              "      border-radius: 50%;\n",
              "      cursor: pointer;\n",
              "      display: none;\n",
              "      fill: #1967D2;\n",
              "      height: 32px;\n",
              "      padding: 0 0 0 0;\n",
              "      width: 32px;\n",
              "    }\n",
              "\n",
              "    .colab-df-convert:hover {\n",
              "      background-color: #E2EBFA;\n",
              "      box-shadow: 0px 1px 2px rgba(60, 64, 67, 0.3), 0px 1px 3px 1px rgba(60, 64, 67, 0.15);\n",
              "      fill: #174EA6;\n",
              "    }\n",
              "\n",
              "    [theme=dark] .colab-df-convert {\n",
              "      background-color: #3B4455;\n",
              "      fill: #D2E3FC;\n",
              "    }\n",
              "\n",
              "    [theme=dark] .colab-df-convert:hover {\n",
              "      background-color: #434B5C;\n",
              "      box-shadow: 0px 1px 3px 1px rgba(0, 0, 0, 0.15);\n",
              "      filter: drop-shadow(0px 1px 2px rgba(0, 0, 0, 0.3));\n",
              "      fill: #FFFFFF;\n",
              "    }\n",
              "  </style>\n",
              "\n",
              "      <script>\n",
              "        const buttonEl =\n",
              "          document.querySelector('#df-f289235d-866d-4976-be06-be4c03e82410 button.colab-df-convert');\n",
              "        buttonEl.style.display =\n",
              "          google.colab.kernel.accessAllowed ? 'block' : 'none';\n",
              "\n",
              "        async function convertToInteractive(key) {\n",
              "          const element = document.querySelector('#df-f289235d-866d-4976-be06-be4c03e82410');\n",
              "          const dataTable =\n",
              "            await google.colab.kernel.invokeFunction('convertToInteractive',\n",
              "                                                     [key], {});\n",
              "          if (!dataTable) return;\n",
              "\n",
              "          const docLinkHtml = 'Like what you see? Visit the ' +\n",
              "            '<a target=\"_blank\" href=https://colab.research.google.com/notebooks/data_table.ipynb>data table notebook</a>'\n",
              "            + ' to learn more about interactive tables.';\n",
              "          element.innerHTML = '';\n",
              "          dataTable['output_type'] = 'display_data';\n",
              "          await google.colab.output.renderOutput(dataTable, element);\n",
              "          const docLink = document.createElement('div');\n",
              "          docLink.innerHTML = docLinkHtml;\n",
              "          element.appendChild(docLink);\n",
              "        }\n",
              "      </script>\n",
              "    </div>\n",
              "  </div>\n",
              "  "
            ]
          },
          "metadata": {},
          "execution_count": 483
        }
      ],
      "source": [
        "test_data.head()"
      ]
    },
    {
      "cell_type": "markdown",
      "metadata": {
        "id": "bDzo8Q5HpoqN"
      },
      "source": [
        "Convert dates from object type to datetime type"
      ]
    },
    {
      "cell_type": "code",
      "execution_count": 484,
      "metadata": {
        "id": "D-rUlAE3poqN"
      },
      "outputs": [],
      "source": [
        "train_data['Date received']= pd.to_datetime(train_data['Date received'])\n",
        "test_data['Date received']= pd.to_datetime(test_data['Date received'])\n",
        "train_data['Date sent to company']= pd.to_datetime(train_data['Date sent to company'])\n",
        "test_data['Date sent to company']= pd.to_datetime(test_data['Date sent to company'])"
      ]
    },
    {
      "cell_type": "markdown",
      "metadata": {
        "id": "C7ZhXjgWpoqO"
      },
      "source": [
        "Calculate the number of days the complaint was with the company\n",
        "\n",
        "create new field with help given logic<br>\n",
        "Like, Days held = Date sent to company - Date received"
      ]
    },
    {
      "cell_type": "code",
      "execution_count": 485,
      "metadata": {
        "id": "1tZ5kgp5poqO"
      },
      "outputs": [],
      "source": [
        "train_data[\"Days held\"]=train_data[\"Date sent to company\"]-train_data[\"Date received\"]\n",
        "test_data[\"Days held\"]=test_data[\"Date sent to company\"]-test_data[\"Date received\"]"
      ]
    },
    {
      "cell_type": "markdown",
      "metadata": {
        "id": "NU-KOCtopoqO"
      },
      "source": [
        "Convert \"Days Held\" to Int(above column)"
      ]
    },
    {
      "cell_type": "code",
      "execution_count": 486,
      "metadata": {
        "colab": {
          "base_uri": "https://localhost:8080/"
        },
        "id": "mYixr98bpoqP",
        "outputId": "f21fd4c5-0168-4c12-becf-1c5f692c99d6"
      },
      "outputs": [
        {
          "output_type": "execute_result",
          "data": {
            "text/plain": [
              "0                       0\n",
              "1                       0\n",
              "2                       0\n",
              "3         259200000000000\n",
              "4                       0\n",
              "               ...       \n",
              "119601                  0\n",
              "119602     86400000000000\n",
              "119603                  0\n",
              "119604                  0\n",
              "119605                  0\n",
              "Name: Days held, Length: 119606, dtype: int64"
            ]
          },
          "metadata": {},
          "execution_count": 486
        }
      ],
      "source": [
        "train_data[\"Days held\"].astype(\"int\")\n",
        "test_data[\"Days held\"].astype(\"int\")"
      ]
    },
    {
      "cell_type": "code",
      "execution_count": 487,
      "metadata": {
        "colab": {
          "base_uri": "https://localhost:8080/"
        },
        "id": "Pytwt34mxj1v",
        "outputId": "7b32f2be-5be5-4cd9-8153-9f374d4cf88b"
      },
      "outputs": [
        {
          "output_type": "stream",
          "name": "stdout",
          "text": [
            "<class 'pandas.core.frame.DataFrame'>\n",
            "RangeIndex: 358810 entries, 0 to 358809\n",
            "Data columns (total 16 columns):\n",
            " #   Column                        Non-Null Count   Dtype          \n",
            "---  ------                        --------------   -----          \n",
            " 0   Date received                 358810 non-null  datetime64[ns] \n",
            " 1   Product                       358810 non-null  object         \n",
            " 2   Issue                         358810 non-null  object         \n",
            " 3   Company                       358810 non-null  object         \n",
            " 4   State                         355907 non-null  object         \n",
            " 5   ZIP code                      355899 non-null  object         \n",
            " 6   Submitted via                 358810 non-null  object         \n",
            " 7   Date sent to company          358810 non-null  datetime64[ns] \n",
            " 8   Company response to consumer  358810 non-null  object         \n",
            " 9   Timely response?              358810 non-null  object         \n",
            " 10  Consumer disputed?            358810 non-null  object         \n",
            " 11  Complaint ID                  358810 non-null  int64          \n",
            " 12  Month                         358810 non-null  int64          \n",
            " 13  Day                           358810 non-null  int64          \n",
            " 14  Year                          358810 non-null  int64          \n",
            " 15  Days held                     358810 non-null  timedelta64[ns]\n",
            "dtypes: datetime64[ns](2), int64(4), object(9), timedelta64[ns](1)\n",
            "memory usage: 43.8+ MB\n"
          ]
        }
      ],
      "source": [
        "train_data.info()"
      ]
    },
    {
      "cell_type": "markdown",
      "metadata": {
        "id": "0HQaa_05poqP"
      },
      "source": [
        "Drop \"Date Received\",\"Date Sent to Company\",\"ZIP Code\", \"Complaint ID\""
      ]
    },
    {
      "cell_type": "code",
      "execution_count": 488,
      "metadata": {
        "id": "T9WmzyvmpoqQ"
      },
      "outputs": [],
      "source": [
        "train_data=train_data.drop(columns=[\"Date received\",\"Date sent to company\",\"ZIP code\", \"Complaint ID\"])\n",
        "test_data=test_data.drop(columns=[\"Date received\",\"Date sent to company\",\"ZIP code\", \"Complaint ID\"])"
      ]
    },
    {
      "cell_type": "code",
      "execution_count": 489,
      "metadata": {
        "colab": {
          "base_uri": "https://localhost:8080/",
          "height": 424
        },
        "id": "47gG6EJvzeRJ",
        "outputId": "d1ea4770-ca5f-40d8-e938-635416574845"
      },
      "outputs": [
        {
          "output_type": "execute_result",
          "data": {
            "text/plain": [
              "                 Product                                     Issue  \\\n",
              "0            Credit card     Customer service / Customer relations   \n",
              "1          Consumer Loan              Payment to acct not credited   \n",
              "2            Credit card             Credit line increase/decrease   \n",
              "3          Consumer Loan       Problems when you are unable to pay   \n",
              "4        Debt collection       Improper contact or sharing of info   \n",
              "...                  ...                                       ...   \n",
              "119601       Credit card                      Credit determination   \n",
              "119602       Credit card                          Balance transfer   \n",
              "119603          Mortgage  Loan modification,collection,foreclosure   \n",
              "119604  Credit reporting    Incorrect information on credit report   \n",
              "119605   Debt collection                     Communication tactics   \n",
              "\n",
              "                                 Company State Submitted via  \\\n",
              "0                               Citibank    TX           Web   \n",
              "1       Larsen MacColl Partners II, L.P.    TX         Phone   \n",
              "2                            Capital One    NC           Web   \n",
              "3        OneMain Financial Holdings, LLC    MO           Web   \n",
              "4                   GMA Investments, LLC    SC           Web   \n",
              "...                                  ...   ...           ...   \n",
              "119601                          Citibank    IL           Web   \n",
              "119602                       Capital One    KS           Web   \n",
              "119603                   Bank of America    CA      Referral   \n",
              "119604                          Experian    OH           Web   \n",
              "119605             Northland Group, Inc.    FL           Web   \n",
              "\n",
              "           Company response to consumer Timely response?  Month  Day  Year  \\\n",
              "0           Closed with monetary relief              Yes      1   17  2015   \n",
              "1               Closed with explanation              Yes      6   22  2016   \n",
              "2               Closed with explanation              Yes      9    4  2015   \n",
              "3       Closed with non-monetary relief              Yes      5   17  2016   \n",
              "4               Closed with explanation              Yes      7    7  2016   \n",
              "...                                 ...              ...    ...  ...   ...   \n",
              "119601          Closed with explanation              Yes      2    9  2015   \n",
              "119602          Closed with explanation              Yes     11   13  2012   \n",
              "119603            Closed without relief              Yes      5   15  2012   \n",
              "119604          Closed with explanation              Yes      6    7  2015   \n",
              "119605          Closed with explanation              Yes      3   20  2015   \n",
              "\n",
              "       Days held  \n",
              "0         0 days  \n",
              "1         0 days  \n",
              "2         0 days  \n",
              "3         3 days  \n",
              "4         0 days  \n",
              "...          ...  \n",
              "119601    0 days  \n",
              "119602    1 days  \n",
              "119603    0 days  \n",
              "119604    0 days  \n",
              "119605    0 days  \n",
              "\n",
              "[119606 rows x 11 columns]"
            ],
            "text/html": [
              "\n",
              "  <div id=\"df-6f07d893-b46b-48a2-9bc2-e7ce9f67883e\">\n",
              "    <div class=\"colab-df-container\">\n",
              "      <div>\n",
              "<style scoped>\n",
              "    .dataframe tbody tr th:only-of-type {\n",
              "        vertical-align: middle;\n",
              "    }\n",
              "\n",
              "    .dataframe tbody tr th {\n",
              "        vertical-align: top;\n",
              "    }\n",
              "\n",
              "    .dataframe thead th {\n",
              "        text-align: right;\n",
              "    }\n",
              "</style>\n",
              "<table border=\"1\" class=\"dataframe\">\n",
              "  <thead>\n",
              "    <tr style=\"text-align: right;\">\n",
              "      <th></th>\n",
              "      <th>Product</th>\n",
              "      <th>Issue</th>\n",
              "      <th>Company</th>\n",
              "      <th>State</th>\n",
              "      <th>Submitted via</th>\n",
              "      <th>Company response to consumer</th>\n",
              "      <th>Timely response?</th>\n",
              "      <th>Month</th>\n",
              "      <th>Day</th>\n",
              "      <th>Year</th>\n",
              "      <th>Days held</th>\n",
              "    </tr>\n",
              "  </thead>\n",
              "  <tbody>\n",
              "    <tr>\n",
              "      <th>0</th>\n",
              "      <td>Credit card</td>\n",
              "      <td>Customer service / Customer relations</td>\n",
              "      <td>Citibank</td>\n",
              "      <td>TX</td>\n",
              "      <td>Web</td>\n",
              "      <td>Closed with monetary relief</td>\n",
              "      <td>Yes</td>\n",
              "      <td>1</td>\n",
              "      <td>17</td>\n",
              "      <td>2015</td>\n",
              "      <td>0 days</td>\n",
              "    </tr>\n",
              "    <tr>\n",
              "      <th>1</th>\n",
              "      <td>Consumer Loan</td>\n",
              "      <td>Payment to acct not credited</td>\n",
              "      <td>Larsen MacColl Partners II, L.P.</td>\n",
              "      <td>TX</td>\n",
              "      <td>Phone</td>\n",
              "      <td>Closed with explanation</td>\n",
              "      <td>Yes</td>\n",
              "      <td>6</td>\n",
              "      <td>22</td>\n",
              "      <td>2016</td>\n",
              "      <td>0 days</td>\n",
              "    </tr>\n",
              "    <tr>\n",
              "      <th>2</th>\n",
              "      <td>Credit card</td>\n",
              "      <td>Credit line increase/decrease</td>\n",
              "      <td>Capital One</td>\n",
              "      <td>NC</td>\n",
              "      <td>Web</td>\n",
              "      <td>Closed with explanation</td>\n",
              "      <td>Yes</td>\n",
              "      <td>9</td>\n",
              "      <td>4</td>\n",
              "      <td>2015</td>\n",
              "      <td>0 days</td>\n",
              "    </tr>\n",
              "    <tr>\n",
              "      <th>3</th>\n",
              "      <td>Consumer Loan</td>\n",
              "      <td>Problems when you are unable to pay</td>\n",
              "      <td>OneMain Financial Holdings, LLC</td>\n",
              "      <td>MO</td>\n",
              "      <td>Web</td>\n",
              "      <td>Closed with non-monetary relief</td>\n",
              "      <td>Yes</td>\n",
              "      <td>5</td>\n",
              "      <td>17</td>\n",
              "      <td>2016</td>\n",
              "      <td>3 days</td>\n",
              "    </tr>\n",
              "    <tr>\n",
              "      <th>4</th>\n",
              "      <td>Debt collection</td>\n",
              "      <td>Improper contact or sharing of info</td>\n",
              "      <td>GMA Investments, LLC</td>\n",
              "      <td>SC</td>\n",
              "      <td>Web</td>\n",
              "      <td>Closed with explanation</td>\n",
              "      <td>Yes</td>\n",
              "      <td>7</td>\n",
              "      <td>7</td>\n",
              "      <td>2016</td>\n",
              "      <td>0 days</td>\n",
              "    </tr>\n",
              "    <tr>\n",
              "      <th>...</th>\n",
              "      <td>...</td>\n",
              "      <td>...</td>\n",
              "      <td>...</td>\n",
              "      <td>...</td>\n",
              "      <td>...</td>\n",
              "      <td>...</td>\n",
              "      <td>...</td>\n",
              "      <td>...</td>\n",
              "      <td>...</td>\n",
              "      <td>...</td>\n",
              "      <td>...</td>\n",
              "    </tr>\n",
              "    <tr>\n",
              "      <th>119601</th>\n",
              "      <td>Credit card</td>\n",
              "      <td>Credit determination</td>\n",
              "      <td>Citibank</td>\n",
              "      <td>IL</td>\n",
              "      <td>Web</td>\n",
              "      <td>Closed with explanation</td>\n",
              "      <td>Yes</td>\n",
              "      <td>2</td>\n",
              "      <td>9</td>\n",
              "      <td>2015</td>\n",
              "      <td>0 days</td>\n",
              "    </tr>\n",
              "    <tr>\n",
              "      <th>119602</th>\n",
              "      <td>Credit card</td>\n",
              "      <td>Balance transfer</td>\n",
              "      <td>Capital One</td>\n",
              "      <td>KS</td>\n",
              "      <td>Web</td>\n",
              "      <td>Closed with explanation</td>\n",
              "      <td>Yes</td>\n",
              "      <td>11</td>\n",
              "      <td>13</td>\n",
              "      <td>2012</td>\n",
              "      <td>1 days</td>\n",
              "    </tr>\n",
              "    <tr>\n",
              "      <th>119603</th>\n",
              "      <td>Mortgage</td>\n",
              "      <td>Loan modification,collection,foreclosure</td>\n",
              "      <td>Bank of America</td>\n",
              "      <td>CA</td>\n",
              "      <td>Referral</td>\n",
              "      <td>Closed without relief</td>\n",
              "      <td>Yes</td>\n",
              "      <td>5</td>\n",
              "      <td>15</td>\n",
              "      <td>2012</td>\n",
              "      <td>0 days</td>\n",
              "    </tr>\n",
              "    <tr>\n",
              "      <th>119604</th>\n",
              "      <td>Credit reporting</td>\n",
              "      <td>Incorrect information on credit report</td>\n",
              "      <td>Experian</td>\n",
              "      <td>OH</td>\n",
              "      <td>Web</td>\n",
              "      <td>Closed with explanation</td>\n",
              "      <td>Yes</td>\n",
              "      <td>6</td>\n",
              "      <td>7</td>\n",
              "      <td>2015</td>\n",
              "      <td>0 days</td>\n",
              "    </tr>\n",
              "    <tr>\n",
              "      <th>119605</th>\n",
              "      <td>Debt collection</td>\n",
              "      <td>Communication tactics</td>\n",
              "      <td>Northland Group, Inc.</td>\n",
              "      <td>FL</td>\n",
              "      <td>Web</td>\n",
              "      <td>Closed with explanation</td>\n",
              "      <td>Yes</td>\n",
              "      <td>3</td>\n",
              "      <td>20</td>\n",
              "      <td>2015</td>\n",
              "      <td>0 days</td>\n",
              "    </tr>\n",
              "  </tbody>\n",
              "</table>\n",
              "<p>119606 rows × 11 columns</p>\n",
              "</div>\n",
              "      <button class=\"colab-df-convert\" onclick=\"convertToInteractive('df-6f07d893-b46b-48a2-9bc2-e7ce9f67883e')\"\n",
              "              title=\"Convert this dataframe to an interactive table.\"\n",
              "              style=\"display:none;\">\n",
              "        \n",
              "  <svg xmlns=\"http://www.w3.org/2000/svg\" height=\"24px\"viewBox=\"0 0 24 24\"\n",
              "       width=\"24px\">\n",
              "    <path d=\"M0 0h24v24H0V0z\" fill=\"none\"/>\n",
              "    <path d=\"M18.56 5.44l.94 2.06.94-2.06 2.06-.94-2.06-.94-.94-2.06-.94 2.06-2.06.94zm-11 1L8.5 8.5l.94-2.06 2.06-.94-2.06-.94L8.5 2.5l-.94 2.06-2.06.94zm10 10l.94 2.06.94-2.06 2.06-.94-2.06-.94-.94-2.06-.94 2.06-2.06.94z\"/><path d=\"M17.41 7.96l-1.37-1.37c-.4-.4-.92-.59-1.43-.59-.52 0-1.04.2-1.43.59L10.3 9.45l-7.72 7.72c-.78.78-.78 2.05 0 2.83L4 21.41c.39.39.9.59 1.41.59.51 0 1.02-.2 1.41-.59l7.78-7.78 2.81-2.81c.8-.78.8-2.07 0-2.86zM5.41 20L4 18.59l7.72-7.72 1.47 1.35L5.41 20z\"/>\n",
              "  </svg>\n",
              "      </button>\n",
              "      \n",
              "  <style>\n",
              "    .colab-df-container {\n",
              "      display:flex;\n",
              "      flex-wrap:wrap;\n",
              "      gap: 12px;\n",
              "    }\n",
              "\n",
              "    .colab-df-convert {\n",
              "      background-color: #E8F0FE;\n",
              "      border: none;\n",
              "      border-radius: 50%;\n",
              "      cursor: pointer;\n",
              "      display: none;\n",
              "      fill: #1967D2;\n",
              "      height: 32px;\n",
              "      padding: 0 0 0 0;\n",
              "      width: 32px;\n",
              "    }\n",
              "\n",
              "    .colab-df-convert:hover {\n",
              "      background-color: #E2EBFA;\n",
              "      box-shadow: 0px 1px 2px rgba(60, 64, 67, 0.3), 0px 1px 3px 1px rgba(60, 64, 67, 0.15);\n",
              "      fill: #174EA6;\n",
              "    }\n",
              "\n",
              "    [theme=dark] .colab-df-convert {\n",
              "      background-color: #3B4455;\n",
              "      fill: #D2E3FC;\n",
              "    }\n",
              "\n",
              "    [theme=dark] .colab-df-convert:hover {\n",
              "      background-color: #434B5C;\n",
              "      box-shadow: 0px 1px 3px 1px rgba(0, 0, 0, 0.15);\n",
              "      filter: drop-shadow(0px 1px 2px rgba(0, 0, 0, 0.3));\n",
              "      fill: #FFFFFF;\n",
              "    }\n",
              "  </style>\n",
              "\n",
              "      <script>\n",
              "        const buttonEl =\n",
              "          document.querySelector('#df-6f07d893-b46b-48a2-9bc2-e7ce9f67883e button.colab-df-convert');\n",
              "        buttonEl.style.display =\n",
              "          google.colab.kernel.accessAllowed ? 'block' : 'none';\n",
              "\n",
              "        async function convertToInteractive(key) {\n",
              "          const element = document.querySelector('#df-6f07d893-b46b-48a2-9bc2-e7ce9f67883e');\n",
              "          const dataTable =\n",
              "            await google.colab.kernel.invokeFunction('convertToInteractive',\n",
              "                                                     [key], {});\n",
              "          if (!dataTable) return;\n",
              "\n",
              "          const docLinkHtml = 'Like what you see? Visit the ' +\n",
              "            '<a target=\"_blank\" href=https://colab.research.google.com/notebooks/data_table.ipynb>data table notebook</a>'\n",
              "            + ' to learn more about interactive tables.';\n",
              "          element.innerHTML = '';\n",
              "          dataTable['output_type'] = 'display_data';\n",
              "          await google.colab.output.renderOutput(dataTable, element);\n",
              "          const docLink = document.createElement('div');\n",
              "          docLink.innerHTML = docLinkHtml;\n",
              "          element.appendChild(docLink);\n",
              "        }\n",
              "      </script>\n",
              "    </div>\n",
              "  </div>\n",
              "  "
            ]
          },
          "metadata": {},
          "execution_count": 489
        }
      ],
      "source": [
        "test_data"
      ]
    },
    {
      "cell_type": "markdown",
      "metadata": {
        "id": "fXrMeXGGpoqQ"
      },
      "source": [
        "Impute null values in \"State\" by Mode \n",
        "(find mode and replace nan value)"
      ]
    },
    {
      "cell_type": "code",
      "execution_count": 490,
      "metadata": {
        "colab": {
          "base_uri": "https://localhost:8080/"
        },
        "id": "TjjMPXWM4sZP",
        "outputId": "e9182f91-d8a1-4fc5-a188-5a929b50ed69"
      },
      "outputs": [
        {
          "output_type": "execute_result",
          "data": {
            "text/plain": [
              "0    CA\n",
              "dtype: object"
            ]
          },
          "metadata": {},
          "execution_count": 490
        }
      ],
      "source": [
        "train_data.State.mode()"
      ]
    },
    {
      "cell_type": "code",
      "execution_count": 491,
      "metadata": {
        "id": "2E50Tq6qpoqQ"
      },
      "outputs": [],
      "source": [
        "train_data.State.fillna(\"CA\",inplace=True)\n",
        "test_data.State.fillna(\"CA\",inplace=True)"
      ]
    },
    {
      "cell_type": "markdown",
      "metadata": {
        "id": "TDDfIGddpoqR"
      },
      "source": [
        "Check Missing Values in the dataset"
      ]
    },
    {
      "cell_type": "code",
      "execution_count": 492,
      "metadata": {
        "colab": {
          "base_uri": "https://localhost:8080/"
        },
        "id": "9lHuVu79poqR",
        "outputId": "2263ca18-5a54-4084-d354-0a06c31109f6"
      },
      "outputs": [
        {
          "output_type": "execute_result",
          "data": {
            "text/plain": [
              "Product                         0\n",
              "Issue                           0\n",
              "Company                         0\n",
              "State                           0\n",
              "Submitted via                   0\n",
              "Company response to consumer    0\n",
              "Timely response?                0\n",
              "Consumer disputed?              0\n",
              "Month                           0\n",
              "Day                             0\n",
              "Year                            0\n",
              "Days held                       0\n",
              "dtype: int64"
            ]
          },
          "metadata": {},
          "execution_count": 492
        }
      ],
      "source": [
        "train_data.isnull().sum()"
      ]
    },
    {
      "cell_type": "markdown",
      "metadata": {
        "id": "M0EPXTRWpoqR"
      },
      "source": [
        "Categorize Days into Weeks with the help of 'Days Received'"
      ]
    },
    {
      "cell_type": "code",
      "execution_count": 493,
      "metadata": {
        "id": "zr7y3qkCpoqS"
      },
      "outputs": [],
      "source": [
        "def Week(ch):\n",
        "  if(ch>28):\n",
        "    return 5\n",
        "  elif(ch>21):\n",
        "    return 4\n",
        "  elif(ch>14):\n",
        "    return 3\n",
        "  elif(ch>7):\n",
        "    return 2\n",
        "  else:\n",
        "    return 1\n"
      ]
    },
    {
      "cell_type": "code",
      "execution_count": 494,
      "metadata": {
        "id": "2cvjPieH1NrR"
      },
      "outputs": [],
      "source": [
        "train_data['week']=train_data.apply(lambda x:Week(x['Day']),axis=1)\n",
        "test_data['week']=test_data.apply(lambda x:Week(x['Day']),axis=1)"
      ]
    },
    {
      "cell_type": "markdown",
      "metadata": {
        "id": "FUZBAfyopoqS"
      },
      "source": [
        "Drop \"Day_Received\" column"
      ]
    },
    {
      "cell_type": "code",
      "execution_count": 495,
      "metadata": {
        "id": "A5ka68OnpoqT"
      },
      "outputs": [],
      "source": [
        "train_data=train_data.drop(columns=\"Day\")\n",
        "test_data=test_data.drop(columns=\"Day\")"
      ]
    },
    {
      "cell_type": "markdown",
      "metadata": {
        "id": "tYdZ9SulpoqT"
      },
      "source": [
        "Print head of train and test dataset and observe"
      ]
    },
    {
      "cell_type": "code",
      "execution_count": 496,
      "metadata": {
        "colab": {
          "base_uri": "https://localhost:8080/",
          "height": 206
        },
        "id": "Njal7vDbpoqT",
        "outputId": "ef0b3e47-273e-4985-b952-2d572c5a4dde"
      },
      "outputs": [
        {
          "output_type": "execute_result",
          "data": {
            "text/plain": [
              "                   Product                                   Issue  \\\n",
              "0         Credit reporting  Incorrect information on credit report   \n",
              "1  Bank account or service                Deposits and withdrawals   \n",
              "2              Credit card                                   Other   \n",
              "3          Debt collection         Disclosure verification of debt   \n",
              "4          Debt collection         Disclosure verification of debt   \n",
              "\n",
              "                                     Company State Submitted via  \\\n",
              "0                                    Equifax    GA           Web   \n",
              "1                      Wells Fargo & Company    GA           Web   \n",
              "2                                   Citibank    SC         Phone   \n",
              "3       FAIR COLLECTIONS & OUTSOURCING, INC.    OH      Referral   \n",
              "4  HCFS Health Care Financial Services, Inc.    CA           Web   \n",
              "\n",
              "      Company response to consumer Timely response? Consumer disputed?  Month  \\\n",
              "0          Closed with explanation              Yes                 No     10   \n",
              "1          Closed with explanation              Yes                Yes      4   \n",
              "2  Closed with non-monetary relief              Yes                 No     12   \n",
              "3          Closed with explanation              Yes                 No      3   \n",
              "4          Closed with explanation              Yes                Yes      1   \n",
              "\n",
              "   Year Days held  week  \n",
              "0  2015    0 days     2  \n",
              "1  2015    0 days     4  \n",
              "2  2013   14 days     3  \n",
              "3  2016    1 days     1  \n",
              "4  2015    0 days     5  "
            ],
            "text/html": [
              "\n",
              "  <div id=\"df-97b83a8f-c54b-4b20-b3ec-bb898facbdac\">\n",
              "    <div class=\"colab-df-container\">\n",
              "      <div>\n",
              "<style scoped>\n",
              "    .dataframe tbody tr th:only-of-type {\n",
              "        vertical-align: middle;\n",
              "    }\n",
              "\n",
              "    .dataframe tbody tr th {\n",
              "        vertical-align: top;\n",
              "    }\n",
              "\n",
              "    .dataframe thead th {\n",
              "        text-align: right;\n",
              "    }\n",
              "</style>\n",
              "<table border=\"1\" class=\"dataframe\">\n",
              "  <thead>\n",
              "    <tr style=\"text-align: right;\">\n",
              "      <th></th>\n",
              "      <th>Product</th>\n",
              "      <th>Issue</th>\n",
              "      <th>Company</th>\n",
              "      <th>State</th>\n",
              "      <th>Submitted via</th>\n",
              "      <th>Company response to consumer</th>\n",
              "      <th>Timely response?</th>\n",
              "      <th>Consumer disputed?</th>\n",
              "      <th>Month</th>\n",
              "      <th>Year</th>\n",
              "      <th>Days held</th>\n",
              "      <th>week</th>\n",
              "    </tr>\n",
              "  </thead>\n",
              "  <tbody>\n",
              "    <tr>\n",
              "      <th>0</th>\n",
              "      <td>Credit reporting</td>\n",
              "      <td>Incorrect information on credit report</td>\n",
              "      <td>Equifax</td>\n",
              "      <td>GA</td>\n",
              "      <td>Web</td>\n",
              "      <td>Closed with explanation</td>\n",
              "      <td>Yes</td>\n",
              "      <td>No</td>\n",
              "      <td>10</td>\n",
              "      <td>2015</td>\n",
              "      <td>0 days</td>\n",
              "      <td>2</td>\n",
              "    </tr>\n",
              "    <tr>\n",
              "      <th>1</th>\n",
              "      <td>Bank account or service</td>\n",
              "      <td>Deposits and withdrawals</td>\n",
              "      <td>Wells Fargo &amp; Company</td>\n",
              "      <td>GA</td>\n",
              "      <td>Web</td>\n",
              "      <td>Closed with explanation</td>\n",
              "      <td>Yes</td>\n",
              "      <td>Yes</td>\n",
              "      <td>4</td>\n",
              "      <td>2015</td>\n",
              "      <td>0 days</td>\n",
              "      <td>4</td>\n",
              "    </tr>\n",
              "    <tr>\n",
              "      <th>2</th>\n",
              "      <td>Credit card</td>\n",
              "      <td>Other</td>\n",
              "      <td>Citibank</td>\n",
              "      <td>SC</td>\n",
              "      <td>Phone</td>\n",
              "      <td>Closed with non-monetary relief</td>\n",
              "      <td>Yes</td>\n",
              "      <td>No</td>\n",
              "      <td>12</td>\n",
              "      <td>2013</td>\n",
              "      <td>14 days</td>\n",
              "      <td>3</td>\n",
              "    </tr>\n",
              "    <tr>\n",
              "      <th>3</th>\n",
              "      <td>Debt collection</td>\n",
              "      <td>Disclosure verification of debt</td>\n",
              "      <td>FAIR COLLECTIONS &amp; OUTSOURCING, INC.</td>\n",
              "      <td>OH</td>\n",
              "      <td>Referral</td>\n",
              "      <td>Closed with explanation</td>\n",
              "      <td>Yes</td>\n",
              "      <td>No</td>\n",
              "      <td>3</td>\n",
              "      <td>2016</td>\n",
              "      <td>1 days</td>\n",
              "      <td>1</td>\n",
              "    </tr>\n",
              "    <tr>\n",
              "      <th>4</th>\n",
              "      <td>Debt collection</td>\n",
              "      <td>Disclosure verification of debt</td>\n",
              "      <td>HCFS Health Care Financial Services, Inc.</td>\n",
              "      <td>CA</td>\n",
              "      <td>Web</td>\n",
              "      <td>Closed with explanation</td>\n",
              "      <td>Yes</td>\n",
              "      <td>Yes</td>\n",
              "      <td>1</td>\n",
              "      <td>2015</td>\n",
              "      <td>0 days</td>\n",
              "      <td>5</td>\n",
              "    </tr>\n",
              "  </tbody>\n",
              "</table>\n",
              "</div>\n",
              "      <button class=\"colab-df-convert\" onclick=\"convertToInteractive('df-97b83a8f-c54b-4b20-b3ec-bb898facbdac')\"\n",
              "              title=\"Convert this dataframe to an interactive table.\"\n",
              "              style=\"display:none;\">\n",
              "        \n",
              "  <svg xmlns=\"http://www.w3.org/2000/svg\" height=\"24px\"viewBox=\"0 0 24 24\"\n",
              "       width=\"24px\">\n",
              "    <path d=\"M0 0h24v24H0V0z\" fill=\"none\"/>\n",
              "    <path d=\"M18.56 5.44l.94 2.06.94-2.06 2.06-.94-2.06-.94-.94-2.06-.94 2.06-2.06.94zm-11 1L8.5 8.5l.94-2.06 2.06-.94-2.06-.94L8.5 2.5l-.94 2.06-2.06.94zm10 10l.94 2.06.94-2.06 2.06-.94-2.06-.94-.94-2.06-.94 2.06-2.06.94z\"/><path d=\"M17.41 7.96l-1.37-1.37c-.4-.4-.92-.59-1.43-.59-.52 0-1.04.2-1.43.59L10.3 9.45l-7.72 7.72c-.78.78-.78 2.05 0 2.83L4 21.41c.39.39.9.59 1.41.59.51 0 1.02-.2 1.41-.59l7.78-7.78 2.81-2.81c.8-.78.8-2.07 0-2.86zM5.41 20L4 18.59l7.72-7.72 1.47 1.35L5.41 20z\"/>\n",
              "  </svg>\n",
              "      </button>\n",
              "      \n",
              "  <style>\n",
              "    .colab-df-container {\n",
              "      display:flex;\n",
              "      flex-wrap:wrap;\n",
              "      gap: 12px;\n",
              "    }\n",
              "\n",
              "    .colab-df-convert {\n",
              "      background-color: #E8F0FE;\n",
              "      border: none;\n",
              "      border-radius: 50%;\n",
              "      cursor: pointer;\n",
              "      display: none;\n",
              "      fill: #1967D2;\n",
              "      height: 32px;\n",
              "      padding: 0 0 0 0;\n",
              "      width: 32px;\n",
              "    }\n",
              "\n",
              "    .colab-df-convert:hover {\n",
              "      background-color: #E2EBFA;\n",
              "      box-shadow: 0px 1px 2px rgba(60, 64, 67, 0.3), 0px 1px 3px 1px rgba(60, 64, 67, 0.15);\n",
              "      fill: #174EA6;\n",
              "    }\n",
              "\n",
              "    [theme=dark] .colab-df-convert {\n",
              "      background-color: #3B4455;\n",
              "      fill: #D2E3FC;\n",
              "    }\n",
              "\n",
              "    [theme=dark] .colab-df-convert:hover {\n",
              "      background-color: #434B5C;\n",
              "      box-shadow: 0px 1px 3px 1px rgba(0, 0, 0, 0.15);\n",
              "      filter: drop-shadow(0px 1px 2px rgba(0, 0, 0, 0.3));\n",
              "      fill: #FFFFFF;\n",
              "    }\n",
              "  </style>\n",
              "\n",
              "      <script>\n",
              "        const buttonEl =\n",
              "          document.querySelector('#df-97b83a8f-c54b-4b20-b3ec-bb898facbdac button.colab-df-convert');\n",
              "        buttonEl.style.display =\n",
              "          google.colab.kernel.accessAllowed ? 'block' : 'none';\n",
              "\n",
              "        async function convertToInteractive(key) {\n",
              "          const element = document.querySelector('#df-97b83a8f-c54b-4b20-b3ec-bb898facbdac');\n",
              "          const dataTable =\n",
              "            await google.colab.kernel.invokeFunction('convertToInteractive',\n",
              "                                                     [key], {});\n",
              "          if (!dataTable) return;\n",
              "\n",
              "          const docLinkHtml = 'Like what you see? Visit the ' +\n",
              "            '<a target=\"_blank\" href=https://colab.research.google.com/notebooks/data_table.ipynb>data table notebook</a>'\n",
              "            + ' to learn more about interactive tables.';\n",
              "          element.innerHTML = '';\n",
              "          dataTable['output_type'] = 'display_data';\n",
              "          await google.colab.output.renderOutput(dataTable, element);\n",
              "          const docLink = document.createElement('div');\n",
              "          docLink.innerHTML = docLinkHtml;\n",
              "          element.appendChild(docLink);\n",
              "        }\n",
              "      </script>\n",
              "    </div>\n",
              "  </div>\n",
              "  "
            ]
          },
          "metadata": {},
          "execution_count": 496
        }
      ],
      "source": [
        "train_data.head()"
      ]
    },
    {
      "cell_type": "code",
      "execution_count": 497,
      "metadata": {
        "colab": {
          "base_uri": "https://localhost:8080/",
          "height": 206
        },
        "id": "a6RWCvZX2hYY",
        "outputId": "f683425b-41d9-4549-b1eb-b2ebcfea4c99"
      },
      "outputs": [
        {
          "output_type": "execute_result",
          "data": {
            "text/plain": [
              "           Product                                  Issue  \\\n",
              "0      Credit card  Customer service / Customer relations   \n",
              "1    Consumer Loan           Payment to acct not credited   \n",
              "2      Credit card          Credit line increase/decrease   \n",
              "3    Consumer Loan    Problems when you are unable to pay   \n",
              "4  Debt collection    Improper contact or sharing of info   \n",
              "\n",
              "                            Company State Submitted via  \\\n",
              "0                          Citibank    TX           Web   \n",
              "1  Larsen MacColl Partners II, L.P.    TX         Phone   \n",
              "2                       Capital One    NC           Web   \n",
              "3   OneMain Financial Holdings, LLC    MO           Web   \n",
              "4              GMA Investments, LLC    SC           Web   \n",
              "\n",
              "      Company response to consumer Timely response?  Month  Year Days held  \\\n",
              "0      Closed with monetary relief              Yes      1  2015    0 days   \n",
              "1          Closed with explanation              Yes      6  2016    0 days   \n",
              "2          Closed with explanation              Yes      9  2015    0 days   \n",
              "3  Closed with non-monetary relief              Yes      5  2016    3 days   \n",
              "4          Closed with explanation              Yes      7  2016    0 days   \n",
              "\n",
              "   week  \n",
              "0     3  \n",
              "1     4  \n",
              "2     1  \n",
              "3     3  \n",
              "4     1  "
            ],
            "text/html": [
              "\n",
              "  <div id=\"df-dbff9ce5-e9ed-4df2-a7d9-a730397ee631\">\n",
              "    <div class=\"colab-df-container\">\n",
              "      <div>\n",
              "<style scoped>\n",
              "    .dataframe tbody tr th:only-of-type {\n",
              "        vertical-align: middle;\n",
              "    }\n",
              "\n",
              "    .dataframe tbody tr th {\n",
              "        vertical-align: top;\n",
              "    }\n",
              "\n",
              "    .dataframe thead th {\n",
              "        text-align: right;\n",
              "    }\n",
              "</style>\n",
              "<table border=\"1\" class=\"dataframe\">\n",
              "  <thead>\n",
              "    <tr style=\"text-align: right;\">\n",
              "      <th></th>\n",
              "      <th>Product</th>\n",
              "      <th>Issue</th>\n",
              "      <th>Company</th>\n",
              "      <th>State</th>\n",
              "      <th>Submitted via</th>\n",
              "      <th>Company response to consumer</th>\n",
              "      <th>Timely response?</th>\n",
              "      <th>Month</th>\n",
              "      <th>Year</th>\n",
              "      <th>Days held</th>\n",
              "      <th>week</th>\n",
              "    </tr>\n",
              "  </thead>\n",
              "  <tbody>\n",
              "    <tr>\n",
              "      <th>0</th>\n",
              "      <td>Credit card</td>\n",
              "      <td>Customer service / Customer relations</td>\n",
              "      <td>Citibank</td>\n",
              "      <td>TX</td>\n",
              "      <td>Web</td>\n",
              "      <td>Closed with monetary relief</td>\n",
              "      <td>Yes</td>\n",
              "      <td>1</td>\n",
              "      <td>2015</td>\n",
              "      <td>0 days</td>\n",
              "      <td>3</td>\n",
              "    </tr>\n",
              "    <tr>\n",
              "      <th>1</th>\n",
              "      <td>Consumer Loan</td>\n",
              "      <td>Payment to acct not credited</td>\n",
              "      <td>Larsen MacColl Partners II, L.P.</td>\n",
              "      <td>TX</td>\n",
              "      <td>Phone</td>\n",
              "      <td>Closed with explanation</td>\n",
              "      <td>Yes</td>\n",
              "      <td>6</td>\n",
              "      <td>2016</td>\n",
              "      <td>0 days</td>\n",
              "      <td>4</td>\n",
              "    </tr>\n",
              "    <tr>\n",
              "      <th>2</th>\n",
              "      <td>Credit card</td>\n",
              "      <td>Credit line increase/decrease</td>\n",
              "      <td>Capital One</td>\n",
              "      <td>NC</td>\n",
              "      <td>Web</td>\n",
              "      <td>Closed with explanation</td>\n",
              "      <td>Yes</td>\n",
              "      <td>9</td>\n",
              "      <td>2015</td>\n",
              "      <td>0 days</td>\n",
              "      <td>1</td>\n",
              "    </tr>\n",
              "    <tr>\n",
              "      <th>3</th>\n",
              "      <td>Consumer Loan</td>\n",
              "      <td>Problems when you are unable to pay</td>\n",
              "      <td>OneMain Financial Holdings, LLC</td>\n",
              "      <td>MO</td>\n",
              "      <td>Web</td>\n",
              "      <td>Closed with non-monetary relief</td>\n",
              "      <td>Yes</td>\n",
              "      <td>5</td>\n",
              "      <td>2016</td>\n",
              "      <td>3 days</td>\n",
              "      <td>3</td>\n",
              "    </tr>\n",
              "    <tr>\n",
              "      <th>4</th>\n",
              "      <td>Debt collection</td>\n",
              "      <td>Improper contact or sharing of info</td>\n",
              "      <td>GMA Investments, LLC</td>\n",
              "      <td>SC</td>\n",
              "      <td>Web</td>\n",
              "      <td>Closed with explanation</td>\n",
              "      <td>Yes</td>\n",
              "      <td>7</td>\n",
              "      <td>2016</td>\n",
              "      <td>0 days</td>\n",
              "      <td>1</td>\n",
              "    </tr>\n",
              "  </tbody>\n",
              "</table>\n",
              "</div>\n",
              "      <button class=\"colab-df-convert\" onclick=\"convertToInteractive('df-dbff9ce5-e9ed-4df2-a7d9-a730397ee631')\"\n",
              "              title=\"Convert this dataframe to an interactive table.\"\n",
              "              style=\"display:none;\">\n",
              "        \n",
              "  <svg xmlns=\"http://www.w3.org/2000/svg\" height=\"24px\"viewBox=\"0 0 24 24\"\n",
              "       width=\"24px\">\n",
              "    <path d=\"M0 0h24v24H0V0z\" fill=\"none\"/>\n",
              "    <path d=\"M18.56 5.44l.94 2.06.94-2.06 2.06-.94-2.06-.94-.94-2.06-.94 2.06-2.06.94zm-11 1L8.5 8.5l.94-2.06 2.06-.94-2.06-.94L8.5 2.5l-.94 2.06-2.06.94zm10 10l.94 2.06.94-2.06 2.06-.94-2.06-.94-.94-2.06-.94 2.06-2.06.94z\"/><path d=\"M17.41 7.96l-1.37-1.37c-.4-.4-.92-.59-1.43-.59-.52 0-1.04.2-1.43.59L10.3 9.45l-7.72 7.72c-.78.78-.78 2.05 0 2.83L4 21.41c.39.39.9.59 1.41.59.51 0 1.02-.2 1.41-.59l7.78-7.78 2.81-2.81c.8-.78.8-2.07 0-2.86zM5.41 20L4 18.59l7.72-7.72 1.47 1.35L5.41 20z\"/>\n",
              "  </svg>\n",
              "      </button>\n",
              "      \n",
              "  <style>\n",
              "    .colab-df-container {\n",
              "      display:flex;\n",
              "      flex-wrap:wrap;\n",
              "      gap: 12px;\n",
              "    }\n",
              "\n",
              "    .colab-df-convert {\n",
              "      background-color: #E8F0FE;\n",
              "      border: none;\n",
              "      border-radius: 50%;\n",
              "      cursor: pointer;\n",
              "      display: none;\n",
              "      fill: #1967D2;\n",
              "      height: 32px;\n",
              "      padding: 0 0 0 0;\n",
              "      width: 32px;\n",
              "    }\n",
              "\n",
              "    .colab-df-convert:hover {\n",
              "      background-color: #E2EBFA;\n",
              "      box-shadow: 0px 1px 2px rgba(60, 64, 67, 0.3), 0px 1px 3px 1px rgba(60, 64, 67, 0.15);\n",
              "      fill: #174EA6;\n",
              "    }\n",
              "\n",
              "    [theme=dark] .colab-df-convert {\n",
              "      background-color: #3B4455;\n",
              "      fill: #D2E3FC;\n",
              "    }\n",
              "\n",
              "    [theme=dark] .colab-df-convert:hover {\n",
              "      background-color: #434B5C;\n",
              "      box-shadow: 0px 1px 3px 1px rgba(0, 0, 0, 0.15);\n",
              "      filter: drop-shadow(0px 1px 2px rgba(0, 0, 0, 0.3));\n",
              "      fill: #FFFFFF;\n",
              "    }\n",
              "  </style>\n",
              "\n",
              "      <script>\n",
              "        const buttonEl =\n",
              "          document.querySelector('#df-dbff9ce5-e9ed-4df2-a7d9-a730397ee631 button.colab-df-convert');\n",
              "        buttonEl.style.display =\n",
              "          google.colab.kernel.accessAllowed ? 'block' : 'none';\n",
              "\n",
              "        async function convertToInteractive(key) {\n",
              "          const element = document.querySelector('#df-dbff9ce5-e9ed-4df2-a7d9-a730397ee631');\n",
              "          const dataTable =\n",
              "            await google.colab.kernel.invokeFunction('convertToInteractive',\n",
              "                                                     [key], {});\n",
              "          if (!dataTable) return;\n",
              "\n",
              "          const docLinkHtml = 'Like what you see? Visit the ' +\n",
              "            '<a target=\"_blank\" href=https://colab.research.google.com/notebooks/data_table.ipynb>data table notebook</a>'\n",
              "            + ' to learn more about interactive tables.';\n",
              "          element.innerHTML = '';\n",
              "          dataTable['output_type'] = 'display_data';\n",
              "          await google.colab.output.renderOutput(dataTable, element);\n",
              "          const docLink = document.createElement('div');\n",
              "          docLink.innerHTML = docLinkHtml;\n",
              "          element.appendChild(docLink);\n",
              "        }\n",
              "      </script>\n",
              "    </div>\n",
              "  </div>\n",
              "  "
            ]
          },
          "metadata": {},
          "execution_count": 497
        }
      ],
      "source": [
        "test_data.head()"
      ]
    },
    {
      "cell_type": "markdown",
      "metadata": {
        "id": "A8tqx2qCpoqT"
      },
      "source": [
        "Store data of the disputed consumer in the new data frame as \"disputed_cons\""
      ]
    },
    {
      "cell_type": "code",
      "execution_count": 498,
      "metadata": {
        "id": "LIsh5bhipoqU"
      },
      "outputs": [],
      "source": [
        "disputed_cons=train_data[train_data[\"Consumer disputed?\"]==\"Yes\"]"
      ]
    },
    {
      "cell_type": "code",
      "execution_count": 499,
      "metadata": {
        "colab": {
          "base_uri": "https://localhost:8080/",
          "height": 468
        },
        "id": "DQJr2zX64N-u",
        "outputId": "c11c91c8-9ba2-403a-d646-2b8269b34b77"
      },
      "outputs": [
        {
          "output_type": "execute_result",
          "data": {
            "text/plain": [
              "                        Product                                     Issue  \\\n",
              "1       Bank account or service                  Deposits and withdrawals   \n",
              "4               Debt collection           Disclosure verification of debt   \n",
              "5                   Credit card                      APR or interest rate   \n",
              "7                   Credit card                            Payoff process   \n",
              "8       Bank account or service                  Deposits and withdrawals   \n",
              "...                         ...                                       ...   \n",
              "358787                 Mortgage            Credit decision / Underwriting   \n",
              "358791                 Mortgage  Loan modification,collection,foreclosure   \n",
              "358797          Debt collection     Cont'd attempts collect debt not owed   \n",
              "358798         Credit reporting    Incorrect information on credit report   \n",
              "358807              Credit card                            Payoff process   \n",
              "\n",
              "                                          Company State Submitted via  \\\n",
              "1                           Wells Fargo & Company    GA           Web   \n",
              "4       HCFS Health Care Financial Services, Inc.    CA           Web   \n",
              "5                      TD Bank US Holding Company    FL           Web   \n",
              "7                                     Capital One    IL           Web   \n",
              "8                  Citizens Financial Group, Inc.    PA           Web   \n",
              "...                                           ...   ...           ...   \n",
              "358787                       JPMorgan Chase & Co.    CA   Postal mail   \n",
              "358791                            Bank of America    TX      Referral   \n",
              "358797                 Convergent Resources, Inc.    IN           Web   \n",
              "358798                                    Equifax    IL           Web   \n",
              "358807                                Capital One    TX           Web   \n",
              "\n",
              "           Company response to consumer Timely response? Consumer disputed?  \\\n",
              "1               Closed with explanation              Yes                Yes   \n",
              "4               Closed with explanation              Yes                Yes   \n",
              "5               Closed with explanation              Yes                Yes   \n",
              "7               Closed with explanation              Yes                Yes   \n",
              "8                    Closed with relief              Yes                Yes   \n",
              "...                                 ...              ...                ...   \n",
              "358787          Closed with explanation              Yes                Yes   \n",
              "358791          Closed with explanation              Yes                Yes   \n",
              "358797          Closed with explanation              Yes                Yes   \n",
              "358798  Closed with non-monetary relief              Yes                Yes   \n",
              "358807                           Closed              Yes                Yes   \n",
              "\n",
              "        Month  Year Days held  week  \n",
              "1           4  2015    0 days     4  \n",
              "4           1  2015    0 days     5  \n",
              "5           1  2014    5 days     2  \n",
              "7          12  2015    0 days     1  \n",
              "8           4  2012    0 days     1  \n",
              "...       ...   ...       ...   ...  \n",
              "358787      5  2014    5 days     5  \n",
              "358791      8  2013    1 days     2  \n",
              "358797      6  2016    0 days     3  \n",
              "358798      2  2013    0 days     4  \n",
              "358807      2  2013    0 days     1  \n",
              "\n",
              "[76172 rows x 12 columns]"
            ],
            "text/html": [
              "\n",
              "  <div id=\"df-c01f5e3b-7539-46ce-8eba-c013365b9f6b\">\n",
              "    <div class=\"colab-df-container\">\n",
              "      <div>\n",
              "<style scoped>\n",
              "    .dataframe tbody tr th:only-of-type {\n",
              "        vertical-align: middle;\n",
              "    }\n",
              "\n",
              "    .dataframe tbody tr th {\n",
              "        vertical-align: top;\n",
              "    }\n",
              "\n",
              "    .dataframe thead th {\n",
              "        text-align: right;\n",
              "    }\n",
              "</style>\n",
              "<table border=\"1\" class=\"dataframe\">\n",
              "  <thead>\n",
              "    <tr style=\"text-align: right;\">\n",
              "      <th></th>\n",
              "      <th>Product</th>\n",
              "      <th>Issue</th>\n",
              "      <th>Company</th>\n",
              "      <th>State</th>\n",
              "      <th>Submitted via</th>\n",
              "      <th>Company response to consumer</th>\n",
              "      <th>Timely response?</th>\n",
              "      <th>Consumer disputed?</th>\n",
              "      <th>Month</th>\n",
              "      <th>Year</th>\n",
              "      <th>Days held</th>\n",
              "      <th>week</th>\n",
              "    </tr>\n",
              "  </thead>\n",
              "  <tbody>\n",
              "    <tr>\n",
              "      <th>1</th>\n",
              "      <td>Bank account or service</td>\n",
              "      <td>Deposits and withdrawals</td>\n",
              "      <td>Wells Fargo &amp; Company</td>\n",
              "      <td>GA</td>\n",
              "      <td>Web</td>\n",
              "      <td>Closed with explanation</td>\n",
              "      <td>Yes</td>\n",
              "      <td>Yes</td>\n",
              "      <td>4</td>\n",
              "      <td>2015</td>\n",
              "      <td>0 days</td>\n",
              "      <td>4</td>\n",
              "    </tr>\n",
              "    <tr>\n",
              "      <th>4</th>\n",
              "      <td>Debt collection</td>\n",
              "      <td>Disclosure verification of debt</td>\n",
              "      <td>HCFS Health Care Financial Services, Inc.</td>\n",
              "      <td>CA</td>\n",
              "      <td>Web</td>\n",
              "      <td>Closed with explanation</td>\n",
              "      <td>Yes</td>\n",
              "      <td>Yes</td>\n",
              "      <td>1</td>\n",
              "      <td>2015</td>\n",
              "      <td>0 days</td>\n",
              "      <td>5</td>\n",
              "    </tr>\n",
              "    <tr>\n",
              "      <th>5</th>\n",
              "      <td>Credit card</td>\n",
              "      <td>APR or interest rate</td>\n",
              "      <td>TD Bank US Holding Company</td>\n",
              "      <td>FL</td>\n",
              "      <td>Web</td>\n",
              "      <td>Closed with explanation</td>\n",
              "      <td>Yes</td>\n",
              "      <td>Yes</td>\n",
              "      <td>1</td>\n",
              "      <td>2014</td>\n",
              "      <td>5 days</td>\n",
              "      <td>2</td>\n",
              "    </tr>\n",
              "    <tr>\n",
              "      <th>7</th>\n",
              "      <td>Credit card</td>\n",
              "      <td>Payoff process</td>\n",
              "      <td>Capital One</td>\n",
              "      <td>IL</td>\n",
              "      <td>Web</td>\n",
              "      <td>Closed with explanation</td>\n",
              "      <td>Yes</td>\n",
              "      <td>Yes</td>\n",
              "      <td>12</td>\n",
              "      <td>2015</td>\n",
              "      <td>0 days</td>\n",
              "      <td>1</td>\n",
              "    </tr>\n",
              "    <tr>\n",
              "      <th>8</th>\n",
              "      <td>Bank account or service</td>\n",
              "      <td>Deposits and withdrawals</td>\n",
              "      <td>Citizens Financial Group, Inc.</td>\n",
              "      <td>PA</td>\n",
              "      <td>Web</td>\n",
              "      <td>Closed with relief</td>\n",
              "      <td>Yes</td>\n",
              "      <td>Yes</td>\n",
              "      <td>4</td>\n",
              "      <td>2012</td>\n",
              "      <td>0 days</td>\n",
              "      <td>1</td>\n",
              "    </tr>\n",
              "    <tr>\n",
              "      <th>...</th>\n",
              "      <td>...</td>\n",
              "      <td>...</td>\n",
              "      <td>...</td>\n",
              "      <td>...</td>\n",
              "      <td>...</td>\n",
              "      <td>...</td>\n",
              "      <td>...</td>\n",
              "      <td>...</td>\n",
              "      <td>...</td>\n",
              "      <td>...</td>\n",
              "      <td>...</td>\n",
              "      <td>...</td>\n",
              "    </tr>\n",
              "    <tr>\n",
              "      <th>358787</th>\n",
              "      <td>Mortgage</td>\n",
              "      <td>Credit decision / Underwriting</td>\n",
              "      <td>JPMorgan Chase &amp; Co.</td>\n",
              "      <td>CA</td>\n",
              "      <td>Postal mail</td>\n",
              "      <td>Closed with explanation</td>\n",
              "      <td>Yes</td>\n",
              "      <td>Yes</td>\n",
              "      <td>5</td>\n",
              "      <td>2014</td>\n",
              "      <td>5 days</td>\n",
              "      <td>5</td>\n",
              "    </tr>\n",
              "    <tr>\n",
              "      <th>358791</th>\n",
              "      <td>Mortgage</td>\n",
              "      <td>Loan modification,collection,foreclosure</td>\n",
              "      <td>Bank of America</td>\n",
              "      <td>TX</td>\n",
              "      <td>Referral</td>\n",
              "      <td>Closed with explanation</td>\n",
              "      <td>Yes</td>\n",
              "      <td>Yes</td>\n",
              "      <td>8</td>\n",
              "      <td>2013</td>\n",
              "      <td>1 days</td>\n",
              "      <td>2</td>\n",
              "    </tr>\n",
              "    <tr>\n",
              "      <th>358797</th>\n",
              "      <td>Debt collection</td>\n",
              "      <td>Cont'd attempts collect debt not owed</td>\n",
              "      <td>Convergent Resources, Inc.</td>\n",
              "      <td>IN</td>\n",
              "      <td>Web</td>\n",
              "      <td>Closed with explanation</td>\n",
              "      <td>Yes</td>\n",
              "      <td>Yes</td>\n",
              "      <td>6</td>\n",
              "      <td>2016</td>\n",
              "      <td>0 days</td>\n",
              "      <td>3</td>\n",
              "    </tr>\n",
              "    <tr>\n",
              "      <th>358798</th>\n",
              "      <td>Credit reporting</td>\n",
              "      <td>Incorrect information on credit report</td>\n",
              "      <td>Equifax</td>\n",
              "      <td>IL</td>\n",
              "      <td>Web</td>\n",
              "      <td>Closed with non-monetary relief</td>\n",
              "      <td>Yes</td>\n",
              "      <td>Yes</td>\n",
              "      <td>2</td>\n",
              "      <td>2013</td>\n",
              "      <td>0 days</td>\n",
              "      <td>4</td>\n",
              "    </tr>\n",
              "    <tr>\n",
              "      <th>358807</th>\n",
              "      <td>Credit card</td>\n",
              "      <td>Payoff process</td>\n",
              "      <td>Capital One</td>\n",
              "      <td>TX</td>\n",
              "      <td>Web</td>\n",
              "      <td>Closed</td>\n",
              "      <td>Yes</td>\n",
              "      <td>Yes</td>\n",
              "      <td>2</td>\n",
              "      <td>2013</td>\n",
              "      <td>0 days</td>\n",
              "      <td>1</td>\n",
              "    </tr>\n",
              "  </tbody>\n",
              "</table>\n",
              "<p>76172 rows × 12 columns</p>\n",
              "</div>\n",
              "      <button class=\"colab-df-convert\" onclick=\"convertToInteractive('df-c01f5e3b-7539-46ce-8eba-c013365b9f6b')\"\n",
              "              title=\"Convert this dataframe to an interactive table.\"\n",
              "              style=\"display:none;\">\n",
              "        \n",
              "  <svg xmlns=\"http://www.w3.org/2000/svg\" height=\"24px\"viewBox=\"0 0 24 24\"\n",
              "       width=\"24px\">\n",
              "    <path d=\"M0 0h24v24H0V0z\" fill=\"none\"/>\n",
              "    <path d=\"M18.56 5.44l.94 2.06.94-2.06 2.06-.94-2.06-.94-.94-2.06-.94 2.06-2.06.94zm-11 1L8.5 8.5l.94-2.06 2.06-.94-2.06-.94L8.5 2.5l-.94 2.06-2.06.94zm10 10l.94 2.06.94-2.06 2.06-.94-2.06-.94-.94-2.06-.94 2.06-2.06.94z\"/><path d=\"M17.41 7.96l-1.37-1.37c-.4-.4-.92-.59-1.43-.59-.52 0-1.04.2-1.43.59L10.3 9.45l-7.72 7.72c-.78.78-.78 2.05 0 2.83L4 21.41c.39.39.9.59 1.41.59.51 0 1.02-.2 1.41-.59l7.78-7.78 2.81-2.81c.8-.78.8-2.07 0-2.86zM5.41 20L4 18.59l7.72-7.72 1.47 1.35L5.41 20z\"/>\n",
              "  </svg>\n",
              "      </button>\n",
              "      \n",
              "  <style>\n",
              "    .colab-df-container {\n",
              "      display:flex;\n",
              "      flex-wrap:wrap;\n",
              "      gap: 12px;\n",
              "    }\n",
              "\n",
              "    .colab-df-convert {\n",
              "      background-color: #E8F0FE;\n",
              "      border: none;\n",
              "      border-radius: 50%;\n",
              "      cursor: pointer;\n",
              "      display: none;\n",
              "      fill: #1967D2;\n",
              "      height: 32px;\n",
              "      padding: 0 0 0 0;\n",
              "      width: 32px;\n",
              "    }\n",
              "\n",
              "    .colab-df-convert:hover {\n",
              "      background-color: #E2EBFA;\n",
              "      box-shadow: 0px 1px 2px rgba(60, 64, 67, 0.3), 0px 1px 3px 1px rgba(60, 64, 67, 0.15);\n",
              "      fill: #174EA6;\n",
              "    }\n",
              "\n",
              "    [theme=dark] .colab-df-convert {\n",
              "      background-color: #3B4455;\n",
              "      fill: #D2E3FC;\n",
              "    }\n",
              "\n",
              "    [theme=dark] .colab-df-convert:hover {\n",
              "      background-color: #434B5C;\n",
              "      box-shadow: 0px 1px 3px 1px rgba(0, 0, 0, 0.15);\n",
              "      filter: drop-shadow(0px 1px 2px rgba(0, 0, 0, 0.3));\n",
              "      fill: #FFFFFF;\n",
              "    }\n",
              "  </style>\n",
              "\n",
              "      <script>\n",
              "        const buttonEl =\n",
              "          document.querySelector('#df-c01f5e3b-7539-46ce-8eba-c013365b9f6b button.colab-df-convert');\n",
              "        buttonEl.style.display =\n",
              "          google.colab.kernel.accessAllowed ? 'block' : 'none';\n",
              "\n",
              "        async function convertToInteractive(key) {\n",
              "          const element = document.querySelector('#df-c01f5e3b-7539-46ce-8eba-c013365b9f6b');\n",
              "          const dataTable =\n",
              "            await google.colab.kernel.invokeFunction('convertToInteractive',\n",
              "                                                     [key], {});\n",
              "          if (!dataTable) return;\n",
              "\n",
              "          const docLinkHtml = 'Like what you see? Visit the ' +\n",
              "            '<a target=\"_blank\" href=https://colab.research.google.com/notebooks/data_table.ipynb>data table notebook</a>'\n",
              "            + ' to learn more about interactive tables.';\n",
              "          element.innerHTML = '';\n",
              "          dataTable['output_type'] = 'display_data';\n",
              "          await google.colab.output.renderOutput(dataTable, element);\n",
              "          const docLink = document.createElement('div');\n",
              "          docLink.innerHTML = docLinkHtml;\n",
              "          element.appendChild(docLink);\n",
              "        }\n",
              "      </script>\n",
              "    </div>\n",
              "  </div>\n",
              "  "
            ]
          },
          "metadata": {},
          "execution_count": 499
        }
      ],
      "source": [
        "disputed_cons"
      ]
    },
    {
      "cell_type": "markdown",
      "metadata": {
        "id": "mtGG1fslpoqU"
      },
      "source": [
        "Plot bar graph for the total no of disputes with the help of seaborn"
      ]
    },
    {
      "cell_type": "code",
      "execution_count": 500,
      "metadata": {
        "colab": {
          "base_uri": "https://localhost:8080/",
          "height": 282
        },
        "id": "aawMOyG5poqW",
        "outputId": "09df0d2a-cd08-4875-c79d-45fda92b7a17"
      },
      "outputs": [
        {
          "output_type": "execute_result",
          "data": {
            "text/plain": [
              "<matplotlib.axes._subplots.AxesSubplot at 0x7f1dace93d10>"
            ]
          },
          "metadata": {},
          "execution_count": 500
        },
        {
          "output_type": "display_data",
          "data": {
            "text/plain": [
              "<Figure size 432x288 with 1 Axes>"
            ],
            "image/png": "[encoded data removed]"
          },
          "metadata": {
            "needs_background": "light"
          }
        }
      ],
      "source": [
        "sns.barplot(data=disputed_cons)"
      ]
    },
    {
      "cell_type": "markdown",
      "metadata": {
        "id": "NCZyWAkUpoqW"
      },
      "source": [
        "Plot bar graph for the total no of disputes products-wise with help of seaborn"
      ]
    },
    {
      "cell_type": "code",
      "execution_count": 501,
      "metadata": {
        "colab": {
          "base_uri": "https://localhost:8080/",
          "height": 285
        },
        "id": "CRaMA8jVpoqX",
        "outputId": "8816013a-65d1-47c2-cdc3-38b622f1182f"
      },
      "outputs": [
        {
          "output_type": "execute_result",
          "data": {
            "text/plain": [
              "<matplotlib.axes._subplots.AxesSubplot at 0x7f1d9169cc10>"
            ]
          },
          "metadata": {},
          "execution_count": 501
        },
        {
          "output_type": "display_data",
          "data": {
            "text/plain": [
              "<Figure size 432x288 with 1 Axes>"
            ],
            "image/png": "[encoded data removed]"
          },
          "metadata": {
            "needs_background": "light"
          }
        }
      ],
      "source": [
        "sns.barplot(data=disputed_cons.groupby(\"Product\").count())"
      ]
    },
    {
      "cell_type": "markdown",
      "metadata": {
        "id": "L0U3hAu4poqY"
      },
      "source": [
        "Plot bar graph for the total no of disputes with Top Issues by Highest Disputes , with help of seaborn"
      ]
    },
    {
      "cell_type": "code",
      "execution_count": 502,
      "metadata": {
        "colab": {
          "base_uri": "https://localhost:8080/",
          "height": 282
        },
        "id": "hx_k7HkYpoqY",
        "outputId": "5f44a72c-05c3-4522-fd78-2e4de74b6817"
      },
      "outputs": [
        {
          "output_type": "execute_result",
          "data": {
            "text/plain": [
              "<matplotlib.axes._subplots.AxesSubplot at 0x7f1d91707b50>"
            ]
          },
          "metadata": {},
          "execution_count": 502
        },
        {
          "output_type": "display_data",
          "data": {
            "text/plain": [
              "<Figure size 432x288 with 1 Axes>"
            ],
            "image/png": "[encoded data removed]"
          },
          "metadata": {
            "needs_background": "light"
          }
        }
      ],
      "source": [
        "sns.barplot(data=disputed_cons.groupby(\"Issue\").count())"
      ]
    },
    {
      "cell_type": "markdown",
      "metadata": {
        "id": "Lnfp_e9ZpoqY"
      },
      "source": [
        "Plot bar graph for the total no of disputes by State with Maximum Disputes"
      ]
    },
    {
      "cell_type": "code",
      "execution_count": 503,
      "metadata": {
        "colab": {
          "base_uri": "https://localhost:8080/",
          "height": 282
        },
        "id": "9YieTWCtpoqZ",
        "outputId": "303d2796-5c9e-4b79-feea-d79be77e8bed"
      },
      "outputs": [
        {
          "output_type": "execute_result",
          "data": {
            "text/plain": [
              "<matplotlib.axes._subplots.AxesSubplot at 0x7f1d916f97d0>"
            ]
          },
          "metadata": {},
          "execution_count": 503
        },
        {
          "output_type": "display_data",
          "data": {
            "text/plain": [
              "<Figure size 432x288 with 1 Axes>"
            ],
            "image/png": "[encoded data removed]"
          },
          "metadata": {
            "needs_background": "light"
          }
        }
      ],
      "source": [
        "sns.barplot(data=disputed_cons.groupby(\"State\").count())"
      ]
    },
    {
      "cell_type": "markdown",
      "metadata": {
        "id": "GzYlsiEFpoqZ"
      },
      "source": [
        "Plot bar graph for the total no of disputes by Submitted Via diffrent source "
      ]
    },
    {
      "cell_type": "code",
      "execution_count": 504,
      "metadata": {
        "colab": {
          "base_uri": "https://localhost:8080/",
          "height": 282
        },
        "id": "ShPK2OoepoqZ",
        "outputId": "11bedd1f-2153-4a25-8cb4-89159d937cea"
      },
      "outputs": [
        {
          "output_type": "execute_result",
          "data": {
            "text/plain": [
              "<matplotlib.axes._subplots.AxesSubplot at 0x7f1da1db3250>"
            ]
          },
          "metadata": {},
          "execution_count": 504
        },
        {
          "output_type": "display_data",
          "data": {
            "text/plain": [
              "<Figure size 432x288 with 1 Axes>"
            ],
            "image/png": "[encoded data removed]"
          },
          "metadata": {
            "needs_background": "light"
          }
        }
      ],
      "source": [
        "sns.barplot(data=disputed_cons.groupby(\"Submitted via\").count())"
      ]
    },
    {
      "cell_type": "markdown",
      "metadata": {
        "id": "rl_JZPCipoqa"
      },
      "source": [
        "Plot bar graph for the total no of disputes wherevCompany's Response to the Complaints"
      ]
    },
    {
      "cell_type": "code",
      "execution_count": 505,
      "metadata": {
        "colab": {
          "base_uri": "https://localhost:8080/",
          "height": 282
        },
        "id": "2XTLjfbtpoqa",
        "outputId": "4ac46e46-3108-45cd-f499-0f75974918c3"
      },
      "outputs": [
        {
          "output_type": "execute_result",
          "data": {
            "text/plain": [
              "<matplotlib.axes._subplots.AxesSubplot at 0x7f1d91754710>"
            ]
          },
          "metadata": {},
          "execution_count": 505
        },
        {
          "output_type": "display_data",
          "data": {
            "text/plain": [
              "<Figure size 432x288 with 1 Axes>"
            ],
            "image/png": "[encoded data removed]"
          },
          "metadata": {
            "needs_background": "light"
          }
        }
      ],
      "source": [
        "sns.barplot(data=disputed_cons.groupby([\"Issue\",\"Company response to consumer\"]).count())"
      ]
    },
    {
      "cell_type": "markdown",
      "metadata": {
        "id": "pGvHtAP2poqa"
      },
      "source": [
        "Plot bar graph for the total no of disputes where Company's Response Leading to Disputes"
      ]
    },
    {
      "cell_type": "code",
      "execution_count": 506,
      "metadata": {
        "colab": {
          "base_uri": "https://localhost:8080/",
          "height": 282
        },
        "id": "4MdIaJKJpoqa",
        "outputId": "0d6514db-6544-493d-9494-238aca48269e"
      },
      "outputs": [
        {
          "output_type": "execute_result",
          "data": {
            "text/plain": [
              "<matplotlib.axes._subplots.AxesSubplot at 0x7f1da1dc5cd0>"
            ]
          },
          "metadata": {},
          "execution_count": 506
        },
        {
          "output_type": "display_data",
          "data": {
            "text/plain": [
              "<Figure size 432x288 with 1 Axes>"
            ],
            "image/png": "[encoded data removed]"
          },
          "metadata": {
            "needs_background": "light"
          }
        }
      ],
      "source": [
        "sns.barplot(data=disputed_cons.groupby(\"Company response to consumer\").count())"
      ]
    },
    {
      "cell_type": "markdown",
      "metadata": {
        "id": "myL-cp2Dpoqb"
      },
      "source": [
        "Plot bar graph for the total no of disputes Whether there are Disputes Instead of Timely Response"
      ]
    },
    {
      "cell_type": "code",
      "execution_count": 507,
      "metadata": {
        "colab": {
          "base_uri": "https://localhost:8080/",
          "height": 282
        },
        "id": "EyPJWgZUpoqb",
        "outputId": "138dcb46-909e-4946-d323-26404ea08f3a"
      },
      "outputs": [
        {
          "output_type": "execute_result",
          "data": {
            "text/plain": [
              "<matplotlib.axes._subplots.AxesSubplot at 0x7f1da1d68d90>"
            ]
          },
          "metadata": {},
          "execution_count": 507
        },
        {
          "output_type": "display_data",
          "data": {
            "text/plain": [
              "<Figure size 432x288 with 1 Axes>"
            ],
            "image/png": "[encoded data removed]"
          },
          "metadata": {
            "needs_background": "light"
          }
        }
      ],
      "source": [
        "sns.barplot(data=disputed_cons.groupby(\"Timely response?\").count())"
      ]
    },
    {
      "cell_type": "markdown",
      "metadata": {
        "id": "t91R-deppoqb"
      },
      "source": [
        "Plot bar graph for the total no of disputes over Year Wise Complaints"
      ]
    },
    {
      "cell_type": "code",
      "execution_count": 508,
      "metadata": {
        "colab": {
          "base_uri": "https://localhost:8080/",
          "height": 282
        },
        "id": "vGBscEOJpoqb",
        "outputId": "b1195f65-a404-4356-d49d-93c05c0c6278"
      },
      "outputs": [
        {
          "output_type": "execute_result",
          "data": {
            "text/plain": [
              "<matplotlib.axes._subplots.AxesSubplot at 0x7f1d91723090>"
            ]
          },
          "metadata": {},
          "execution_count": 508
        },
        {
          "output_type": "display_data",
          "data": {
            "text/plain": [
              "<Figure size 432x288 with 1 Axes>"
            ],
            "image/png": "[encoded data removed]"
          },
          "metadata": {
            "needs_background": "light"
          }
        }
      ],
      "source": [
        "sns.barplot(data=disputed_cons.groupby([\"Issue\",\"Year\"]).count())"
      ]
    },
    {
      "cell_type": "markdown",
      "metadata": {
        "id": "xT4ZwSo0poqc"
      },
      "source": [
        "Plot bar graph for the total no of disputes over Year Wise Disputes"
      ]
    },
    {
      "cell_type": "code",
      "execution_count": 509,
      "metadata": {
        "colab": {
          "base_uri": "https://localhost:8080/",
          "height": 282
        },
        "id": "ADdy8Zavpoqc",
        "outputId": "3e8be8ac-06ee-4bd6-ab00-783bc40e83ef"
      },
      "outputs": [
        {
          "output_type": "execute_result",
          "data": {
            "text/plain": [
              "<matplotlib.axes._subplots.AxesSubplot at 0x7f1da1d85bd0>"
            ]
          },
          "metadata": {},
          "execution_count": 509
        },
        {
          "output_type": "display_data",
          "data": {
            "text/plain": [
              "<Figure size 432x288 with 1 Axes>"
            ],
            "image/png": "[encoded data removed]"
          },
          "metadata": {
            "needs_background": "light"
          }
        }
      ],
      "source": [
        "sns.barplot(data=disputed_cons.groupby(\"Year\").count())"
      ]
    },
    {
      "cell_type": "markdown",
      "metadata": {
        "id": "5pCBYQhTpoqc"
      },
      "source": [
        "Plot  bar graph for the top companies with highest complaints"
      ]
    },
    {
      "cell_type": "code",
      "execution_count": 510,
      "metadata": {
        "colab": {
          "base_uri": "https://localhost:8080/",
          "height": 282
        },
        "id": "0ovADVRSpoqc",
        "outputId": "37aab179-a17e-4dee-c0c8-f55edbd14b20"
      },
      "outputs": [
        {
          "output_type": "execute_result",
          "data": {
            "text/plain": [
              "<matplotlib.axes._subplots.AxesSubplot at 0x7f1da1d8ff90>"
            ]
          },
          "metadata": {},
          "execution_count": 510
        },
        {
          "output_type": "display_data",
          "data": {
            "text/plain": [
              "<Figure size 432x288 with 1 Axes>"
            ],
            "image/png": "[encoded data removed]"
          },
          "metadata": {
            "needs_background": "light"
          }
        }
      ],
      "source": [
        "sns.barplot(data=disputed_cons.groupby(\"Company\").count())"
      ]
    },
    {
      "cell_type": "markdown",
      "metadata": {
        "id": "d_VB1_2Qpoqc"
      },
      "source": [
        "\"Days Held\" Column Analysis(describe)"
      ]
    },
    {
      "cell_type": "code",
      "execution_count": 511,
      "metadata": {
        "colab": {
          "base_uri": "https://localhost:8080/"
        },
        "id": "fan0xohapoqd",
        "outputId": "a2c44fda-e95a-4272-a0dc-4469a464bc55"
      },
      "outputs": [
        {
          "output_type": "execute_result",
          "data": {
            "text/plain": [
              "count                        358810\n",
              "mean      4 days 10:57:07.690421114\n",
              "std      16 days 17:48:00.827311545\n",
              "min               -1 days +00:00:00\n",
              "25%                 0 days 00:00:00\n",
              "50%                 1 days 00:00:00\n",
              "75%                 4 days 00:00:00\n",
              "max               993 days 00:00:00\n",
              "Name: Days held, dtype: object"
            ]
          },
          "metadata": {},
          "execution_count": 511
        }
      ],
      "source": [
        "train_data[\"Days held\"].describe()"
      ]
    },
    {
      "cell_type": "markdown",
      "metadata": {
        "id": "vlLBckNcpoqd"
      },
      "source": [
        "Convert Negative Days Held to Zero(it is the time taken by authority can't be negative)"
      ]
    },
    {
      "cell_type": "code",
      "execution_count": 512,
      "metadata": {
        "id": "qLPLLq6Ppoqd"
      },
      "outputs": [],
      "source": [
        "def days_held(ch):\n",
        "  if ch>timedelta(days=0, hours=0, minutes=0, seconds=0, microseconds=0):\n",
        "    return ch\n",
        "  else:\n",
        "    return timedelta(days=0, hours=0, minutes=0, seconds=0, microseconds=0)\n",
        "\n",
        "train_data['Days held']=train_data.apply(lambda x:days_held(x['Days held']),axis=1)\n",
        "test_data['Days held']=test_data.apply(lambda x:days_held(x['Days held']),axis=1)"
      ]
    },
    {
      "cell_type": "markdown",
      "metadata": {
        "id": "Phr6eNn6poqd"
      },
      "source": [
        "Drop Days Held with Negative Values"
      ]
    },
    {
      "cell_type": "code",
      "execution_count": 513,
      "metadata": {
        "id": "jkXWSNrxpoqd"
      },
      "outputs": [],
      "source": [
        "train_data.drop(train_data[train_data['Days held'] ==timedelta(days=0, hours=0, minutes=0, seconds=0, microseconds=0)].index, inplace = True)\n",
        "test_data.drop(test_data[test_data['Days held'] ==timedelta(days=0, hours=0, minutes=0, seconds=0, microseconds=0)].index, inplace = True)"
      ]
    },
    {
      "cell_type": "code",
      "execution_count": 514,
      "metadata": {
        "colab": {
          "base_uri": "https://localhost:8080/"
        },
        "id": "7mLrduB1M2NT",
        "outputId": "663782d1-ed26-4995-c773-e0bad55c1735"
      },
      "outputs": [
        {
          "output_type": "stream",
          "name": "stdout",
          "text": [
            "(197521, 12) (65627, 11)\n"
          ]
        }
      ],
      "source": [
        "\n",
        "print(train_data.shape,test_data.shape)"
      ]
    },
    {
      "cell_type": "markdown",
      "metadata": {
        "id": "oPGVV2cypoqe"
      },
      "source": [
        "Text pre-processing"
      ]
    },
    {
      "cell_type": "code",
      "execution_count": 515,
      "metadata": {
        "id": "wUs9mtE-poqe"
      },
      "outputs": [],
      "source": [
        "relevant_text_train = train_data['Issue']\n",
        "relevant_text_test = test_data['Issue']\n",
        "tokenized_data_train = relevant_text_train.apply(lambda x: wordpunct_tokenize(x.lower()))\n",
        "tokenized_data_test = relevant_text_test.apply(lambda x: wordpunct_tokenize(x.lower()))\n",
        "def remove_punctuation(text):\n",
        "    no_punctuation = []\n",
        "    for w in text:\n",
        "        if w not in string.punctuation:\n",
        "            no_punctuation.append(w)\n",
        "    return no_punctuation\n",
        "no_punctuation_data_train = tokenized_data_train.apply(lambda x: remove_punctuation(x))\n",
        "no_punctuation_data_test = tokenized_data_test.apply(lambda x: remove_punctuation(x))\n",
        "stop_words = stopwords.words('english')\n",
        "filtered_sentence_train = [w for w in no_punctuation_data_train if not w in stop_words]\n",
        "filtered_sentence_train = pd.Series(filtered_sentence_train)\n",
        "filtered_sentence_test = [w for w in no_punctuation_data_test if not w in stop_words]\n",
        "filtered_sentence_test = pd.Series(filtered_sentence_test)\n",
        "def lemmatize_text(text):\n",
        "    lem_text = [WordNetLemmatizer().lemmatize(w,pos = 'v') for w in text]\n",
        "    return lem_text\n",
        "lemmatized_data_train = filtered_sentence_train.apply(lambda x:lemmatize_text(x))\n",
        "lemmatized_data_test = filtered_sentence_test.apply(lambda x:lemmatize_text(x))\n",
        "def stem_text(text):\n",
        "    stem_text = [PorterStemmer().stem(w) for w in text]\n",
        "    return stem_text\n",
        "stemmed_data_train = lemmatized_data_train.apply(lambda x:stem_text(x))\n",
        "stemmed_data_test = lemmatized_data_test.apply(lambda x:stem_text(x))\n",
        "def word_to_sentence(text):\n",
        "    text_sentence = \" \".join(text)\n",
        "    return text_sentence\n",
        "clean_data_train = stemmed_data_train.apply(lambda x:word_to_sentence(x))\n",
        "clean_data_test = stemmed_data_test.apply(lambda x:word_to_sentence(x))"
      ]
    },
    {
      "cell_type": "code",
      "execution_count": 516,
      "metadata": {
        "colab": {
          "base_uri": "https://localhost:8080/"
        },
        "id": "S7Zvxv0wfydK",
        "outputId": "18cfb172-1226-40b5-b72f-e49351046774"
      },
      "outputs": [
        {
          "output_type": "stream",
          "name": "stdout",
          "text": [
            "(197521,) (65627,)\n"
          ]
        }
      ],
      "source": [
        "print(clean_data_train.shape,clean_data_test.shape)"
      ]
    },
    {
      "cell_type": "code",
      "execution_count": 517,
      "metadata": {
        "id": "WFlUCeGxpoqf"
      },
      "outputs": [],
      "source": [
        "train_data['Issues_cleaned'] = clean_data_train\n",
        "test_data['Issues_cleaned'] = clean_data_test\n",
        "df_train = train_data.drop('Issue', axis = 1)\n",
        "df_test = test_data.drop('Issue', axis = 1)"
      ]
    },
    {
      "cell_type": "code",
      "execution_count": 518,
      "metadata": {
        "colab": {
          "base_uri": "https://localhost:8080/"
        },
        "id": "nOv237mVgirN",
        "outputId": "8bc71817-2775-4ac6-b44b-134c2f2b0a5a"
      },
      "outputs": [
        {
          "output_type": "stream",
          "name": "stdout",
          "text": [
            "(197521, 12) (65627, 11)\n"
          ]
        }
      ],
      "source": [
        "print(df_train.shape,df_test.shape)"
      ]
    },
    {
      "cell_type": "code",
      "execution_count": 519,
      "metadata": {
        "colab": {
          "base_uri": "https://localhost:8080/",
          "height": 206
        },
        "id": "xD1UaHHhdS8Q",
        "outputId": "9e0ae298-2464-4d37-af73-cb6dea0dda7c"
      },
      "outputs": [
        {
          "output_type": "execute_result",
          "data": {
            "text/plain": [
              "                    Product                                 Company State  \\\n",
              "3             Consumer Loan         OneMain Financial Holdings, LLC    MO   \n",
              "5                  Mortgage                    JPMorgan Chase & Co.    MI   \n",
              "7          Credit reporting  TransUnion Intermediate Holdings, Inc.    FL   \n",
              "8                  Mortgage                                Citibank    CA   \n",
              "10  Bank account or service                   Wells Fargo & Company    NC   \n",
              "\n",
              "   Submitted via     Company response to consumer Timely response?  Month  \\\n",
              "3            Web  Closed with non-monetary relief              Yes      5   \n",
              "5            Web            Closed without relief              Yes      1   \n",
              "7    Postal mail          Closed with explanation              Yes      6   \n",
              "8            Web          Closed with explanation              Yes      7   \n",
              "10   Postal mail          Closed with explanation              Yes      6   \n",
              "\n",
              "    Year Days held  week                       Issues_cleaned  \n",
              "3   2016    3 days     3   loan servic payment escrow account  \n",
              "5   2012    1 days     2                        commun tactic  \n",
              "7   2013    3 days     4   loan servic payment escrow account  \n",
              "8   2014    6 days     3  cont d attempt collect debt not owe  \n",
              "10  2015    1 days     1                             late fee  "
            ],
            "text/html": [
              "\n",
              "  <div id=\"df-2b3f59a9-8511-47c3-a94a-b2ea6066950d\">\n",
              "    <div class=\"colab-df-container\">\n",
              "      <div>\n",
              "<style scoped>\n",
              "    .dataframe tbody tr th:only-of-type {\n",
              "        vertical-align: middle;\n",
              "    }\n",
              "\n",
              "    .dataframe tbody tr th {\n",
              "        vertical-align: top;\n",
              "    }\n",
              "\n",
              "    .dataframe thead th {\n",
              "        text-align: right;\n",
              "    }\n",
              "</style>\n",
              "<table border=\"1\" class=\"dataframe\">\n",
              "  <thead>\n",
              "    <tr style=\"text-align: right;\">\n",
              "      <th></th>\n",
              "      <th>Product</th>\n",
              "      <th>Company</th>\n",
              "      <th>State</th>\n",
              "      <th>Submitted via</th>\n",
              "      <th>Company response to consumer</th>\n",
              "      <th>Timely response?</th>\n",
              "      <th>Month</th>\n",
              "      <th>Year</th>\n",
              "      <th>Days held</th>\n",
              "      <th>week</th>\n",
              "      <th>Issues_cleaned</th>\n",
              "    </tr>\n",
              "  </thead>\n",
              "  <tbody>\n",
              "    <tr>\n",
              "      <th>3</th>\n",
              "      <td>Consumer Loan</td>\n",
              "      <td>OneMain Financial Holdings, LLC</td>\n",
              "      <td>MO</td>\n",
              "      <td>Web</td>\n",
              "      <td>Closed with non-monetary relief</td>\n",
              "      <td>Yes</td>\n",
              "      <td>5</td>\n",
              "      <td>2016</td>\n",
              "      <td>3 days</td>\n",
              "      <td>3</td>\n",
              "      <td>loan servic payment escrow account</td>\n",
              "    </tr>\n",
              "    <tr>\n",
              "      <th>5</th>\n",
              "      <td>Mortgage</td>\n",
              "      <td>JPMorgan Chase &amp; Co.</td>\n",
              "      <td>MI</td>\n",
              "      <td>Web</td>\n",
              "      <td>Closed without relief</td>\n",
              "      <td>Yes</td>\n",
              "      <td>1</td>\n",
              "      <td>2012</td>\n",
              "      <td>1 days</td>\n",
              "      <td>2</td>\n",
              "      <td>commun tactic</td>\n",
              "    </tr>\n",
              "    <tr>\n",
              "      <th>7</th>\n",
              "      <td>Credit reporting</td>\n",
              "      <td>TransUnion Intermediate Holdings, Inc.</td>\n",
              "      <td>FL</td>\n",
              "      <td>Postal mail</td>\n",
              "      <td>Closed with explanation</td>\n",
              "      <td>Yes</td>\n",
              "      <td>6</td>\n",
              "      <td>2013</td>\n",
              "      <td>3 days</td>\n",
              "      <td>4</td>\n",
              "      <td>loan servic payment escrow account</td>\n",
              "    </tr>\n",
              "    <tr>\n",
              "      <th>8</th>\n",
              "      <td>Mortgage</td>\n",
              "      <td>Citibank</td>\n",
              "      <td>CA</td>\n",
              "      <td>Web</td>\n",
              "      <td>Closed with explanation</td>\n",
              "      <td>Yes</td>\n",
              "      <td>7</td>\n",
              "      <td>2014</td>\n",
              "      <td>6 days</td>\n",
              "      <td>3</td>\n",
              "      <td>cont d attempt collect debt not owe</td>\n",
              "    </tr>\n",
              "    <tr>\n",
              "      <th>10</th>\n",
              "      <td>Bank account or service</td>\n",
              "      <td>Wells Fargo &amp; Company</td>\n",
              "      <td>NC</td>\n",
              "      <td>Postal mail</td>\n",
              "      <td>Closed with explanation</td>\n",
              "      <td>Yes</td>\n",
              "      <td>6</td>\n",
              "      <td>2015</td>\n",
              "      <td>1 days</td>\n",
              "      <td>1</td>\n",
              "      <td>late fee</td>\n",
              "    </tr>\n",
              "  </tbody>\n",
              "</table>\n",
              "</div>\n",
              "      <button class=\"colab-df-convert\" onclick=\"convertToInteractive('df-2b3f59a9-8511-47c3-a94a-b2ea6066950d')\"\n",
              "              title=\"Convert this dataframe to an interactive table.\"\n",
              "              style=\"display:none;\">\n",
              "        \n",
              "  <svg xmlns=\"http://www.w3.org/2000/svg\" height=\"24px\"viewBox=\"0 0 24 24\"\n",
              "       width=\"24px\">\n",
              "    <path d=\"M0 0h24v24H0V0z\" fill=\"none\"/>\n",
              "    <path d=\"M18.56 5.44l.94 2.06.94-2.06 2.06-.94-2.06-.94-.94-2.06-.94 2.06-2.06.94zm-11 1L8.5 8.5l.94-2.06 2.06-.94-2.06-.94L8.5 2.5l-.94 2.06-2.06.94zm10 10l.94 2.06.94-2.06 2.06-.94-2.06-.94-.94-2.06-.94 2.06-2.06.94z\"/><path d=\"M17.41 7.96l-1.37-1.37c-.4-.4-.92-.59-1.43-.59-.52 0-1.04.2-1.43.59L10.3 9.45l-7.72 7.72c-.78.78-.78 2.05 0 2.83L4 21.41c.39.39.9.59 1.41.59.51 0 1.02-.2 1.41-.59l7.78-7.78 2.81-2.81c.8-.78.8-2.07 0-2.86zM5.41 20L4 18.59l7.72-7.72 1.47 1.35L5.41 20z\"/>\n",
              "  </svg>\n",
              "      </button>\n",
              "      \n",
              "  <style>\n",
              "    .colab-df-container {\n",
              "      display:flex;\n",
              "      flex-wrap:wrap;\n",
              "      gap: 12px;\n",
              "    }\n",
              "\n",
              "    .colab-df-convert {\n",
              "      background-color: #E8F0FE;\n",
              "      border: none;\n",
              "      border-radius: 50%;\n",
              "      cursor: pointer;\n",
              "      display: none;\n",
              "      fill: #1967D2;\n",
              "      height: 32px;\n",
              "      padding: 0 0 0 0;\n",
              "      width: 32px;\n",
              "    }\n",
              "\n",
              "    .colab-df-convert:hover {\n",
              "      background-color: #E2EBFA;\n",
              "      box-shadow: 0px 1px 2px rgba(60, 64, 67, 0.3), 0px 1px 3px 1px rgba(60, 64, 67, 0.15);\n",
              "      fill: #174EA6;\n",
              "    }\n",
              "\n",
              "    [theme=dark] .colab-df-convert {\n",
              "      background-color: #3B4455;\n",
              "      fill: #D2E3FC;\n",
              "    }\n",
              "\n",
              "    [theme=dark] .colab-df-convert:hover {\n",
              "      background-color: #434B5C;\n",
              "      box-shadow: 0px 1px 3px 1px rgba(0, 0, 0, 0.15);\n",
              "      filter: drop-shadow(0px 1px 2px rgba(0, 0, 0, 0.3));\n",
              "      fill: #FFFFFF;\n",
              "    }\n",
              "  </style>\n",
              "\n",
              "      <script>\n",
              "        const buttonEl =\n",
              "          document.querySelector('#df-2b3f59a9-8511-47c3-a94a-b2ea6066950d button.colab-df-convert');\n",
              "        buttonEl.style.display =\n",
              "          google.colab.kernel.accessAllowed ? 'block' : 'none';\n",
              "\n",
              "        async function convertToInteractive(key) {\n",
              "          const element = document.querySelector('#df-2b3f59a9-8511-47c3-a94a-b2ea6066950d');\n",
              "          const dataTable =\n",
              "            await google.colab.kernel.invokeFunction('convertToInteractive',\n",
              "                                                     [key], {});\n",
              "          if (!dataTable) return;\n",
              "\n",
              "          const docLinkHtml = 'Like what you see? Visit the ' +\n",
              "            '<a target=\"_blank\" href=https://colab.research.google.com/notebooks/data_table.ipynb>data table notebook</a>'\n",
              "            + ' to learn more about interactive tables.';\n",
              "          element.innerHTML = '';\n",
              "          dataTable['output_type'] = 'display_data';\n",
              "          await google.colab.output.renderOutput(dataTable, element);\n",
              "          const docLink = document.createElement('div');\n",
              "          docLink.innerHTML = docLinkHtml;\n",
              "          element.appendChild(docLink);\n",
              "        }\n",
              "      </script>\n",
              "    </div>\n",
              "  </div>\n",
              "  "
            ]
          },
          "metadata": {},
          "execution_count": 519
        }
      ],
      "source": [
        "df_test.head()"
      ]
    },
    {
      "cell_type": "markdown",
      "metadata": {
        "id": "7h1ZLZwSpoqg"
      },
      "source": [
        "Drop Unnecessary Columns for the Model Building<br>\n",
        "like:'Company', 'State', 'Year_Received', 'Days_held'"
      ]
    },
    {
      "cell_type": "code",
      "execution_count": 520,
      "metadata": {
        "id": "JAhztPQ9poqg"
      },
      "outputs": [],
      "source": [
        "df_train=df_train.drop(columns=['Company','State','Year','Days held'])\n",
        "df_test=df_test.drop(columns=['Company','State','Year','Days held'])"
      ]
    },
    {
      "cell_type": "markdown",
      "metadata": {
        "id": "MbQVqtzqpoqg"
      },
      "source": [
        "Change Consumer Disputed Column to 0 and 1(yes to 1, and no to 0)"
      ]
    },
    {
      "cell_type": "code",
      "execution_count": 521,
      "metadata": {
        "id": "rYaesKiVpoqh"
      },
      "outputs": [],
      "source": [
        "def change(ch):\n",
        "  if ch==\"Yes\":\n",
        "    return 1\n",
        "  else:\n",
        "    return 0\n",
        "df_train['Consumer disputed?']=df_train.apply(lambda x:change(x[\"Consumer disputed?\"]),axis=1)"
      ]
    },
    {
      "cell_type": "markdown",
      "metadata": {
        "id": "Cf3IZk9Upoqh"
      },
      "source": [
        "Create Dummy Variables for catagorical features \n",
        "like: 'Product', 'Submitted via', 'Company response to consumer', 'Timely response?'"
      ]
    },
    {
      "cell_type": "code",
      "execution_count": 522,
      "metadata": {
        "id": "aZR2mdiIpoqh"
      },
      "outputs": [],
      "source": [
        "d2=pd.get_dummies(df_train['Product'])\n",
        "d3=pd.get_dummies(df_train[ 'Submitted via'])\n",
        "d4=pd.get_dummies(df_train['Company response to consumer'])\n",
        "d5=pd.get_dummies(df_train[\"Timely response?\"])\n",
        "d6=pd.get_dummies(df_test['Product'])\n",
        "d7=pd.get_dummies(df_test[ 'Submitted via'])\n",
        "d8=pd.get_dummies(df_test['Company response to consumer'])\n",
        "d9=pd.get_dummies(df_test[\"Timely response?\"])"
      ]
    },
    {
      "cell_type": "markdown",
      "metadata": {
        "id": "t8hd8_Tvpoqh"
      },
      "source": [
        "Concate Dummy Variables and Drop the Original Columns"
      ]
    },
    {
      "cell_type": "code",
      "execution_count": 523,
      "metadata": {
        "id": "3aU54mOOpoqi"
      },
      "outputs": [],
      "source": [
        "df_train=pd.concat([df_train,d2,d3,d4,d5],axis =1)\n",
        "df_test=pd.concat([df_test,d6,d7,d8,d9],axis=1)"
      ]
    },
    {
      "cell_type": "code",
      "execution_count": 524,
      "metadata": {
        "id": "8LoK0URYqo5l"
      },
      "outputs": [],
      "source": [
        "df_train=df_train.drop(columns=['Product','Submitted via','Company response to consumer',\"Timely response?\"])\n",
        "df_test=df_test.drop(columns=['Product','Submitted via','Company response to consumer',\"Timely response?\"])"
      ]
    },
    {
      "cell_type": "markdown",
      "metadata": {
        "id": "V3HKQXiDHKOn"
      },
      "source": [
        ""
      ]
    },
    {
      "cell_type": "code",
      "execution_count": 525,
      "metadata": {
        "colab": {
          "base_uri": "https://localhost:8080/"
        },
        "id": "dMPtHohelbCi",
        "outputId": "f208a5e0-17b2-4310-bf6e-9248d9472f2a"
      },
      "outputs": [
        {
          "output_type": "stream",
          "name": "stdout",
          "text": [
            "(197521, 30) (65627, 29)\n"
          ]
        }
      ],
      "source": [
        "print(df_train.shape,df_test.shape)"
      ]
    },
    {
      "cell_type": "code",
      "execution_count": 526,
      "metadata": {
        "colab": {
          "base_uri": "https://localhost:8080/"
        },
        "id": "T73gitXCrZXY",
        "outputId": "7780eed6-7ca3-4692-c2f8-193125b0332d"
      },
      "outputs": [
        {
          "output_type": "execute_result",
          "data": {
            "text/plain": [
              "0    loan modif collect foreclosur\n",
              "dtype: object"
            ]
          },
          "metadata": {},
          "execution_count": 526
        }
      ],
      "source": [
        "df_train.Issues_cleaned.mode(dropna=True)"
      ]
    },
    {
      "cell_type": "code",
      "execution_count": 527,
      "metadata": {
        "id": "PPIIRa3yspSR"
      },
      "outputs": [],
      "source": [
        "df_train.fillna(\"loan modif collect foreclosur\",inplace=True)\n",
        "df_test.fillna(\"loan modif collect foreclosur\",inplace=True)"
      ]
    },
    {
      "cell_type": "code",
      "execution_count": 528,
      "metadata": {
        "colab": {
          "base_uri": "https://localhost:8080/"
        },
        "id": "v-nqW0qfldgN",
        "outputId": "3d7ab18c-3b5f-49ca-bbe7-5bf3dc38bbd8"
      },
      "outputs": [
        {
          "output_type": "stream",
          "name": "stdout",
          "text": [
            "(197521, 30) (65627, 29)\n"
          ]
        }
      ],
      "source": [
        "print(df_train.shape,df_test.shape)"
      ]
    },
    {
      "cell_type": "markdown",
      "metadata": {
        "id": "q49q-yVxpoqi"
      },
      "source": [
        "Calculating TF-IDF"
      ]
    },
    {
      "cell_type": "code",
      "execution_count": 529,
      "metadata": {
        "colab": {
          "base_uri": "https://localhost:8080/",
          "height": 206
        },
        "id": "xsuxLlykpoqi",
        "outputId": "eda4110a-6f83-4bd5-8a64-e1baa63b4f4b"
      },
      "outputs": [
        {
          "output_type": "execute_result",
          "data": {
            "text/plain": [
              "           Idf_weights\n",
              "damag        11.398611\n",
              "destroy      11.398611\n",
              "conveni      10.482320\n",
              "repossess    10.482320\n",
              "sell         10.482320"
            ],
            "text/html": [
              "\n",
              "  <div id=\"df-68d929a9-a94e-4d0c-8d2a-55ccde9b534e\">\n",
              "    <div class=\"colab-df-container\">\n",
              "      <div>\n",
              "<style scoped>\n",
              "    .dataframe tbody tr th:only-of-type {\n",
              "        vertical-align: middle;\n",
              "    }\n",
              "\n",
              "    .dataframe tbody tr th {\n",
              "        vertical-align: top;\n",
              "    }\n",
              "\n",
              "    .dataframe thead th {\n",
              "        text-align: right;\n",
              "    }\n",
              "</style>\n",
              "<table border=\"1\" class=\"dataframe\">\n",
              "  <thead>\n",
              "    <tr style=\"text-align: right;\">\n",
              "      <th></th>\n",
              "      <th>Idf_weights</th>\n",
              "    </tr>\n",
              "  </thead>\n",
              "  <tbody>\n",
              "    <tr>\n",
              "      <th>damag</th>\n",
              "      <td>11.398611</td>\n",
              "    </tr>\n",
              "    <tr>\n",
              "      <th>destroy</th>\n",
              "      <td>11.398611</td>\n",
              "    </tr>\n",
              "    <tr>\n",
              "      <th>conveni</th>\n",
              "      <td>10.482320</td>\n",
              "    </tr>\n",
              "    <tr>\n",
              "      <th>repossess</th>\n",
              "      <td>10.482320</td>\n",
              "    </tr>\n",
              "    <tr>\n",
              "      <th>sell</th>\n",
              "      <td>10.482320</td>\n",
              "    </tr>\n",
              "  </tbody>\n",
              "</table>\n",
              "</div>\n",
              "      <button class=\"colab-df-convert\" onclick=\"convertToInteractive('df-68d929a9-a94e-4d0c-8d2a-55ccde9b534e')\"\n",
              "              title=\"Convert this dataframe to an interactive table.\"\n",
              "              style=\"display:none;\">\n",
              "        \n",
              "  <svg xmlns=\"http://www.w3.org/2000/svg\" height=\"24px\"viewBox=\"0 0 24 24\"\n",
              "       width=\"24px\">\n",
              "    <path d=\"M0 0h24v24H0V0z\" fill=\"none\"/>\n",
              "    <path d=\"M18.56 5.44l.94 2.06.94-2.06 2.06-.94-2.06-.94-.94-2.06-.94 2.06-2.06.94zm-11 1L8.5 8.5l.94-2.06 2.06-.94-2.06-.94L8.5 2.5l-.94 2.06-2.06.94zm10 10l.94 2.06.94-2.06 2.06-.94-2.06-.94-.94-2.06-.94 2.06-2.06.94z\"/><path d=\"M17.41 7.96l-1.37-1.37c-.4-.4-.92-.59-1.43-.59-.52 0-1.04.2-1.43.59L10.3 9.45l-7.72 7.72c-.78.78-.78 2.05 0 2.83L4 21.41c.39.39.9.59 1.41.59.51 0 1.02-.2 1.41-.59l7.78-7.78 2.81-2.81c.8-.78.8-2.07 0-2.86zM5.41 20L4 18.59l7.72-7.72 1.47 1.35L5.41 20z\"/>\n",
              "  </svg>\n",
              "      </button>\n",
              "      \n",
              "  <style>\n",
              "    .colab-df-container {\n",
              "      display:flex;\n",
              "      flex-wrap:wrap;\n",
              "      gap: 12px;\n",
              "    }\n",
              "\n",
              "    .colab-df-convert {\n",
              "      background-color: #E8F0FE;\n",
              "      border: none;\n",
              "      border-radius: 50%;\n",
              "      cursor: pointer;\n",
              "      display: none;\n",
              "      fill: #1967D2;\n",
              "      height: 32px;\n",
              "      padding: 0 0 0 0;\n",
              "      width: 32px;\n",
              "    }\n",
              "\n",
              "    .colab-df-convert:hover {\n",
              "      background-color: #E2EBFA;\n",
              "      box-shadow: 0px 1px 2px rgba(60, 64, 67, 0.3), 0px 1px 3px 1px rgba(60, 64, 67, 0.15);\n",
              "      fill: #174EA6;\n",
              "    }\n",
              "\n",
              "    [theme=dark] .colab-df-convert {\n",
              "      background-color: #3B4455;\n",
              "      fill: #D2E3FC;\n",
              "    }\n",
              "\n",
              "    [theme=dark] .colab-df-convert:hover {\n",
              "      background-color: #434B5C;\n",
              "      box-shadow: 0px 1px 3px 1px rgba(0, 0, 0, 0.15);\n",
              "      filter: drop-shadow(0px 1px 2px rgba(0, 0, 0, 0.3));\n",
              "      fill: #FFFFFF;\n",
              "    }\n",
              "  </style>\n",
              "\n",
              "      <script>\n",
              "        const buttonEl =\n",
              "          document.querySelector('#df-68d929a9-a94e-4d0c-8d2a-55ccde9b534e button.colab-df-convert');\n",
              "        buttonEl.style.display =\n",
              "          google.colab.kernel.accessAllowed ? 'block' : 'none';\n",
              "\n",
              "        async function convertToInteractive(key) {\n",
              "          const element = document.querySelector('#df-68d929a9-a94e-4d0c-8d2a-55ccde9b534e');\n",
              "          const dataTable =\n",
              "            await google.colab.kernel.invokeFunction('convertToInteractive',\n",
              "                                                     [key], {});\n",
              "          if (!dataTable) return;\n",
              "\n",
              "          const docLinkHtml = 'Like what you see? Visit the ' +\n",
              "            '<a target=\"_blank\" href=https://colab.research.google.com/notebooks/data_table.ipynb>data table notebook</a>'\n",
              "            + ' to learn more about interactive tables.';\n",
              "          element.innerHTML = '';\n",
              "          dataTable['output_type'] = 'display_data';\n",
              "          await google.colab.output.renderOutput(dataTable, element);\n",
              "          const docLink = document.createElement('div');\n",
              "          docLink.innerHTML = docLinkHtml;\n",
              "          element.appendChild(docLink);\n",
              "        }\n",
              "      </script>\n",
              "    </div>\n",
              "  </div>\n",
              "  "
            ]
          },
          "metadata": {},
          "execution_count": 529
        }
      ],
      "source": [
        "tf = TfidfVectorizer()\n",
        "issues_cleaned_train = tf.fit_transform(df_train['Issues_cleaned']).toarray()\n",
        "issues_cleaned_test = tf.fit_transform(df_test['Issues_cleaned']).toarray()\n",
        "tf_columns_train = []\n",
        "tf_columns_test = []\n",
        "for i in range(issues_cleaned_train.shape[1]):\n",
        "    tf_columns_train.append('Feature' + str(i+1))\n",
        "for i in range(issues_cleaned_test.shape[1]):\n",
        "    tf_columns_test.append('Feature' + str(i+1))\n",
        "issues_train = pd.DataFrame(issues_cleaned_train, columns = tf_columns_train)\n",
        "issues_test = pd.DataFrame(issues_cleaned_test, columns = tf_columns_test)\n",
        "weights = pd.DataFrame(tf.idf_, index = tf.get_feature_names(), columns = ['Idf_weights']).sort_values(by = 'Idf_weights', ascending = False)\n",
        "weights.head()"
      ]
    },
    {
      "cell_type": "code",
      "execution_count": 530,
      "metadata": {
        "colab": {
          "base_uri": "https://localhost:8080/"
        },
        "id": "k783aDHllgRJ",
        "outputId": "a162e5f4-216b-453e-b882-c0f849e4fe46"
      },
      "outputs": [
        {
          "output_type": "stream",
          "name": "stdout",
          "text": [
            "(197521, 30) (65627, 29)\n"
          ]
        }
      ],
      "source": [
        "print(df_train.shape,df_test.shape)"
      ]
    },
    {
      "cell_type": "markdown",
      "metadata": {
        "id": "rxPhTO_Qpoqi"
      },
      "source": [
        "Replacing Issues_cleaned by Vectorized Issues"
      ]
    },
    {
      "cell_type": "code",
      "execution_count": 531,
      "metadata": {
        "colab": {
          "base_uri": "https://localhost:8080/",
          "height": 641
        },
        "id": "WfRcTkLJtjnR",
        "outputId": "1ac7b8ca-1998-4ae6-e673-8de53ed7a716"
      },
      "outputs": [
        {
          "output_type": "execute_result",
          "data": {
            "text/plain": [
              "        Consumer disputed?  Month  week                       Issues_cleaned  \\\n",
              "2                        0     12     3                 apr or interest rate   \n",
              "3                        0      3     1  cont d attempt collect debt not owe   \n",
              "5                        1      1     2                        commun tactic   \n",
              "9                        0      8     2         applic origin mortgag broker   \n",
              "11                       0     11     2        loan modif collect foreclosur   \n",
              "...                    ...    ...   ...                                  ...   \n",
              "358802                   0     11     4        loan modif collect foreclosur   \n",
              "358804                   0      4     3        loan modif collect foreclosur   \n",
              "358806                   0      3     2        loan modif collect foreclosur   \n",
              "358808                   0      6     4        loan modif collect foreclosur   \n",
              "358809                   0      5     2        loan modif collect foreclosur   \n",
              "\n",
              "        Bank account or service  Consumer Loan  Credit card  Credit reporting  \\\n",
              "2                             0              0            1                 0   \n",
              "3                             0              0            0                 0   \n",
              "5                             0              0            1                 0   \n",
              "9                             0              0            0                 0   \n",
              "11                            0              0            0                 0   \n",
              "...                         ...            ...          ...               ...   \n",
              "358802                        1              0            0                 0   \n",
              "358804                        0              0            0                 0   \n",
              "358806                        0              0            0                 0   \n",
              "358808                        0              0            0                 0   \n",
              "358809                        0              0            0                 1   \n",
              "\n",
              "        Debt collection  Money transfers  ...  Referral  Web  Closed  \\\n",
              "2                     0                0  ...         0    0       0   \n",
              "3                     1                0  ...         1    0       0   \n",
              "5                     0                0  ...         0    1       0   \n",
              "9                     1                0  ...         0    1       0   \n",
              "11                    1                0  ...         0    1       0   \n",
              "...                 ...              ...  ...       ...  ...     ...   \n",
              "358802                0                0  ...         1    0       0   \n",
              "358804                0                0  ...         0    0       0   \n",
              "358806                0                0  ...         1    0       0   \n",
              "358808                1                0  ...         0    0       0   \n",
              "358809                0                0  ...         1    0       0   \n",
              "\n",
              "        Closed with explanation  Closed with monetary relief  \\\n",
              "2                             0                            0   \n",
              "3                             1                            0   \n",
              "5                             1                            0   \n",
              "9                             1                            0   \n",
              "11                            0                            0   \n",
              "...                         ...                          ...   \n",
              "358802                        0                            1   \n",
              "358804                        1                            0   \n",
              "358806                        0                            0   \n",
              "358808                        0                            0   \n",
              "358809                        1                            0   \n",
              "\n",
              "        Closed with non-monetary relief  Closed with relief  \\\n",
              "2                                     1                   0   \n",
              "3                                     0                   0   \n",
              "5                                     0                   0   \n",
              "9                                     0                   0   \n",
              "11                                    1                   0   \n",
              "...                                 ...                 ...   \n",
              "358802                                0                   0   \n",
              "358804                                0                   0   \n",
              "358806                                1                   0   \n",
              "358808                                1                   0   \n",
              "358809                                0                   0   \n",
              "\n",
              "        Closed without relief  No  Yes  \n",
              "2                           0   0    1  \n",
              "3                           0   0    1  \n",
              "5                           0   0    1  \n",
              "9                           0   0    1  \n",
              "11                          0   0    1  \n",
              "...                       ...  ..  ...  \n",
              "358802                      0   0    1  \n",
              "358804                      0   0    1  \n",
              "358806                      0   0    1  \n",
              "358808                      0   0    1  \n",
              "358809                      0   0    1  \n",
              "\n",
              "[197521 rows x 30 columns]"
            ],
            "text/html": [
              "\n",
              "  <div id=\"df-e285f9b5-deae-47bc-9e68-f97baefb6bac\">\n",
              "    <div class=\"colab-df-container\">\n",
              "      <div>\n",
              "<style scoped>\n",
              "    .dataframe tbody tr th:only-of-type {\n",
              "        vertical-align: middle;\n",
              "    }\n",
              "\n",
              "    .dataframe tbody tr th {\n",
              "        vertical-align: top;\n",
              "    }\n",
              "\n",
              "    .dataframe thead th {\n",
              "        text-align: right;\n",
              "    }\n",
              "</style>\n",
              "<table border=\"1\" class=\"dataframe\">\n",
              "  <thead>\n",
              "    <tr style=\"text-align: right;\">\n",
              "      <th></th>\n",
              "      <th>Consumer disputed?</th>\n",
              "      <th>Month</th>\n",
              "      <th>week</th>\n",
              "      <th>Issues_cleaned</th>\n",
              "      <th>Bank account or service</th>\n",
              "      <th>Consumer Loan</th>\n",
              "      <th>Credit card</th>\n",
              "      <th>Credit reporting</th>\n",
              "      <th>Debt collection</th>\n",
              "      <th>Money transfers</th>\n",
              "      <th>...</th>\n",
              "      <th>Referral</th>\n",
              "      <th>Web</th>\n",
              "      <th>Closed</th>\n",
              "      <th>Closed with explanation</th>\n",
              "      <th>Closed with monetary relief</th>\n",
              "      <th>Closed with non-monetary relief</th>\n",
              "      <th>Closed with relief</th>\n",
              "      <th>Closed without relief</th>\n",
              "      <th>No</th>\n",
              "      <th>Yes</th>\n",
              "    </tr>\n",
              "  </thead>\n",
              "  <tbody>\n",
              "    <tr>\n",
              "      <th>2</th>\n",
              "      <td>0</td>\n",
              "      <td>12</td>\n",
              "      <td>3</td>\n",
              "      <td>apr or interest rate</td>\n",
              "      <td>0</td>\n",
              "      <td>0</td>\n",
              "      <td>1</td>\n",
              "      <td>0</td>\n",
              "      <td>0</td>\n",
              "      <td>0</td>\n",
              "      <td>...</td>\n",
              "      <td>0</td>\n",
              "      <td>0</td>\n",
              "      <td>0</td>\n",
              "      <td>0</td>\n",
              "      <td>0</td>\n",
              "      <td>1</td>\n",
              "      <td>0</td>\n",
              "      <td>0</td>\n",
              "      <td>0</td>\n",
              "      <td>1</td>\n",
              "    </tr>\n",
              "    <tr>\n",
              "      <th>3</th>\n",
              "      <td>0</td>\n",
              "      <td>3</td>\n",
              "      <td>1</td>\n",
              "      <td>cont d attempt collect debt not owe</td>\n",
              "      <td>0</td>\n",
              "      <td>0</td>\n",
              "      <td>0</td>\n",
              "      <td>0</td>\n",
              "      <td>1</td>\n",
              "      <td>0</td>\n",
              "      <td>...</td>\n",
              "      <td>1</td>\n",
              "      <td>0</td>\n",
              "      <td>0</td>\n",
              "      <td>1</td>\n",
              "      <td>0</td>\n",
              "      <td>0</td>\n",
              "      <td>0</td>\n",
              "      <td>0</td>\n",
              "      <td>0</td>\n",
              "      <td>1</td>\n",
              "    </tr>\n",
              "    <tr>\n",
              "      <th>5</th>\n",
              "      <td>1</td>\n",
              "      <td>1</td>\n",
              "      <td>2</td>\n",
              "      <td>commun tactic</td>\n",
              "      <td>0</td>\n",
              "      <td>0</td>\n",
              "      <td>1</td>\n",
              "      <td>0</td>\n",
              "      <td>0</td>\n",
              "      <td>0</td>\n",
              "      <td>...</td>\n",
              "      <td>0</td>\n",
              "      <td>1</td>\n",
              "      <td>0</td>\n",
              "      <td>1</td>\n",
              "      <td>0</td>\n",
              "      <td>0</td>\n",
              "      <td>0</td>\n",
              "      <td>0</td>\n",
              "      <td>0</td>\n",
              "      <td>1</td>\n",
              "    </tr>\n",
              "    <tr>\n",
              "      <th>9</th>\n",
              "      <td>0</td>\n",
              "      <td>8</td>\n",
              "      <td>2</td>\n",
              "      <td>applic origin mortgag broker</td>\n",
              "      <td>0</td>\n",
              "      <td>0</td>\n",
              "      <td>0</td>\n",
              "      <td>0</td>\n",
              "      <td>1</td>\n",
              "      <td>0</td>\n",
              "      <td>...</td>\n",
              "      <td>0</td>\n",
              "      <td>1</td>\n",
              "      <td>0</td>\n",
              "      <td>1</td>\n",
              "      <td>0</td>\n",
              "      <td>0</td>\n",
              "      <td>0</td>\n",
              "      <td>0</td>\n",
              "      <td>0</td>\n",
              "      <td>1</td>\n",
              "    </tr>\n",
              "    <tr>\n",
              "      <th>11</th>\n",
              "      <td>0</td>\n",
              "      <td>11</td>\n",
              "      <td>2</td>\n",
              "      <td>loan modif collect foreclosur</td>\n",
              "      <td>0</td>\n",
              "      <td>0</td>\n",
              "      <td>0</td>\n",
              "      <td>0</td>\n",
              "      <td>1</td>\n",
              "      <td>0</td>\n",
              "      <td>...</td>\n",
              "      <td>0</td>\n",
              "      <td>1</td>\n",
              "      <td>0</td>\n",
              "      <td>0</td>\n",
              "      <td>0</td>\n",
              "      <td>1</td>\n",
              "      <td>0</td>\n",
              "      <td>0</td>\n",
              "      <td>0</td>\n",
              "      <td>1</td>\n",
              "    </tr>\n",
              "    <tr>\n",
              "      <th>...</th>\n",
              "      <td>...</td>\n",
              "      <td>...</td>\n",
              "      <td>...</td>\n",
              "      <td>...</td>\n",
              "      <td>...</td>\n",
              "      <td>...</td>\n",
              "      <td>...</td>\n",
              "      <td>...</td>\n",
              "      <td>...</td>\n",
              "      <td>...</td>\n",
              "      <td>...</td>\n",
              "      <td>...</td>\n",
              "      <td>...</td>\n",
              "      <td>...</td>\n",
              "      <td>...</td>\n",
              "      <td>...</td>\n",
              "      <td>...</td>\n",
              "      <td>...</td>\n",
              "      <td>...</td>\n",
              "      <td>...</td>\n",
              "      <td>...</td>\n",
              "    </tr>\n",
              "    <tr>\n",
              "      <th>358802</th>\n",
              "      <td>0</td>\n",
              "      <td>11</td>\n",
              "      <td>4</td>\n",
              "      <td>loan modif collect foreclosur</td>\n",
              "      <td>1</td>\n",
              "      <td>0</td>\n",
              "      <td>0</td>\n",
              "      <td>0</td>\n",
              "      <td>0</td>\n",
              "      <td>0</td>\n",
              "      <td>...</td>\n",
              "      <td>1</td>\n",
              "      <td>0</td>\n",
              "      <td>0</td>\n",
              "      <td>0</td>\n",
              "      <td>1</td>\n",
              "      <td>0</td>\n",
              "      <td>0</td>\n",
              "      <td>0</td>\n",
              "      <td>0</td>\n",
              "      <td>1</td>\n",
              "    </tr>\n",
              "    <tr>\n",
              "      <th>358804</th>\n",
              "      <td>0</td>\n",
              "      <td>4</td>\n",
              "      <td>3</td>\n",
              "      <td>loan modif collect foreclosur</td>\n",
              "      <td>0</td>\n",
              "      <td>0</td>\n",
              "      <td>0</td>\n",
              "      <td>0</td>\n",
              "      <td>0</td>\n",
              "      <td>0</td>\n",
              "      <td>...</td>\n",
              "      <td>0</td>\n",
              "      <td>0</td>\n",
              "      <td>0</td>\n",
              "      <td>1</td>\n",
              "      <td>0</td>\n",
              "      <td>0</td>\n",
              "      <td>0</td>\n",
              "      <td>0</td>\n",
              "      <td>0</td>\n",
              "      <td>1</td>\n",
              "    </tr>\n",
              "    <tr>\n",
              "      <th>358806</th>\n",
              "      <td>0</td>\n",
              "      <td>3</td>\n",
              "      <td>2</td>\n",
              "      <td>loan modif collect foreclosur</td>\n",
              "      <td>0</td>\n",
              "      <td>0</td>\n",
              "      <td>0</td>\n",
              "      <td>0</td>\n",
              "      <td>0</td>\n",
              "      <td>0</td>\n",
              "      <td>...</td>\n",
              "      <td>1</td>\n",
              "      <td>0</td>\n",
              "      <td>0</td>\n",
              "      <td>0</td>\n",
              "      <td>0</td>\n",
              "      <td>1</td>\n",
              "      <td>0</td>\n",
              "      <td>0</td>\n",
              "      <td>0</td>\n",
              "      <td>1</td>\n",
              "    </tr>\n",
              "    <tr>\n",
              "      <th>358808</th>\n",
              "      <td>0</td>\n",
              "      <td>6</td>\n",
              "      <td>4</td>\n",
              "      <td>loan modif collect foreclosur</td>\n",
              "      <td>0</td>\n",
              "      <td>0</td>\n",
              "      <td>0</td>\n",
              "      <td>0</td>\n",
              "      <td>1</td>\n",
              "      <td>0</td>\n",
              "      <td>...</td>\n",
              "      <td>0</td>\n",
              "      <td>0</td>\n",
              "      <td>0</td>\n",
              "      <td>0</td>\n",
              "      <td>0</td>\n",
              "      <td>1</td>\n",
              "      <td>0</td>\n",
              "      <td>0</td>\n",
              "      <td>0</td>\n",
              "      <td>1</td>\n",
              "    </tr>\n",
              "    <tr>\n",
              "      <th>358809</th>\n",
              "      <td>0</td>\n",
              "      <td>5</td>\n",
              "      <td>2</td>\n",
              "      <td>loan modif collect foreclosur</td>\n",
              "      <td>0</td>\n",
              "      <td>0</td>\n",
              "      <td>0</td>\n",
              "      <td>1</td>\n",
              "      <td>0</td>\n",
              "      <td>0</td>\n",
              "      <td>...</td>\n",
              "      <td>1</td>\n",
              "      <td>0</td>\n",
              "      <td>0</td>\n",
              "      <td>1</td>\n",
              "      <td>0</td>\n",
              "      <td>0</td>\n",
              "      <td>0</td>\n",
              "      <td>0</td>\n",
              "      <td>0</td>\n",
              "      <td>1</td>\n",
              "    </tr>\n",
              "  </tbody>\n",
              "</table>\n",
              "<p>197521 rows × 30 columns</p>\n",
              "</div>\n",
              "      <button class=\"colab-df-convert\" onclick=\"convertToInteractive('df-e285f9b5-deae-47bc-9e68-f97baefb6bac')\"\n",
              "              title=\"Convert this dataframe to an interactive table.\"\n",
              "              style=\"display:none;\">\n",
              "        \n",
              "  <svg xmlns=\"http://www.w3.org/2000/svg\" height=\"24px\"viewBox=\"0 0 24 24\"\n",
              "       width=\"24px\">\n",
              "    <path d=\"M0 0h24v24H0V0z\" fill=\"none\"/>\n",
              "    <path d=\"M18.56 5.44l.94 2.06.94-2.06 2.06-.94-2.06-.94-.94-2.06-.94 2.06-2.06.94zm-11 1L8.5 8.5l.94-2.06 2.06-.94-2.06-.94L8.5 2.5l-.94 2.06-2.06.94zm10 10l.94 2.06.94-2.06 2.06-.94-2.06-.94-.94-2.06-.94 2.06-2.06.94z\"/><path d=\"M17.41 7.96l-1.37-1.37c-.4-.4-.92-.59-1.43-.59-.52 0-1.04.2-1.43.59L10.3 9.45l-7.72 7.72c-.78.78-.78 2.05 0 2.83L4 21.41c.39.39.9.59 1.41.59.51 0 1.02-.2 1.41-.59l7.78-7.78 2.81-2.81c.8-.78.8-2.07 0-2.86zM5.41 20L4 18.59l7.72-7.72 1.47 1.35L5.41 20z\"/>\n",
              "  </svg>\n",
              "      </button>\n",
              "      \n",
              "  <style>\n",
              "    .colab-df-container {\n",
              "      display:flex;\n",
              "      flex-wrap:wrap;\n",
              "      gap: 12px;\n",
              "    }\n",
              "\n",
              "    .colab-df-convert {\n",
              "      background-color: #E8F0FE;\n",
              "      border: none;\n",
              "      border-radius: 50%;\n",
              "      cursor: pointer;\n",
              "      display: none;\n",
              "      fill: #1967D2;\n",
              "      height: 32px;\n",
              "      padding: 0 0 0 0;\n",
              "      width: 32px;\n",
              "    }\n",
              "\n",
              "    .colab-df-convert:hover {\n",
              "      background-color: #E2EBFA;\n",
              "      box-shadow: 0px 1px 2px rgba(60, 64, 67, 0.3), 0px 1px 3px 1px rgba(60, 64, 67, 0.15);\n",
              "      fill: #174EA6;\n",
              "    }\n",
              "\n",
              "    [theme=dark] .colab-df-convert {\n",
              "      background-color: #3B4455;\n",
              "      fill: #D2E3FC;\n",
              "    }\n",
              "\n",
              "    [theme=dark] .colab-df-convert:hover {\n",
              "      background-color: #434B5C;\n",
              "      box-shadow: 0px 1px 3px 1px rgba(0, 0, 0, 0.15);\n",
              "      filter: drop-shadow(0px 1px 2px rgba(0, 0, 0, 0.3));\n",
              "      fill: #FFFFFF;\n",
              "    }\n",
              "  </style>\n",
              "\n",
              "      <script>\n",
              "        const buttonEl =\n",
              "          document.querySelector('#df-e285f9b5-deae-47bc-9e68-f97baefb6bac button.colab-df-convert');\n",
              "        buttonEl.style.display =\n",
              "          google.colab.kernel.accessAllowed ? 'block' : 'none';\n",
              "\n",
              "        async function convertToInteractive(key) {\n",
              "          const element = document.querySelector('#df-e285f9b5-deae-47bc-9e68-f97baefb6bac');\n",
              "          const dataTable =\n",
              "            await google.colab.kernel.invokeFunction('convertToInteractive',\n",
              "                                                     [key], {});\n",
              "          if (!dataTable) return;\n",
              "\n",
              "          const docLinkHtml = 'Like what you see? Visit the ' +\n",
              "            '<a target=\"_blank\" href=https://colab.research.google.com/notebooks/data_table.ipynb>data table notebook</a>'\n",
              "            + ' to learn more about interactive tables.';\n",
              "          element.innerHTML = '';\n",
              "          dataTable['output_type'] = 'display_data';\n",
              "          await google.colab.output.renderOutput(dataTable, element);\n",
              "          const docLink = document.createElement('div');\n",
              "          docLink.innerHTML = docLinkHtml;\n",
              "          element.appendChild(docLink);\n",
              "        }\n",
              "      </script>\n",
              "    </div>\n",
              "  </div>\n",
              "  "
            ]
          },
          "metadata": {},
          "execution_count": 531
        }
      ],
      "source": [
        "df_train"
      ]
    },
    {
      "cell_type": "code",
      "execution_count": 532,
      "metadata": {
        "id": "ScmPUijrpoqi"
      },
      "outputs": [],
      "source": [
        "df_train = df_train.drop('Issues_cleaned', axis = 1)\n",
        "df_test = df_test.drop('Issues_cleaned', axis = 1)\n",
        "df_train = pd.concat([df_train, issues_train], axis = 1)\n",
        "df_test = pd.concat([df_test, issues_test], axis = 1)\n",
        "Feature168 = [0] * 95269\n",
        "df_test['Feature168'] = Feature168"
      ]
    },
    {
      "cell_type": "code",
      "execution_count": 533,
      "metadata": {
        "colab": {
          "base_uri": "https://localhost:8080/"
        },
        "id": "RPHWr30-mFT_",
        "outputId": "18315120-5cad-47dd-aad5-5b8aa2129d49"
      },
      "outputs": [
        {
          "output_type": "stream",
          "name": "stdout",
          "text": [
            "(286241, 197) (95269, 192)\n"
          ]
        }
      ],
      "source": [
        "print(df_train.shape,df_test.shape)"
      ]
    },
    {
      "cell_type": "markdown",
      "metadata": {
        "id": "EwK9D-o-poqj"
      },
      "source": [
        "observe train and test datasets"
      ]
    },
    {
      "cell_type": "code",
      "execution_count": 534,
      "metadata": {
        "colab": {
          "base_uri": "https://localhost:8080/",
          "height": 332
        },
        "id": "OlTcTkPopoqj",
        "outputId": "7f755464-db2c-4533-8c41-c5c0786ee449"
      },
      "outputs": [
        {
          "output_type": "execute_result",
          "data": {
            "text/plain": [
              "   Consumer disputed?  Month  week  Bank account or service  Consumer Loan  \\\n",
              "0                 NaN    NaN   NaN                      NaN            NaN   \n",
              "1                 NaN    NaN   NaN                      NaN            NaN   \n",
              "2                 0.0   12.0   3.0                      0.0            0.0   \n",
              "3                 0.0    3.0   1.0                      0.0            0.0   \n",
              "4                 NaN    NaN   NaN                      NaN            NaN   \n",
              "\n",
              "   Credit card  Credit reporting  Debt collection  Money transfers  Mortgage  \\\n",
              "0          NaN               NaN              NaN              NaN       NaN   \n",
              "1          NaN               NaN              NaN              NaN       NaN   \n",
              "2          1.0               0.0              0.0              0.0       0.0   \n",
              "3          0.0               0.0              1.0              0.0       0.0   \n",
              "4          NaN               NaN              NaN              NaN       NaN   \n",
              "\n",
              "   ...  Feature159  Feature160  Feature161  Feature162  Feature163  \\\n",
              "0  ...         0.0         0.0         0.0         0.0         0.0   \n",
              "1  ...         0.0         0.0         0.0         0.0         0.0   \n",
              "2  ...         0.0         0.0         0.0         0.0         0.0   \n",
              "3  ...         0.0         0.0         0.0         0.0         0.0   \n",
              "4  ...         0.0         0.0         0.0         0.0         0.0   \n",
              "\n",
              "   Feature164  Feature165  Feature166  Feature167  Feature168  \n",
              "0         0.0         0.0         0.0         0.0         0.0  \n",
              "1         0.0         0.0         0.0         0.0         0.0  \n",
              "2         0.0         0.0         0.0         0.0         0.0  \n",
              "3         0.0         0.0         0.0         0.0         0.0  \n",
              "4         0.0         0.0         0.0         0.0         0.0  \n",
              "\n",
              "[5 rows x 197 columns]"
            ],
            "text/html": [
              "\n",
              "  <div id=\"df-17fd574b-6037-4fe9-ac7e-a30752ddd484\">\n",
              "    <div class=\"colab-df-container\">\n",
              "      <div>\n",
              "<style scoped>\n",
              "    .dataframe tbody tr th:only-of-type {\n",
              "        vertical-align: middle;\n",
              "    }\n",
              "\n",
              "    .dataframe tbody tr th {\n",
              "        vertical-align: top;\n",
              "    }\n",
              "\n",
              "    .dataframe thead th {\n",
              "        text-align: right;\n",
              "    }\n",
              "</style>\n",
              "<table border=\"1\" class=\"dataframe\">\n",
              "  <thead>\n",
              "    <tr style=\"text-align: right;\">\n",
              "      <th></th>\n",
              "      <th>Consumer disputed?</th>\n",
              "      <th>Month</th>\n",
              "      <th>week</th>\n",
              "      <th>Bank account or service</th>\n",
              "      <th>Consumer Loan</th>\n",
              "      <th>Credit card</th>\n",
              "      <th>Credit reporting</th>\n",
              "      <th>Debt collection</th>\n",
              "      <th>Money transfers</th>\n",
              "      <th>Mortgage</th>\n",
              "      <th>...</th>\n",
              "      <th>Feature159</th>\n",
              "      <th>Feature160</th>\n",
              "      <th>Feature161</th>\n",
              "      <th>Feature162</th>\n",
              "      <th>Feature163</th>\n",
              "      <th>Feature164</th>\n",
              "      <th>Feature165</th>\n",
              "      <th>Feature166</th>\n",
              "      <th>Feature167</th>\n",
              "      <th>Feature168</th>\n",
              "    </tr>\n",
              "  </thead>\n",
              "  <tbody>\n",
              "    <tr>\n",
              "      <th>0</th>\n",
              "      <td>NaN</td>\n",
              "      <td>NaN</td>\n",
              "      <td>NaN</td>\n",
              "      <td>NaN</td>\n",
              "      <td>NaN</td>\n",
              "      <td>NaN</td>\n",
              "      <td>NaN</td>\n",
              "      <td>NaN</td>\n",
              "      <td>NaN</td>\n",
              "      <td>NaN</td>\n",
              "      <td>...</td>\n",
              "      <td>0.0</td>\n",
              "      <td>0.0</td>\n",
              "      <td>0.0</td>\n",
              "      <td>0.0</td>\n",
              "      <td>0.0</td>\n",
              "      <td>0.0</td>\n",
              "      <td>0.0</td>\n",
              "      <td>0.0</td>\n",
              "      <td>0.0</td>\n",
              "      <td>0.0</td>\n",
              "    </tr>\n",
              "    <tr>\n",
              "      <th>1</th>\n",
              "      <td>NaN</td>\n",
              "      <td>NaN</td>\n",
              "      <td>NaN</td>\n",
              "      <td>NaN</td>\n",
              "      <td>NaN</td>\n",
              "      <td>NaN</td>\n",
              "      <td>NaN</td>\n",
              "      <td>NaN</td>\n",
              "      <td>NaN</td>\n",
              "      <td>NaN</td>\n",
              "      <td>...</td>\n",
              "      <td>0.0</td>\n",
              "      <td>0.0</td>\n",
              "      <td>0.0</td>\n",
              "      <td>0.0</td>\n",
              "      <td>0.0</td>\n",
              "      <td>0.0</td>\n",
              "      <td>0.0</td>\n",
              "      <td>0.0</td>\n",
              "      <td>0.0</td>\n",
              "      <td>0.0</td>\n",
              "    </tr>\n",
              "    <tr>\n",
              "      <th>2</th>\n",
              "      <td>0.0</td>\n",
              "      <td>12.0</td>\n",
              "      <td>3.0</td>\n",
              "      <td>0.0</td>\n",
              "      <td>0.0</td>\n",
              "      <td>1.0</td>\n",
              "      <td>0.0</td>\n",
              "      <td>0.0</td>\n",
              "      <td>0.0</td>\n",
              "      <td>0.0</td>\n",
              "      <td>...</td>\n",
              "      <td>0.0</td>\n",
              "      <td>0.0</td>\n",
              "      <td>0.0</td>\n",
              "      <td>0.0</td>\n",
              "      <td>0.0</td>\n",
              "      <td>0.0</td>\n",
              "      <td>0.0</td>\n",
              "      <td>0.0</td>\n",
              "      <td>0.0</td>\n",
              "      <td>0.0</td>\n",
              "    </tr>\n",
              "    <tr>\n",
              "      <th>3</th>\n",
              "      <td>0.0</td>\n",
              "      <td>3.0</td>\n",
              "      <td>1.0</td>\n",
              "      <td>0.0</td>\n",
              "      <td>0.0</td>\n",
              "      <td>0.0</td>\n",
              "      <td>0.0</td>\n",
              "      <td>1.0</td>\n",
              "      <td>0.0</td>\n",
              "      <td>0.0</td>\n",
              "      <td>...</td>\n",
              "      <td>0.0</td>\n",
              "      <td>0.0</td>\n",
              "      <td>0.0</td>\n",
              "      <td>0.0</td>\n",
              "      <td>0.0</td>\n",
              "      <td>0.0</td>\n",
              "      <td>0.0</td>\n",
              "      <td>0.0</td>\n",
              "      <td>0.0</td>\n",
              "      <td>0.0</td>\n",
              "    </tr>\n",
              "    <tr>\n",
              "      <th>4</th>\n",
              "      <td>NaN</td>\n",
              "      <td>NaN</td>\n",
              "      <td>NaN</td>\n",
              "      <td>NaN</td>\n",
              "      <td>NaN</td>\n",
              "      <td>NaN</td>\n",
              "      <td>NaN</td>\n",
              "      <td>NaN</td>\n",
              "      <td>NaN</td>\n",
              "      <td>NaN</td>\n",
              "      <td>...</td>\n",
              "      <td>0.0</td>\n",
              "      <td>0.0</td>\n",
              "      <td>0.0</td>\n",
              "      <td>0.0</td>\n",
              "      <td>0.0</td>\n",
              "      <td>0.0</td>\n",
              "      <td>0.0</td>\n",
              "      <td>0.0</td>\n",
              "      <td>0.0</td>\n",
              "      <td>0.0</td>\n",
              "    </tr>\n",
              "  </tbody>\n",
              "</table>\n",
              "<p>5 rows × 197 columns</p>\n",
              "</div>\n",
              "      <button class=\"colab-df-convert\" onclick=\"convertToInteractive('df-17fd574b-6037-4fe9-ac7e-a30752ddd484')\"\n",
              "              title=\"Convert this dataframe to an interactive table.\"\n",
              "              style=\"display:none;\">\n",
              "        \n",
              "  <svg xmlns=\"http://www.w3.org/2000/svg\" height=\"24px\"viewBox=\"0 0 24 24\"\n",
              "       width=\"24px\">\n",
              "    <path d=\"M0 0h24v24H0V0z\" fill=\"none\"/>\n",
              "    <path d=\"M18.56 5.44l.94 2.06.94-2.06 2.06-.94-2.06-.94-.94-2.06-.94 2.06-2.06.94zm-11 1L8.5 8.5l.94-2.06 2.06-.94-2.06-.94L8.5 2.5l-.94 2.06-2.06.94zm10 10l.94 2.06.94-2.06 2.06-.94-2.06-.94-.94-2.06-.94 2.06-2.06.94z\"/><path d=\"M17.41 7.96l-1.37-1.37c-.4-.4-.92-.59-1.43-.59-.52 0-1.04.2-1.43.59L10.3 9.45l-7.72 7.72c-.78.78-.78 2.05 0 2.83L4 21.41c.39.39.9.59 1.41.59.51 0 1.02-.2 1.41-.59l7.78-7.78 2.81-2.81c.8-.78.8-2.07 0-2.86zM5.41 20L4 18.59l7.72-7.72 1.47 1.35L5.41 20z\"/>\n",
              "  </svg>\n",
              "      </button>\n",
              "      \n",
              "  <style>\n",
              "    .colab-df-container {\n",
              "      display:flex;\n",
              "      flex-wrap:wrap;\n",
              "      gap: 12px;\n",
              "    }\n",
              "\n",
              "    .colab-df-convert {\n",
              "      background-color: #E8F0FE;\n",
              "      border: none;\n",
              "      border-radius: 50%;\n",
              "      cursor: pointer;\n",
              "      display: none;\n",
              "      fill: #1967D2;\n",
              "      height: 32px;\n",
              "      padding: 0 0 0 0;\n",
              "      width: 32px;\n",
              "    }\n",
              "\n",
              "    .colab-df-convert:hover {\n",
              "      background-color: #E2EBFA;\n",
              "      box-shadow: 0px 1px 2px rgba(60, 64, 67, 0.3), 0px 1px 3px 1px rgba(60, 64, 67, 0.15);\n",
              "      fill: #174EA6;\n",
              "    }\n",
              "\n",
              "    [theme=dark] .colab-df-convert {\n",
              "      background-color: #3B4455;\n",
              "      fill: #D2E3FC;\n",
              "    }\n",
              "\n",
              "    [theme=dark] .colab-df-convert:hover {\n",
              "      background-color: #434B5C;\n",
              "      box-shadow: 0px 1px 3px 1px rgba(0, 0, 0, 0.15);\n",
              "      filter: drop-shadow(0px 1px 2px rgba(0, 0, 0, 0.3));\n",
              "      fill: #FFFFFF;\n",
              "    }\n",
              "  </style>\n",
              "\n",
              "      <script>\n",
              "        const buttonEl =\n",
              "          document.querySelector('#df-17fd574b-6037-4fe9-ac7e-a30752ddd484 button.colab-df-convert');\n",
              "        buttonEl.style.display =\n",
              "          google.colab.kernel.accessAllowed ? 'block' : 'none';\n",
              "\n",
              "        async function convertToInteractive(key) {\n",
              "          const element = document.querySelector('#df-17fd574b-6037-4fe9-ac7e-a30752ddd484');\n",
              "          const dataTable =\n",
              "            await google.colab.kernel.invokeFunction('convertToInteractive',\n",
              "                                                     [key], {});\n",
              "          if (!dataTable) return;\n",
              "\n",
              "          const docLinkHtml = 'Like what you see? Visit the ' +\n",
              "            '<a target=\"_blank\" href=https://colab.research.google.com/notebooks/data_table.ipynb>data table notebook</a>'\n",
              "            + ' to learn more about interactive tables.';\n",
              "          element.innerHTML = '';\n",
              "          dataTable['output_type'] = 'display_data';\n",
              "          await google.colab.output.renderOutput(dataTable, element);\n",
              "          const docLink = document.createElement('div');\n",
              "          docLink.innerHTML = docLinkHtml;\n",
              "          element.appendChild(docLink);\n",
              "        }\n",
              "      </script>\n",
              "    </div>\n",
              "  </div>\n",
              "  "
            ]
          },
          "metadata": {},
          "execution_count": 534
        }
      ],
      "source": [
        "df_train.head()\n",
        "#df_test.head()"
      ]
    },
    {
      "cell_type": "code",
      "execution_count": 535,
      "metadata": {
        "id": "pejtrROswd53"
      },
      "outputs": [],
      "source": [
        "df_train=df_train.dropna()\n",
        "df_test=df_test.dropna()"
      ]
    },
    {
      "cell_type": "code",
      "execution_count": 536,
      "metadata": {
        "id": "skNJD9Y0RBkU"
      },
      "outputs": [],
      "source": [
        "df_train=df_train.drop(columns=['Feature164', 'Feature165', 'Feature166', 'Feature167'])"
      ]
    },
    {
      "cell_type": "code",
      "execution_count": 537,
      "metadata": {
        "colab": {
          "base_uri": "https://localhost:8080/"
        },
        "id": "k45dTze6RIuS",
        "outputId": "ba0e1292-3ad9-46cc-ea53-9c36d8f1933b"
      },
      "outputs": [
        {
          "output_type": "execute_result",
          "data": {
            "text/plain": [
              "(35985, 192)"
            ]
          },
          "metadata": {},
          "execution_count": 537
        }
      ],
      "source": [
        "df_test.shape"
      ]
    },
    {
      "cell_type": "markdown",
      "metadata": {
        "id": "7xGU-cPapoqj"
      },
      "source": [
        "Observe Shape of new Train and Test Datasets"
      ]
    },
    {
      "cell_type": "code",
      "execution_count": 538,
      "metadata": {
        "colab": {
          "base_uri": "https://localhost:8080/"
        },
        "id": "79J9Tqjzpoqj",
        "outputId": "ad78fce7-2036-43b0-eedf-03e3e2b6cf43"
      },
      "outputs": [
        {
          "output_type": "execute_result",
          "data": {
            "text/plain": [
              "(108801, 193)"
            ]
          },
          "metadata": {},
          "execution_count": 538
        }
      ],
      "source": [
        "df_train.shape\n",
        "#df_test.shape"
      ]
    },
    {
      "cell_type": "markdown",
      "metadata": {
        "id": "P1IKPOYzpoqk"
      },
      "source": [
        "Scaling the Data Sets (note:discard dependent variable before doing standardization)"
      ]
    },
    {
      "cell_type": "code",
      "execution_count": 539,
      "metadata": {
        "id": "PoxQshrppoqk"
      },
      "outputs": [],
      "source": [
        "X_train=df_train.drop(columns=\"Consumer disputed?\")\n",
        "y_train=df_train[\"Consumer disputed?\"]\n",
        "X_test=df_test\n",
        "ss = StandardScaler()\n",
        "X_train = ss.fit_transform(X_train)\n",
        "X_test=ss.fit_transform(X_test)"
      ]
    },
    {
      "cell_type": "code",
      "execution_count": 539,
      "metadata": {
        "id": "Rdvj-mAMLEhN"
      },
      "outputs": [],
      "source": [
        ""
      ]
    },
    {
      "cell_type": "code",
      "execution_count": 540,
      "metadata": {
        "colab": {
          "base_uri": "https://localhost:8080/"
        },
        "id": "NsZs4A6KctEt",
        "outputId": "ecbbc76d-6695-4cb6-964e-c0f00cb84870"
      },
      "outputs": [
        {
          "output_type": "execute_result",
          "data": {
            "text/plain": [
              "(108801, 192)"
            ]
          },
          "metadata": {},
          "execution_count": 540
        }
      ],
      "source": [
        "X_train.shape"
      ]
    },
    {
      "cell_type": "markdown",
      "metadata": {
        "id": "10Pj03fYpoqk"
      },
      "source": [
        "Do feature selection with help of PCA"
      ]
    },
    {
      "cell_type": "code",
      "execution_count": 541,
      "metadata": {
        "id": "I7ULlKu7poqk"
      },
      "outputs": [],
      "source": [
        "pca = PCA()\n",
        "# Determine transformed features\n",
        "pca.fit(X_train)\n",
        "X_train_pca = pca.fit_transform(X_train)\n",
        "X_test_pca = pca.transform(X_test)"
      ]
    },
    {
      "cell_type": "code",
      "execution_count": 542,
      "metadata": {
        "id": "nyAXIqSY9pip"
      },
      "outputs": [],
      "source": [
        "X_train_pca=pd.DataFrame(X_train_pca,columns=df_train.drop(columns=\"Consumer disputed?\").columns)\n",
        "X_test=pd.DataFrame(X_test,columns=df_test.columns)"
      ]
    },
    {
      "cell_type": "code",
      "execution_count": 543,
      "metadata": {
        "colab": {
          "base_uri": "https://localhost:8080/"
        },
        "id": "G46hfD1On3PS",
        "outputId": "a98201f5-28c6-4614-f6e9-e975eabbffb5"
      },
      "outputs": [
        {
          "output_type": "stream",
          "name": "stdout",
          "text": [
            "(108801, 192)\n"
          ]
        }
      ],
      "source": [
        "print(X_train_pca.shape)"
      ]
    },
    {
      "cell_type": "code",
      "execution_count": 544,
      "metadata": {
        "colab": {
          "base_uri": "https://localhost:8080/"
        },
        "id": "_yWG4Asfo_GA",
        "outputId": "20887927-863c-4aa5-db28-c99f3f3a011b"
      },
      "outputs": [
        {
          "output_type": "execute_result",
          "data": {
            "text/plain": [
              "array([0.04, 0.03, 0.03, 0.03, 0.02, 0.02, 0.02, 0.02, 0.02, 0.02, 0.02,\n",
              "       0.02, 0.02, 0.02, 0.02, 0.02, 0.02, 0.02, 0.01, 0.01, 0.01, 0.01,\n",
              "       0.01, 0.01, 0.01, 0.01, 0.01, 0.01, 0.01, 0.01, 0.01, 0.01, 0.01,\n",
              "       0.01, 0.01, 0.01, 0.01, 0.01, 0.01, 0.01, 0.01, 0.01, 0.01, 0.01,\n",
              "       0.01, 0.01, 0.01, 0.01, 0.01, 0.01, 0.01, 0.01, 0.01, 0.01, 0.01,\n",
              "       0.01, 0.01, 0.01, 0.01, 0.01, 0.01, 0.01, 0.01, 0.01, 0.01, 0.01,\n",
              "       0.01, 0.01, 0.01, 0.01, 0.01, 0.01, 0.01, 0.01, 0.01, 0.01, 0.01,\n",
              "       0.01, 0.01, 0.01, 0.01, 0.01, 0.01, 0.01, 0.01, 0.01, 0.01, 0.01,\n",
              "       0.01, 0.  , 0.  , 0.  , 0.  , 0.  , 0.  , 0.  , 0.  , 0.  , 0.  ,\n",
              "       0.  , 0.  , 0.  , 0.  , 0.  , 0.  , 0.  , 0.  , 0.  , 0.  , 0.  ,\n",
              "       0.  , 0.  , 0.  , 0.  , 0.  , 0.  , 0.  , 0.  , 0.  , 0.  , 0.  ,\n",
              "       0.  , 0.  , 0.  , 0.  , 0.  , 0.  , 0.  , 0.  , 0.  , 0.  , 0.  ,\n",
              "       0.  , 0.  , 0.  , 0.  , 0.  , 0.  , 0.  , 0.  , 0.  , 0.  , 0.  ,\n",
              "       0.  , 0.  , 0.  , 0.  , 0.  , 0.  , 0.  , 0.  , 0.  , 0.  , 0.  ,\n",
              "       0.  , 0.  , 0.  , 0.  , 0.  , 0.  , 0.  , 0.  , 0.  , 0.  , 0.  ,\n",
              "       0.  , 0.  , 0.  , 0.  , 0.  , 0.  , 0.  , 0.  , 0.  , 0.  , 0.  ,\n",
              "       0.  , 0.  , 0.  , 0.  , 0.  , 0.  , 0.  , 0.  , 0.  , 0.  , 0.  ,\n",
              "       0.  , 0.  , 0.  , 0.  , 0.  ])"
            ]
          },
          "metadata": {},
          "execution_count": 544
        }
      ],
      "source": [
        "np.round(pca.explained_variance_ratio_,2)"
      ]
    },
    {
      "cell_type": "code",
      "execution_count": 545,
      "metadata": {
        "colab": {
          "base_uri": "https://localhost:8080/"
        },
        "id": "iqz6z2QDp5e1",
        "outputId": "23c3db5f-77ff-4622-b80a-1ceff8a16527"
      },
      "outputs": [
        {
          "output_type": "execute_result",
          "data": {
            "text/plain": [
              "1.0000000000000002"
            ]
          },
          "metadata": {},
          "execution_count": 545
        }
      ],
      "source": [
        "np.sum(pca.explained_variance_ratio_)"
      ]
    },
    {
      "cell_type": "code",
      "execution_count": 545,
      "metadata": {
        "id": "NUrzrSxSLxAG"
      },
      "outputs": [],
      "source": [
        ""
      ]
    },
    {
      "cell_type": "markdown",
      "metadata": {
        "id": "Su_M3P3npoqk"
      },
      "source": [
        "Select top features which are covering 80% of the information \n",
        "(n=53),\n",
        "<br>store this data into new dataframe,"
      ]
    },
    {
      "cell_type": "code",
      "execution_count": 546,
      "metadata": {
        "colab": {
          "base_uri": "https://localhost:8080/"
        },
        "id": "2_FVX5N6poql",
        "outputId": "2b5aac56-8ad7-4635-faa5-e2e46103d8ca"
      },
      "outputs": [
        {
          "output_type": "execute_result",
          "data": {
            "text/plain": [
              "(108801, 60)"
            ]
          },
          "metadata": {},
          "execution_count": 546
        }
      ],
      "source": [
        "pca = PCA(n_components=60)\n",
        "train_pca = pca.fit_transform(X_train_pca)\n",
        "train_pca.shape"
      ]
    },
    {
      "cell_type": "code",
      "execution_count": 547,
      "metadata": {
        "colab": {
          "base_uri": "https://localhost:8080/"
        },
        "id": "SHp9FtISuwHB",
        "outputId": "930f8970-e427-4213-e0ef-5f8028e1c919"
      },
      "outputs": [
        {
          "output_type": "execute_result",
          "data": {
            "text/plain": [
              "0.7974304308504807"
            ]
          },
          "metadata": {},
          "execution_count": 547
        }
      ],
      "source": [
        "np.sum(pca.explained_variance_ratio_)"
      ]
    },
    {
      "cell_type": "code",
      "execution_count": 548,
      "metadata": {
        "colab": {
          "base_uri": "https://localhost:8080/"
        },
        "id": "N4gmseTMu1ai",
        "outputId": "73819403-ea13-47a4-d271-5433482daf32"
      },
      "outputs": [
        {
          "output_type": "execute_result",
          "data": {
            "text/plain": [
              "(35985, 60)"
            ]
          },
          "metadata": {},
          "execution_count": 548
        }
      ],
      "source": [
        "pca = PCA(n_components=60)\n",
        "test_pca = pca.fit_transform(X_test_pca)\n",
        "test_pca.shape"
      ]
    },
    {
      "cell_type": "code",
      "execution_count": 549,
      "metadata": {
        "colab": {
          "base_uri": "https://localhost:8080/"
        },
        "id": "O0wHwSJqvMAd",
        "outputId": "44fda2c2-cd59-45df-9da3-25715c6bf321"
      },
      "outputs": [
        {
          "output_type": "execute_result",
          "data": {
            "text/plain": [
              "0.8099017030712267"
            ]
          },
          "metadata": {},
          "execution_count": 549
        }
      ],
      "source": [
        "np.sum(pca.explained_variance_ratio_)"
      ]
    },
    {
      "cell_type": "markdown",
      "metadata": {
        "id": "xfPdNUxBpoql"
      },
      "source": [
        "Split the Data Sets Into X and Y by dependent and independent variables (data selected by PCA)\n"
      ]
    },
    {
      "cell_type": "code",
      "execution_count": 550,
      "metadata": {
        "id": "ktXK9RIOpoqm"
      },
      "outputs": [],
      "source": [
        "X_train=X_train_pca\n",
        "X_test=test_pca"
      ]
    },
    {
      "cell_type": "markdown",
      "metadata": {
        "id": "hCl_eDoMpoqn"
      },
      "source": [
        "Shapes of the datasets"
      ]
    },
    {
      "cell_type": "code",
      "execution_count": 551,
      "metadata": {
        "colab": {
          "base_uri": "https://localhost:8080/"
        },
        "id": "JMK5Jk7opoqo",
        "outputId": "8d05a4be-7766-450c-ff21-5f1c50a8f0ba"
      },
      "outputs": [
        {
          "output_type": "execute_result",
          "data": {
            "text/plain": [
              "((108801, 192), (108801,), (35985, 60))"
            ]
          },
          "metadata": {},
          "execution_count": 551
        }
      ],
      "source": [
        "X_train.shape, y_train.shape, X_test.shape"
      ]
    },
    {
      "cell_type": "markdown",
      "metadata": {
        "id": "L6d3W9nbpoqp"
      },
      "source": [
        "**Model building**\n",
        "Build given models and mesure their test and validation accuracy \n",
        "build given models:\n",
        "1. LogisticRegression\n",
        "2. DecisionTreeClassifier\n",
        "3. RandomForestClassifier\n",
        "4. AdaBoostClassifier\n",
        "5. GradientBoostingClassifier\n",
        "6. KNeighborsClassifier\n",
        "7. XGBClassifier"
      ]
    },
    {
      "cell_type": "code",
      "execution_count": 552,
      "metadata": {
        "colab": {
          "base_uri": "https://localhost:8080/"
        },
        "id": "WXgaZSqlpoqq",
        "outputId": "c3451ef3-b415-4340-9595-d042876585e6"
      },
      "outputs": [
        {
          "output_type": "execute_result",
          "data": {
            "text/plain": [
              "0.8007187433939026"
            ]
          },
          "metadata": {},
          "execution_count": 552
        }
      ],
      "source": [
        "import warnings\n",
        "warnings.filterwarnings(\"ignore\")\n",
        "clf = LogisticRegression(random_state=30)\n",
        "clf = LogisticRegression(random_state=30).fit(X_train, y_train)\n",
        "clf.score(X_train, y_train)\n"
      ]
    },
    {
      "cell_type": "code",
      "execution_count": 553,
      "metadata": {
        "colab": {
          "base_uri": "https://localhost:8080/"
        },
        "id": "vJ2nSBDoOScN",
        "outputId": "b10119a0-695a-4784-aac8-0cb7023916eb"
      },
      "outputs": [
        {
          "output_type": "execute_result",
          "data": {
            "text/plain": [
              "0.8513892335548386"
            ]
          },
          "metadata": {},
          "execution_count": 553
        }
      ],
      "source": [
        "clf1 = DecisionTreeClassifier(random_state=23).fit(X_train, y_train)\n",
        "clf1.score(X_train, y_train)\n"
      ]
    },
    {
      "cell_type": "code",
      "execution_count": 554,
      "metadata": {
        "colab": {
          "base_uri": "https://localhost:8080/"
        },
        "id": "Is6Bz7ZUOSQl",
        "outputId": "f24a9045-0907-401e-99dc-2cd8d7bf44a6"
      },
      "outputs": [
        {
          "output_type": "execute_result",
          "data": {
            "text/plain": [
              "0.8006911701179217"
            ]
          },
          "metadata": {},
          "execution_count": 554
        }
      ],
      "source": [
        "clf2 = RandomForestClassifier(max_depth=2, random_state=0).fit(X_train, y_train)\n",
        "clf2.score(X_train, y_train)\n"
      ]
    },
    {
      "cell_type": "code",
      "execution_count": 555,
      "metadata": {
        "colab": {
          "base_uri": "https://localhost:8080/"
        },
        "id": "ZarZwo2VOSE7",
        "outputId": "f6994a95-15a4-4be0-ecbf-19d729edf49a"
      },
      "outputs": [
        {
          "output_type": "execute_result",
          "data": {
            "text/plain": [
              "0.8007463166698835"
            ]
          },
          "metadata": {},
          "execution_count": 555
        }
      ],
      "source": [
        "clf3 = AdaBoostClassifier(n_estimators=100, random_state=0).fit(X_train, y_train)\n",
        "clf3.score(X_train, y_train)\n"
      ]
    },
    {
      "cell_type": "code",
      "execution_count": 556,
      "metadata": {
        "colab": {
          "base_uri": "https://localhost:8080/"
        },
        "id": "ZRjsZhrlOR5V",
        "outputId": "a38cebf1-fd95-453a-a48e-1f5631fd4a31"
      },
      "outputs": [
        {
          "output_type": "execute_result",
          "data": {
            "text/plain": [
              "0.8010312405216864"
            ]
          },
          "metadata": {},
          "execution_count": 556
        }
      ],
      "source": [
        "clf4 = GradientBoostingClassifier(n_estimators=100, learning_rate=1.0, max_depth=1, random_state=0).fit(X_train, y_train)\n",
        "clf4.score(X_train, y_train)\n"
      ]
    },
    {
      "cell_type": "code",
      "execution_count": 557,
      "metadata": {
        "colab": {
          "base_uri": "https://localhost:8080/"
        },
        "id": "6tvm7LpRORtX",
        "outputId": "9d9bf319-8ff7-407a-ea17-8d19951e6cbc"
      },
      "outputs": [
        {
          "output_type": "execute_result",
          "data": {
            "text/plain": [
              "0.7888622347221074"
            ]
          },
          "metadata": {},
          "execution_count": 557
        }
      ],
      "source": [
        "neigh = KNeighborsClassifier(n_neighbors=3).fit(X_train, y_train)\n",
        "neigh.score(X_train, y_train)\n"
      ]
    },
    {
      "cell_type": "code",
      "execution_count": 558,
      "metadata": {
        "colab": {
          "base_uri": "https://localhost:8080/"
        },
        "id": "DSJ0djtDORh9",
        "outputId": "90d7fe22-3d56-4dd4-82ac-a9926e3d510a"
      },
      "outputs": [
        {
          "output_type": "execute_result",
          "data": {
            "text/plain": [
              "0.8014724129373811"
            ]
          },
          "metadata": {},
          "execution_count": 558
        }
      ],
      "source": [
        "xgb_clf = XGBClassifier(learning_rate=0.25, n_estimators=100).fit(X_train,y_train)\n",
        "xgb_clf.score(X_train, y_train)"
      ]
    },
    {
      "cell_type": "markdown",
      "metadata": {
        "id": "NBfwkKjwpoqr"
      },
      "source": [
        "Final Model and Prediction for test data file"
      ]
    },
    {
      "cell_type": "code",
      "execution_count": 559,
      "metadata": {
        "id": "J1mL-GJ2poqr"
      },
      "outputs": [],
      "source": [
        "clf1 = DecisionTreeClassifier(random_state=23).fit(X_train,y_train)\n",
        "y_test=clf1.predict(df_test)"
      ]
    },
    {
      "cell_type": "markdown",
      "metadata": {
        "id": "QEMqjpS5poqr"
      },
      "source": [
        "Export Predictions to CSV"
      ]
    },
    {
      "cell_type": "code",
      "execution_count": 560,
      "metadata": {
        "id": "MKDCpggppoqr"
      },
      "outputs": [],
      "source": [
        "df_test[\"Consumer disputed?\"]=y_test"
      ]
    },
    {
      "cell_type": "code",
      "execution_count": 561,
      "metadata": {
        "id": "UtsmRxQEpoqs"
      },
      "outputs": [],
      "source": [
        "df_test.to_csv(\"/content/new_created.csv\")"
      ]
    }
  ],
  "metadata": {
    "colab": {
      "collapsed_sections": [],
      "name": " 1752_Consumer Complaint Resolution  by_Saniya-Mini Project.ipynb",
      "provenance": []
    },
    "kernelspec": {
      "display_name": "Python 3",
      "language": "python",
      "name": "python3"
    },
    "language_info": {
      "codemirror_mode": {
        "name": "ipython",
        "version": 3
      },
      "file_extension": ".py",
      "mimetype": "text/x-python",
      "name": "python",
      "nbconvert_exporter": "python",
      "pygments_lexer": "ipython3",
      "version": "3.8.5"
    }
  },
  "nbformat": 4,
  "nbformat_minor": 0
}