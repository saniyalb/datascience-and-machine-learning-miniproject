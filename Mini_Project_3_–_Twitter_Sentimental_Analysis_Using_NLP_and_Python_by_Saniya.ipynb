{
  "cells": [
    {
      "cell_type": "markdown",
      "source": [
        "# Scenario: \n",
        "By analyzing text data, we can find meaningful insights from non-numeric data that\n",
        "can help us achieve our objective. With the help of NLP and its concepts, we can do it. Twitter is\n",
        "one of the biggest platforms that people use to write their messages, express their feelings\n",
        "about a particular topic, and share knowledge in the form of text. By analyzing text data, we can\n",
        "make good decisions for different use cases like judging the sentiment of the human tweets, and\n",
        "any product review/comments can tell us the performance of a product in the market.\n",
        "NLP allows us to study and understand the colinearity of the data. So we can predict our objective.\n",
        "# Objective:\n",
        " Use Python libraries such as Pandas for data operations, Seaborn and Matplotlib for\n",
        "data visualization and EDA tasks, NLTK to extract and analyze the information, Sklearn for model\n",
        "building and performance visualization, to predict our different categories of people’s mindsets.\n",
        "Dataset description: The data contain information about many Tweets in the form of text and\n",
        "their types, as mentioned below.\n",
        "Tweets: Data is in the form of a sentence written by individuals.\n",
        "category: Numeric(0: Neutral, -1: Negative, 1: Positive) (It is our dependent variable)\n",
        "\n",
        "**# The following tasks are to be performed:**\n",
        "• Read the Data from the Given excel file.\n",
        "• Change our dependent variable to categorical. ( 0 to “Neutral,” -1 to “Negative”, 1 to\n",
        "“Positive”)\n",
        "• Do Missing value analysis and drop all null/missing values\n",
        "• Do text cleaning. (remove every symbol except alphanumeric, transform all words to\n",
        "lower case, and remove punctuation and stopwords )\n",
        "• Create a new column and find the length of each sentence (how many words they\n",
        "contain)\n",
        "• Split data into dependent(X) and independent(y) dataframe\n",
        "• Do operations on text data \n",
        "\n",
        "\n",
        "# Hints:\n",
        "o Do one-hot encoding for each sentence (use TensorFlow)\n",
        "o Add padding from the front side (use Tensorflow)\n",
        "o Build an LSTM model and compile it (describe features, input length, vocabulary\n",
        "size, information drop-out layer, activation function for output, )\n",
        "o Do dummy variable creation for the dependent variable\n",
        "o split the data into tests and train\n",
        "• Train new model\n",
        "• Normalize the prediction as same as the original data(prediction might be in decimal, so\n",
        "whoever is nearest to 1 is predicted as yes and set other as 0)\n",
        "• Measure performance metrics and accuracy\n",
        "• print Classification report"
      ],
      "metadata": {
        "id": "-HJGK51YhBOy"
      }
    },
    {
      "cell_type": "markdown",
      "source": [
        "importing required modules"
      ],
      "metadata": {
        "id": "ZAjBh64yBgNT"
      }
    },
    {
      "cell_type": "code",
      "execution_count": null,
      "metadata": {
        "id": "NalX9X6lo9Sa"
      },
      "outputs": [],
      "source": [
        "import pandas as pd\n",
        "import numpy as np\n",
        "import re\n",
        "from tensorflow.keras.preprocessing.text import one_hot,Tokenizer\n",
        "from tensorflow import keras"
      ]
    },
    {
      "cell_type": "code",
      "source": [
        "from sklearn.model_selection import train_test_split"
      ],
      "metadata": {
        "id": "K_a7N5vqcxls"
      },
      "execution_count": null,
      "outputs": []
    },
    {
      "cell_type": "code",
      "source": [
        "from tensorflow.keras.models import Sequential\n",
        "from tensorflow.keras.layers import Dense,Flatten,Embedding,Activation,Dropout,Conv1D,MaxPooling1D,GlobalMaxPooling1D,LSTM"
      ],
      "metadata": {
        "id": "U0GNcGK-UgD3"
      },
      "execution_count": null,
      "outputs": []
    },
    {
      "cell_type": "code",
      "execution_count": null,
      "metadata": {
        "colab": {
          "base_uri": "https://localhost:8080/"
        },
        "id": "WnEndxcNv-cy",
        "outputId": "fa188f64-1237-4aee-91e8-614129276cc8"
      },
      "outputs": [
        {
          "output_type": "stream",
          "name": "stderr",
          "text": [
            "[nltk_data] Downloading package stopwords to /root/nltk_data...\n",
            "[nltk_data]   Package stopwords is already up-to-date!\n",
            "[nltk_data] Downloading package wordnet to /root/nltk_data...\n",
            "[nltk_data]   Package wordnet is already up-to-date!\n",
            "[nltk_data] Downloading package punkt to /root/nltk_data...\n",
            "[nltk_data]   Package punkt is already up-to-date!\n",
            "[nltk_data] Downloading package omw-1.4 to /root/nltk_data...\n",
            "[nltk_data]   Package omw-1.4 is already up-to-date!\n"
          ]
        },
        {
          "output_type": "execute_result",
          "data": {
            "text/plain": [
              "True"
            ]
          },
          "metadata": {},
          "execution_count": 106
        }
      ],
      "source": [
        "import nltk\n",
        "nltk.download('stopwords')\n",
        "nltk.download('wordnet')\n",
        "nltk.download('punkt')\n",
        "nltk.download('omw-1.4')"
      ]
    },
    {
      "cell_type": "code",
      "execution_count": null,
      "metadata": {
        "id": "9X9FtqEU1lwK"
      },
      "outputs": [],
      "source": [
        "import string\n",
        "string.punctuation\n",
        "from nltk.corpus import stopwords"
      ]
    },
    {
      "cell_type": "code",
      "execution_count": null,
      "metadata": {
        "id": "IWe1hGBL5-jz"
      },
      "outputs": [],
      "source": [
        "from nltk.tokenize import  word_tokenize\n",
        "from nltk.stem import WordNetLemmatizer\n",
        "lemmatizer = WordNetLemmatizer()"
      ]
    },
    {
      "cell_type": "markdown",
      "source": [
        "fetching data for analysis"
      ],
      "metadata": {
        "id": "ZUnPiINzBtEY"
      }
    },
    {
      "cell_type": "code",
      "execution_count": null,
      "metadata": {
        "colab": {
          "base_uri": "https://localhost:8080/"
        },
        "id": "e2aEcwXjwDy8",
        "outputId": "3d5dd3e8-0b5e-4efa-e8ac-19932abdad78"
      },
      "outputs": [
        {
          "output_type": "stream",
          "name": "stdout",
          "text": [
            "--2022-08-20 02:47:40--  https://www.dropbox.com/s/il7t10xfzymz8yg/Twitter_Data.csv\n",
            "Resolving www.dropbox.com (www.dropbox.com)... 162.125.3.18, 2620:100:6018:18::a27d:312\n",
            "Connecting to www.dropbox.com (www.dropbox.com)|162.125.3.18|:443... connected.\n",
            "HTTP request sent, awaiting response... 301 Moved Permanently\n",
            "Location: /s/raw/il7t10xfzymz8yg/Twitter_Data.csv [following]\n",
            "--2022-08-20 02:47:40--  https://www.dropbox.com/s/raw/il7t10xfzymz8yg/Twitter_Data.csv\n",
            "Reusing existing connection to www.dropbox.com:443.\n",
            "HTTP request sent, awaiting response... 302 Found\n",
            "Location: https://uce30289f7df3452f5315af5b21c.dl.dropboxusercontent.com/cd/0/inline/BrVSosJAIWveGcwN2HLmA7wkFNaXH_f1xy5cTuVNAEIo5Wt1NYXFbg0Hg-24nXEvx4W4B5cNxe9Gmj-9ZgnSXoU8bvgW6dk_SR6tfgrdoU6FqOhTvDABUasf0u3Sk5gmDKG6DFkLMi7s6vgudkyjox7XB1YaVCBtCZF9Xi3eVFSKVQ/file# [following]\n",
            "--2022-08-20 02:47:40--  https://uce30289f7df3452f5315af5b21c.dl.dropboxusercontent.com/cd/0/inline/BrVSosJAIWveGcwN2HLmA7wkFNaXH_f1xy5cTuVNAEIo5Wt1NYXFbg0Hg-24nXEvx4W4B5cNxe9Gmj-9ZgnSXoU8bvgW6dk_SR6tfgrdoU6FqOhTvDABUasf0u3Sk5gmDKG6DFkLMi7s6vgudkyjox7XB1YaVCBtCZF9Xi3eVFSKVQ/file\n",
            "Resolving uce30289f7df3452f5315af5b21c.dl.dropboxusercontent.com (uce30289f7df3452f5315af5b21c.dl.dropboxusercontent.com)... 162.125.3.15, 2620:100:601d:15::a27d:50f\n",
            "Connecting to uce30289f7df3452f5315af5b21c.dl.dropboxusercontent.com (uce30289f7df3452f5315af5b21c.dl.dropboxusercontent.com)|162.125.3.15|:443... connected.\n",
            "HTTP request sent, awaiting response... 200 OK\n",
            "Length: 20895533 (20M) [text/plain]\n",
            "Saving to: ‘Twitter_Data.csv.1’\n",
            "\n",
            "Twitter_Data.csv.1  100%[===================>]  19.93M  81.5MB/s    in 0.2s    \n",
            "\n",
            "2022-08-20 02:47:41 (81.5 MB/s) - ‘Twitter_Data.csv.1’ saved [20895533/20895533]\n",
            "\n"
          ]
        }
      ],
      "source": [
        "!wget https://www.dropbox.com/s/il7t10xfzymz8yg/Twitter_Data.csv"
      ]
    },
    {
      "cell_type": "markdown",
      "source": [
        "reading data to csv"
      ],
      "metadata": {
        "id": "39ra8dduB6Ix"
      }
    },
    {
      "cell_type": "code",
      "execution_count": null,
      "metadata": {
        "id": "XjKz9co3wIoK"
      },
      "outputs": [],
      "source": [
        "df = pd.read_csv(\"Twitter_Data.csv\")"
      ]
    },
    {
      "cell_type": "code",
      "execution_count": null,
      "metadata": {
        "colab": {
          "base_uri": "https://localhost:8080/",
          "height": 206
        },
        "id": "Tt2VXZ9mxzDS",
        "outputId": "c1a15111-a416-4500-fee1-2b566b91391e"
      },
      "outputs": [
        {
          "output_type": "execute_result",
          "data": {
            "text/plain": [
              "                                          clean_text  category\n",
              "0  when modi promised “minimum government maximum...      -1.0\n",
              "1  talk all the nonsense and continue all the dra...       0.0\n",
              "2  what did just say vote for modi  welcome bjp t...       1.0\n",
              "3  asking his supporters prefix chowkidar their n...       1.0\n",
              "4  answer who among these the most powerful world...       1.0"
            ],
            "text/html": [
              "\n",
              "  <div id=\"df-f89baec5-fd55-40be-a71c-8bc84f4bd632\">\n",
              "    <div class=\"colab-df-container\">\n",
              "      <div>\n",
              "<style scoped>\n",
              "    .dataframe tbody tr th:only-of-type {\n",
              "        vertical-align: middle;\n",
              "    }\n",
              "\n",
              "    .dataframe tbody tr th {\n",
              "        vertical-align: top;\n",
              "    }\n",
              "\n",
              "    .dataframe thead th {\n",
              "        text-align: right;\n",
              "    }\n",
              "</style>\n",
              "<table border=\"1\" class=\"dataframe\">\n",
              "  <thead>\n",
              "    <tr style=\"text-align: right;\">\n",
              "      <th></th>\n",
              "      <th>clean_text</th>\n",
              "      <th>category</th>\n",
              "    </tr>\n",
              "  </thead>\n",
              "  <tbody>\n",
              "    <tr>\n",
              "      <th>0</th>\n",
              "      <td>when modi promised “minimum government maximum...</td>\n",
              "      <td>-1.0</td>\n",
              "    </tr>\n",
              "    <tr>\n",
              "      <th>1</th>\n",
              "      <td>talk all the nonsense and continue all the dra...</td>\n",
              "      <td>0.0</td>\n",
              "    </tr>\n",
              "    <tr>\n",
              "      <th>2</th>\n",
              "      <td>what did just say vote for modi  welcome bjp t...</td>\n",
              "      <td>1.0</td>\n",
              "    </tr>\n",
              "    <tr>\n",
              "      <th>3</th>\n",
              "      <td>asking his supporters prefix chowkidar their n...</td>\n",
              "      <td>1.0</td>\n",
              "    </tr>\n",
              "    <tr>\n",
              "      <th>4</th>\n",
              "      <td>answer who among these the most powerful world...</td>\n",
              "      <td>1.0</td>\n",
              "    </tr>\n",
              "  </tbody>\n",
              "</table>\n",
              "</div>\n",
              "      <button class=\"colab-df-convert\" onclick=\"convertToInteractive('df-f89baec5-fd55-40be-a71c-8bc84f4bd632')\"\n",
              "              title=\"Convert this dataframe to an interactive table.\"\n",
              "              style=\"display:none;\">\n",
              "        \n",
              "  <svg xmlns=\"http://www.w3.org/2000/svg\" height=\"24px\"viewBox=\"0 0 24 24\"\n",
              "       width=\"24px\">\n",
              "    <path d=\"M0 0h24v24H0V0z\" fill=\"none\"/>\n",
              "    <path d=\"M18.56 5.44l.94 2.06.94-2.06 2.06-.94-2.06-.94-.94-2.06-.94 2.06-2.06.94zm-11 1L8.5 8.5l.94-2.06 2.06-.94-2.06-.94L8.5 2.5l-.94 2.06-2.06.94zm10 10l.94 2.06.94-2.06 2.06-.94-2.06-.94-.94-2.06-.94 2.06-2.06.94z\"/><path d=\"M17.41 7.96l-1.37-1.37c-.4-.4-.92-.59-1.43-.59-.52 0-1.04.2-1.43.59L10.3 9.45l-7.72 7.72c-.78.78-.78 2.05 0 2.83L4 21.41c.39.39.9.59 1.41.59.51 0 1.02-.2 1.41-.59l7.78-7.78 2.81-2.81c.8-.78.8-2.07 0-2.86zM5.41 20L4 18.59l7.72-7.72 1.47 1.35L5.41 20z\"/>\n",
              "  </svg>\n",
              "      </button>\n",
              "      \n",
              "  <style>\n",
              "    .colab-df-container {\n",
              "      display:flex;\n",
              "      flex-wrap:wrap;\n",
              "      gap: 12px;\n",
              "    }\n",
              "\n",
              "    .colab-df-convert {\n",
              "      background-color: #E8F0FE;\n",
              "      border: none;\n",
              "      border-radius: 50%;\n",
              "      cursor: pointer;\n",
              "      display: none;\n",
              "      fill: #1967D2;\n",
              "      height: 32px;\n",
              "      padding: 0 0 0 0;\n",
              "      width: 32px;\n",
              "    }\n",
              "\n",
              "    .colab-df-convert:hover {\n",
              "      background-color: #E2EBFA;\n",
              "      box-shadow: 0px 1px 2px rgba(60, 64, 67, 0.3), 0px 1px 3px 1px rgba(60, 64, 67, 0.15);\n",
              "      fill: #174EA6;\n",
              "    }\n",
              "\n",
              "    [theme=dark] .colab-df-convert {\n",
              "      background-color: #3B4455;\n",
              "      fill: #D2E3FC;\n",
              "    }\n",
              "\n",
              "    [theme=dark] .colab-df-convert:hover {\n",
              "      background-color: #434B5C;\n",
              "      box-shadow: 0px 1px 3px 1px rgba(0, 0, 0, 0.15);\n",
              "      filter: drop-shadow(0px 1px 2px rgba(0, 0, 0, 0.3));\n",
              "      fill: #FFFFFF;\n",
              "    }\n",
              "  </style>\n",
              "\n",
              "      <script>\n",
              "        const buttonEl =\n",
              "          document.querySelector('#df-f89baec5-fd55-40be-a71c-8bc84f4bd632 button.colab-df-convert');\n",
              "        buttonEl.style.display =\n",
              "          google.colab.kernel.accessAllowed ? 'block' : 'none';\n",
              "\n",
              "        async function convertToInteractive(key) {\n",
              "          const element = document.querySelector('#df-f89baec5-fd55-40be-a71c-8bc84f4bd632');\n",
              "          const dataTable =\n",
              "            await google.colab.kernel.invokeFunction('convertToInteractive',\n",
              "                                                     [key], {});\n",
              "          if (!dataTable) return;\n",
              "\n",
              "          const docLinkHtml = 'Like what you see? Visit the ' +\n",
              "            '<a target=\"_blank\" href=https://colab.research.google.com/notebooks/data_table.ipynb>data table notebook</a>'\n",
              "            + ' to learn more about interactive tables.';\n",
              "          element.innerHTML = '';\n",
              "          dataTable['output_type'] = 'display_data';\n",
              "          await google.colab.output.renderOutput(dataTable, element);\n",
              "          const docLink = document.createElement('div');\n",
              "          docLink.innerHTML = docLinkHtml;\n",
              "          element.appendChild(docLink);\n",
              "        }\n",
              "      </script>\n",
              "    </div>\n",
              "  </div>\n",
              "  "
            ]
          },
          "metadata": {},
          "execution_count": 111
        }
      ],
      "source": [
        "df.head()"
      ]
    },
    {
      "cell_type": "code",
      "execution_count": null,
      "metadata": {
        "colab": {
          "base_uri": "https://localhost:8080/"
        },
        "id": "XHKuLP96IotN",
        "outputId": "2b6739cc-0a45-4590-e26c-012616d0b3bf"
      },
      "outputs": [
        {
          "output_type": "stream",
          "name": "stdout",
          "text": [
            "<class 'pandas.core.frame.DataFrame'>\n",
            "RangeIndex: 162980 entries, 0 to 162979\n",
            "Data columns (total 2 columns):\n",
            " #   Column      Non-Null Count   Dtype  \n",
            "---  ------      --------------   -----  \n",
            " 0   clean_text  162976 non-null  object \n",
            " 1   category    162973 non-null  float64\n",
            "dtypes: float64(1), object(1)\n",
            "memory usage: 2.5+ MB\n"
          ]
        }
      ],
      "source": [
        "df.info()"
      ]
    },
    {
      "cell_type": "markdown",
      "source": [
        "changing dependent variable"
      ],
      "metadata": {
        "id": "SKhDzzbXB_3T"
      }
    },
    {
      "cell_type": "code",
      "execution_count": null,
      "metadata": {
        "id": "N0JHZNkYwNpS"
      },
      "outputs": [],
      "source": [
        "def change_dep(x):\n",
        "  if(x==0):\n",
        "    return \"Neutral\"\n",
        "  elif(x==1):\n",
        "    return \"Positive\"\n",
        "  else:\n",
        "    return \"Negative\""
      ]
    },
    {
      "cell_type": "code",
      "execution_count": null,
      "metadata": {
        "id": "NVWqMihExgLd"
      },
      "outputs": [],
      "source": [
        "df['category']=df.apply(lambda x:change_dep(x['category']),axis=1)"
      ]
    },
    {
      "cell_type": "markdown",
      "source": [
        "null data handling"
      ],
      "metadata": {
        "id": "tr9-MVj6CNZ5"
      }
    },
    {
      "cell_type": "code",
      "execution_count": null,
      "metadata": {
        "colab": {
          "base_uri": "https://localhost:8080/"
        },
        "id": "QVelgpOoySoM",
        "outputId": "1102a3e5-a50b-4d39-8ee8-e4cdd31d3212"
      },
      "outputs": [
        {
          "output_type": "execute_result",
          "data": {
            "text/plain": [
              "clean_text    4\n",
              "category      0\n",
              "dtype: int64"
            ]
          },
          "metadata": {},
          "execution_count": 115
        }
      ],
      "source": [
        "df.isnull().sum()"
      ]
    },
    {
      "cell_type": "code",
      "execution_count": null,
      "metadata": {
        "id": "Rtqe1z4xygus"
      },
      "outputs": [],
      "source": [
        "df=df.dropna()"
      ]
    },
    {
      "cell_type": "code",
      "execution_count": null,
      "metadata": {
        "colab": {
          "base_uri": "https://localhost:8080/"
        },
        "id": "0CKZeUBSyqMi",
        "outputId": "bd2f4c12-fd03-4611-8256-6f3b4cf1ebcc"
      },
      "outputs": [
        {
          "output_type": "execute_result",
          "data": {
            "text/plain": [
              "clean_text    0\n",
              "category      0\n",
              "dtype: int64"
            ]
          },
          "metadata": {},
          "execution_count": 117
        }
      ],
      "source": [
        "df.isnull().sum()"
      ]
    },
    {
      "cell_type": "markdown",
      "source": [
        "data preprocessing "
      ],
      "metadata": {
        "id": "rBee_I_mCUVo"
      }
    },
    {
      "cell_type": "code",
      "execution_count": null,
      "metadata": {
        "id": "KNUuVkeUEv36"
      },
      "outputs": [],
      "source": [
        "df=df.reset_index(drop=True)"
      ]
    },
    {
      "cell_type": "code",
      "execution_count": null,
      "metadata": {
        "id": "jG-0baufIh_P"
      },
      "outputs": [],
      "source": [
        "for i in range(0,len(df)):\n",
        "  df['clean_text'][i] =df['clean_text'][i].lower()\n",
        "  df['clean_text'][i] = re.sub(r\"[^a-z0-9]\",\" \",df['clean_text'][i])"
      ]
    },
    {
      "cell_type": "code",
      "execution_count": null,
      "metadata": {
        "colab": {
          "base_uri": "https://localhost:8080/",
          "height": 424
        },
        "id": "5ZUOfQFkSZ7R",
        "outputId": "08f627a5-bd49-4ca0-a388-8f3bafe43926"
      },
      "outputs": [
        {
          "output_type": "execute_result",
          "data": {
            "text/plain": [
              "                                               clean_text  category\n",
              "0       when modi promised  minimum government maximum...  Negative\n",
              "1       talk all the nonsense and continue all the dra...   Neutral\n",
              "2       what did just say vote for modi  welcome bjp t...  Positive\n",
              "3       asking his supporters prefix chowkidar their n...  Positive\n",
              "4       answer who among these the most powerful world...  Positive\n",
              "...                                                   ...       ...\n",
              "162971  why these 456 crores paid neerav modi not reco...  Negative\n",
              "162972  dear rss terrorist payal gawar what about modi...  Negative\n",
              "162973  did you cover her interaction forum where she ...   Neutral\n",
              "162974  there big project came into india modi dream p...   Neutral\n",
              "162975  have you ever listen about like gurukul where ...  Positive\n",
              "\n",
              "[162976 rows x 2 columns]"
            ],
            "text/html": [
              "\n",
              "  <div id=\"df-a896e8e0-9b46-43de-9ee9-959d94aeb000\">\n",
              "    <div class=\"colab-df-container\">\n",
              "      <div>\n",
              "<style scoped>\n",
              "    .dataframe tbody tr th:only-of-type {\n",
              "        vertical-align: middle;\n",
              "    }\n",
              "\n",
              "    .dataframe tbody tr th {\n",
              "        vertical-align: top;\n",
              "    }\n",
              "\n",
              "    .dataframe thead th {\n",
              "        text-align: right;\n",
              "    }\n",
              "</style>\n",
              "<table border=\"1\" class=\"dataframe\">\n",
              "  <thead>\n",
              "    <tr style=\"text-align: right;\">\n",
              "      <th></th>\n",
              "      <th>clean_text</th>\n",
              "      <th>category</th>\n",
              "    </tr>\n",
              "  </thead>\n",
              "  <tbody>\n",
              "    <tr>\n",
              "      <th>0</th>\n",
              "      <td>when modi promised  minimum government maximum...</td>\n",
              "      <td>Negative</td>\n",
              "    </tr>\n",
              "    <tr>\n",
              "      <th>1</th>\n",
              "      <td>talk all the nonsense and continue all the dra...</td>\n",
              "      <td>Neutral</td>\n",
              "    </tr>\n",
              "    <tr>\n",
              "      <th>2</th>\n",
              "      <td>what did just say vote for modi  welcome bjp t...</td>\n",
              "      <td>Positive</td>\n",
              "    </tr>\n",
              "    <tr>\n",
              "      <th>3</th>\n",
              "      <td>asking his supporters prefix chowkidar their n...</td>\n",
              "      <td>Positive</td>\n",
              "    </tr>\n",
              "    <tr>\n",
              "      <th>4</th>\n",
              "      <td>answer who among these the most powerful world...</td>\n",
              "      <td>Positive</td>\n",
              "    </tr>\n",
              "    <tr>\n",
              "      <th>...</th>\n",
              "      <td>...</td>\n",
              "      <td>...</td>\n",
              "    </tr>\n",
              "    <tr>\n",
              "      <th>162971</th>\n",
              "      <td>why these 456 crores paid neerav modi not reco...</td>\n",
              "      <td>Negative</td>\n",
              "    </tr>\n",
              "    <tr>\n",
              "      <th>162972</th>\n",
              "      <td>dear rss terrorist payal gawar what about modi...</td>\n",
              "      <td>Negative</td>\n",
              "    </tr>\n",
              "    <tr>\n",
              "      <th>162973</th>\n",
              "      <td>did you cover her interaction forum where she ...</td>\n",
              "      <td>Neutral</td>\n",
              "    </tr>\n",
              "    <tr>\n",
              "      <th>162974</th>\n",
              "      <td>there big project came into india modi dream p...</td>\n",
              "      <td>Neutral</td>\n",
              "    </tr>\n",
              "    <tr>\n",
              "      <th>162975</th>\n",
              "      <td>have you ever listen about like gurukul where ...</td>\n",
              "      <td>Positive</td>\n",
              "    </tr>\n",
              "  </tbody>\n",
              "</table>\n",
              "<p>162976 rows × 2 columns</p>\n",
              "</div>\n",
              "      <button class=\"colab-df-convert\" onclick=\"convertToInteractive('df-a896e8e0-9b46-43de-9ee9-959d94aeb000')\"\n",
              "              title=\"Convert this dataframe to an interactive table.\"\n",
              "              style=\"display:none;\">\n",
              "        \n",
              "  <svg xmlns=\"http://www.w3.org/2000/svg\" height=\"24px\"viewBox=\"0 0 24 24\"\n",
              "       width=\"24px\">\n",
              "    <path d=\"M0 0h24v24H0V0z\" fill=\"none\"/>\n",
              "    <path d=\"M18.56 5.44l.94 2.06.94-2.06 2.06-.94-2.06-.94-.94-2.06-.94 2.06-2.06.94zm-11 1L8.5 8.5l.94-2.06 2.06-.94-2.06-.94L8.5 2.5l-.94 2.06-2.06.94zm10 10l.94 2.06.94-2.06 2.06-.94-2.06-.94-.94-2.06-.94 2.06-2.06.94z\"/><path d=\"M17.41 7.96l-1.37-1.37c-.4-.4-.92-.59-1.43-.59-.52 0-1.04.2-1.43.59L10.3 9.45l-7.72 7.72c-.78.78-.78 2.05 0 2.83L4 21.41c.39.39.9.59 1.41.59.51 0 1.02-.2 1.41-.59l7.78-7.78 2.81-2.81c.8-.78.8-2.07 0-2.86zM5.41 20L4 18.59l7.72-7.72 1.47 1.35L5.41 20z\"/>\n",
              "  </svg>\n",
              "      </button>\n",
              "      \n",
              "  <style>\n",
              "    .colab-df-container {\n",
              "      display:flex;\n",
              "      flex-wrap:wrap;\n",
              "      gap: 12px;\n",
              "    }\n",
              "\n",
              "    .colab-df-convert {\n",
              "      background-color: #E8F0FE;\n",
              "      border: none;\n",
              "      border-radius: 50%;\n",
              "      cursor: pointer;\n",
              "      display: none;\n",
              "      fill: #1967D2;\n",
              "      height: 32px;\n",
              "      padding: 0 0 0 0;\n",
              "      width: 32px;\n",
              "    }\n",
              "\n",
              "    .colab-df-convert:hover {\n",
              "      background-color: #E2EBFA;\n",
              "      box-shadow: 0px 1px 2px rgba(60, 64, 67, 0.3), 0px 1px 3px 1px rgba(60, 64, 67, 0.15);\n",
              "      fill: #174EA6;\n",
              "    }\n",
              "\n",
              "    [theme=dark] .colab-df-convert {\n",
              "      background-color: #3B4455;\n",
              "      fill: #D2E3FC;\n",
              "    }\n",
              "\n",
              "    [theme=dark] .colab-df-convert:hover {\n",
              "      background-color: #434B5C;\n",
              "      box-shadow: 0px 1px 3px 1px rgba(0, 0, 0, 0.15);\n",
              "      filter: drop-shadow(0px 1px 2px rgba(0, 0, 0, 0.3));\n",
              "      fill: #FFFFFF;\n",
              "    }\n",
              "  </style>\n",
              "\n",
              "      <script>\n",
              "        const buttonEl =\n",
              "          document.querySelector('#df-a896e8e0-9b46-43de-9ee9-959d94aeb000 button.colab-df-convert');\n",
              "        buttonEl.style.display =\n",
              "          google.colab.kernel.accessAllowed ? 'block' : 'none';\n",
              "\n",
              "        async function convertToInteractive(key) {\n",
              "          const element = document.querySelector('#df-a896e8e0-9b46-43de-9ee9-959d94aeb000');\n",
              "          const dataTable =\n",
              "            await google.colab.kernel.invokeFunction('convertToInteractive',\n",
              "                                                     [key], {});\n",
              "          if (!dataTable) return;\n",
              "\n",
              "          const docLinkHtml = 'Like what you see? Visit the ' +\n",
              "            '<a target=\"_blank\" href=https://colab.research.google.com/notebooks/data_table.ipynb>data table notebook</a>'\n",
              "            + ' to learn more about interactive tables.';\n",
              "          element.innerHTML = '';\n",
              "          dataTable['output_type'] = 'display_data';\n",
              "          await google.colab.output.renderOutput(dataTable, element);\n",
              "          const docLink = document.createElement('div');\n",
              "          docLink.innerHTML = docLinkHtml;\n",
              "          element.appendChild(docLink);\n",
              "        }\n",
              "      </script>\n",
              "    </div>\n",
              "  </div>\n",
              "  "
            ]
          },
          "metadata": {},
          "execution_count": 120
        }
      ],
      "source": [
        "df"
      ]
    },
    {
      "cell_type": "code",
      "execution_count": null,
      "metadata": {
        "id": "UCZkuGgF8nWG"
      },
      "outputs": [],
      "source": [
        "count_of_words=[]"
      ]
    },
    {
      "cell_type": "code",
      "execution_count": null,
      "metadata": {
        "id": "7S8sJAooFLSc"
      },
      "outputs": [],
      "source": [
        "for i in string.punctuation : \n",
        "  df[\"clean_text\"] = df.clean_text.replace(i,'')\n"
      ]
    },
    {
      "cell_type": "code",
      "execution_count": null,
      "metadata": {
        "id": "7cKiUJdMiPaI"
      },
      "outputs": [],
      "source": [
        "new_text=df[\"clean_text\"]"
      ]
    },
    {
      "cell_type": "code",
      "execution_count": null,
      "metadata": {
        "id": "VqbAMHK5TwK7"
      },
      "outputs": [],
      "source": [
        "en_stop_words = stopwords.words('english')"
      ]
    },
    {
      "cell_type": "code",
      "execution_count": null,
      "metadata": {
        "id": "0JUfmiKIYkdu"
      },
      "outputs": [],
      "source": [
        "for i in range(0,len(df)):\n",
        "  df[\"clean_text\"][i]=word_tokenize(df[\"clean_text\"][i])"
      ]
    },
    {
      "cell_type": "code",
      "execution_count": null,
      "metadata": {
        "id": "kDskSpTPVDc5"
      },
      "outputs": [],
      "source": [
        "for i in range(0,len(df)):\n",
        "  df[\"clean_text\"][i]=[word for word in df[\"clean_text\"][i] if word not in en_stop_words]"
      ]
    },
    {
      "cell_type": "code",
      "execution_count": null,
      "metadata": {
        "id": "z42j50exc6XO"
      },
      "outputs": [],
      "source": [
        "for i in range(0,len(df)):\n",
        "  for j in range(0,len(df[\"clean_text\"][i])):\n",
        "    df[\"clean_text\"][i][j]=lemmatizer.lemmatize(df[\"clean_text\"][i][j])"
      ]
    },
    {
      "cell_type": "code",
      "execution_count": null,
      "metadata": {
        "colab": {
          "base_uri": "https://localhost:8080/"
        },
        "id": "FhEQ-9Xfmkkk",
        "outputId": "b47c33e2-1367-495b-f891-efe587a7e049"
      },
      "outputs": [
        {
          "output_type": "stream",
          "name": "stderr",
          "text": [
            "/usr/local/lib/python3.7/dist-packages/ipykernel_launcher.py:3: SettingWithCopyWarning: \n",
            "A value is trying to be set on a copy of a slice from a DataFrame\n",
            "\n",
            "See the caveats in the documentation: https://pandas.pydata.org/pandas-docs/stable/user_guide/indexing.html#returning-a-view-versus-a-copy\n",
            "  This is separate from the ipykernel package so we can avoid doing imports until\n"
          ]
        }
      ],
      "source": [
        "df[\"count\"]=0\n",
        "for i in range(0,len(df)):\n",
        "  df[\"count\"][i]=len(df[\"clean_text\"][i])"
      ]
    },
    {
      "cell_type": "code",
      "execution_count": null,
      "metadata": {
        "colab": {
          "base_uri": "https://localhost:8080/",
          "height": 424
        },
        "id": "P652LAi1nY9N",
        "outputId": "67fa574d-1d5c-434b-9dff-55a3f1502579"
      },
      "outputs": [
        {
          "output_type": "execute_result",
          "data": {
            "text/plain": [
              "                                               clean_text  category  count\n",
              "0       [modi, promised, minimum, government, maximum,...  Negative     21\n",
              "1           [talk, nonsense, continue, drama, vote, modi]   Neutral      6\n",
              "2       [say, vote, modi, welcome, bjp, told, rahul, m...  Positive     13\n",
              "3       [asking, supporter, prefix, chowkidar, name, m...  Positive     19\n",
              "4       [answer, among, powerful, world, leader, today...  Positive     10\n",
              "...                                                   ...       ...    ...\n",
              "162971  [456, crore, paid, neerav, modi, recovered, co...  Negative     13\n",
              "162972  [dear, r, terrorist, payal, gawar, modi, killi...  Negative     32\n",
              "162973                  [cover, interaction, forum, left]   Neutral      4\n",
              "162974  [big, project, came, india, modi, dream, proje...   Neutral      9\n",
              "162975  [ever, listen, like, gurukul, discipline, main...  Positive     22\n",
              "\n",
              "[162976 rows x 3 columns]"
            ],
            "text/html": [
              "\n",
              "  <div id=\"df-c6e416ce-ee53-4e6c-819f-ed8b988bc502\">\n",
              "    <div class=\"colab-df-container\">\n",
              "      <div>\n",
              "<style scoped>\n",
              "    .dataframe tbody tr th:only-of-type {\n",
              "        vertical-align: middle;\n",
              "    }\n",
              "\n",
              "    .dataframe tbody tr th {\n",
              "        vertical-align: top;\n",
              "    }\n",
              "\n",
              "    .dataframe thead th {\n",
              "        text-align: right;\n",
              "    }\n",
              "</style>\n",
              "<table border=\"1\" class=\"dataframe\">\n",
              "  <thead>\n",
              "    <tr style=\"text-align: right;\">\n",
              "      <th></th>\n",
              "      <th>clean_text</th>\n",
              "      <th>category</th>\n",
              "      <th>count</th>\n",
              "    </tr>\n",
              "  </thead>\n",
              "  <tbody>\n",
              "    <tr>\n",
              "      <th>0</th>\n",
              "      <td>[modi, promised, minimum, government, maximum,...</td>\n",
              "      <td>Negative</td>\n",
              "      <td>21</td>\n",
              "    </tr>\n",
              "    <tr>\n",
              "      <th>1</th>\n",
              "      <td>[talk, nonsense, continue, drama, vote, modi]</td>\n",
              "      <td>Neutral</td>\n",
              "      <td>6</td>\n",
              "    </tr>\n",
              "    <tr>\n",
              "      <th>2</th>\n",
              "      <td>[say, vote, modi, welcome, bjp, told, rahul, m...</td>\n",
              "      <td>Positive</td>\n",
              "      <td>13</td>\n",
              "    </tr>\n",
              "    <tr>\n",
              "      <th>3</th>\n",
              "      <td>[asking, supporter, prefix, chowkidar, name, m...</td>\n",
              "      <td>Positive</td>\n",
              "      <td>19</td>\n",
              "    </tr>\n",
              "    <tr>\n",
              "      <th>4</th>\n",
              "      <td>[answer, among, powerful, world, leader, today...</td>\n",
              "      <td>Positive</td>\n",
              "      <td>10</td>\n",
              "    </tr>\n",
              "    <tr>\n",
              "      <th>...</th>\n",
              "      <td>...</td>\n",
              "      <td>...</td>\n",
              "      <td>...</td>\n",
              "    </tr>\n",
              "    <tr>\n",
              "      <th>162971</th>\n",
              "      <td>[456, crore, paid, neerav, modi, recovered, co...</td>\n",
              "      <td>Negative</td>\n",
              "      <td>13</td>\n",
              "    </tr>\n",
              "    <tr>\n",
              "      <th>162972</th>\n",
              "      <td>[dear, r, terrorist, payal, gawar, modi, killi...</td>\n",
              "      <td>Negative</td>\n",
              "      <td>32</td>\n",
              "    </tr>\n",
              "    <tr>\n",
              "      <th>162973</th>\n",
              "      <td>[cover, interaction, forum, left]</td>\n",
              "      <td>Neutral</td>\n",
              "      <td>4</td>\n",
              "    </tr>\n",
              "    <tr>\n",
              "      <th>162974</th>\n",
              "      <td>[big, project, came, india, modi, dream, proje...</td>\n",
              "      <td>Neutral</td>\n",
              "      <td>9</td>\n",
              "    </tr>\n",
              "    <tr>\n",
              "      <th>162975</th>\n",
              "      <td>[ever, listen, like, gurukul, discipline, main...</td>\n",
              "      <td>Positive</td>\n",
              "      <td>22</td>\n",
              "    </tr>\n",
              "  </tbody>\n",
              "</table>\n",
              "<p>162976 rows × 3 columns</p>\n",
              "</div>\n",
              "      <button class=\"colab-df-convert\" onclick=\"convertToInteractive('df-c6e416ce-ee53-4e6c-819f-ed8b988bc502')\"\n",
              "              title=\"Convert this dataframe to an interactive table.\"\n",
              "              style=\"display:none;\">\n",
              "        \n",
              "  <svg xmlns=\"http://www.w3.org/2000/svg\" height=\"24px\"viewBox=\"0 0 24 24\"\n",
              "       width=\"24px\">\n",
              "    <path d=\"M0 0h24v24H0V0z\" fill=\"none\"/>\n",
              "    <path d=\"M18.56 5.44l.94 2.06.94-2.06 2.06-.94-2.06-.94-.94-2.06-.94 2.06-2.06.94zm-11 1L8.5 8.5l.94-2.06 2.06-.94-2.06-.94L8.5 2.5l-.94 2.06-2.06.94zm10 10l.94 2.06.94-2.06 2.06-.94-2.06-.94-.94-2.06-.94 2.06-2.06.94z\"/><path d=\"M17.41 7.96l-1.37-1.37c-.4-.4-.92-.59-1.43-.59-.52 0-1.04.2-1.43.59L10.3 9.45l-7.72 7.72c-.78.78-.78 2.05 0 2.83L4 21.41c.39.39.9.59 1.41.59.51 0 1.02-.2 1.41-.59l7.78-7.78 2.81-2.81c.8-.78.8-2.07 0-2.86zM5.41 20L4 18.59l7.72-7.72 1.47 1.35L5.41 20z\"/>\n",
              "  </svg>\n",
              "      </button>\n",
              "      \n",
              "  <style>\n",
              "    .colab-df-container {\n",
              "      display:flex;\n",
              "      flex-wrap:wrap;\n",
              "      gap: 12px;\n",
              "    }\n",
              "\n",
              "    .colab-df-convert {\n",
              "      background-color: #E8F0FE;\n",
              "      border: none;\n",
              "      border-radius: 50%;\n",
              "      cursor: pointer;\n",
              "      display: none;\n",
              "      fill: #1967D2;\n",
              "      height: 32px;\n",
              "      padding: 0 0 0 0;\n",
              "      width: 32px;\n",
              "    }\n",
              "\n",
              "    .colab-df-convert:hover {\n",
              "      background-color: #E2EBFA;\n",
              "      box-shadow: 0px 1px 2px rgba(60, 64, 67, 0.3), 0px 1px 3px 1px rgba(60, 64, 67, 0.15);\n",
              "      fill: #174EA6;\n",
              "    }\n",
              "\n",
              "    [theme=dark] .colab-df-convert {\n",
              "      background-color: #3B4455;\n",
              "      fill: #D2E3FC;\n",
              "    }\n",
              "\n",
              "    [theme=dark] .colab-df-convert:hover {\n",
              "      background-color: #434B5C;\n",
              "      box-shadow: 0px 1px 3px 1px rgba(0, 0, 0, 0.15);\n",
              "      filter: drop-shadow(0px 1px 2px rgba(0, 0, 0, 0.3));\n",
              "      fill: #FFFFFF;\n",
              "    }\n",
              "  </style>\n",
              "\n",
              "      <script>\n",
              "        const buttonEl =\n",
              "          document.querySelector('#df-c6e416ce-ee53-4e6c-819f-ed8b988bc502 button.colab-df-convert');\n",
              "        buttonEl.style.display =\n",
              "          google.colab.kernel.accessAllowed ? 'block' : 'none';\n",
              "\n",
              "        async function convertToInteractive(key) {\n",
              "          const element = document.querySelector('#df-c6e416ce-ee53-4e6c-819f-ed8b988bc502');\n",
              "          const dataTable =\n",
              "            await google.colab.kernel.invokeFunction('convertToInteractive',\n",
              "                                                     [key], {});\n",
              "          if (!dataTable) return;\n",
              "\n",
              "          const docLinkHtml = 'Like what you see? Visit the ' +\n",
              "            '<a target=\"_blank\" href=https://colab.research.google.com/notebooks/data_table.ipynb>data table notebook</a>'\n",
              "            + ' to learn more about interactive tables.';\n",
              "          element.innerHTML = '';\n",
              "          dataTable['output_type'] = 'display_data';\n",
              "          await google.colab.output.renderOutput(dataTable, element);\n",
              "          const docLink = document.createElement('div');\n",
              "          docLink.innerHTML = docLinkHtml;\n",
              "          element.appendChild(docLink);\n",
              "        }\n",
              "      </script>\n",
              "    </div>\n",
              "  </div>\n",
              "  "
            ]
          },
          "metadata": {},
          "execution_count": 247
        }
      ],
      "source": [
        "df"
      ]
    },
    {
      "cell_type": "code",
      "execution_count": null,
      "metadata": {
        "id": "96E2raTlFBH0"
      },
      "outputs": [],
      "source": [
        "X=df.drop(columns=[\"category\",\"count\"])\n",
        "y=df.category\n",
        "length=df.count"
      ]
    },
    {
      "cell_type": "code",
      "source": [
        "voc_size=10000"
      ],
      "metadata": {
        "id": "C-OudhPMNg6n"
      },
      "execution_count": null,
      "outputs": []
    },
    {
      "cell_type": "code",
      "source": [
        "df[\"clean_text\"][0][0]"
      ],
      "metadata": {
        "colab": {
          "base_uri": "https://localhost:8080/",
          "height": 36
        },
        "id": "YX6vpkljSMAO",
        "outputId": "0962019c-1e97-4f90-a8a5-8cb7fd12a7e4"
      },
      "execution_count": null,
      "outputs": [
        {
          "output_type": "execute_result",
          "data": {
            "text/plain": [
              "'modi'"
            ],
            "application/vnd.google.colaboratory.intrinsic+json": {
              "type": "string"
            }
          },
          "metadata": {},
          "execution_count": 150
        }
      ]
    },
    {
      "cell_type": "code",
      "source": [
        "lst=[]\n",
        "for i in range(0,len(df[\"clean_text\"])):\n",
        "  new=\"\"\n",
        "  for j in range(0,len(df[\"clean_text\"][i])):\n",
        "    new=new+df[\"clean_text\"][i][j]+\" \"\n",
        "  lst.append(new) \n",
        "      \n",
        "     \n"
      ],
      "metadata": {
        "id": "vi_m_wFROedo"
      },
      "execution_count": null,
      "outputs": []
    },
    {
      "cell_type": "code",
      "source": [
        "onehot_rep = [one_hot(words,voc_size) for words in lst]"
      ],
      "metadata": {
        "id": "wmO1dxUINVSv"
      },
      "execution_count": null,
      "outputs": []
    },
    {
      "cell_type": "code",
      "execution_count": null,
      "metadata": {
        "id": "_-o4oLF085NH"
      },
      "outputs": [],
      "source": [
        "from tensorflow.keras.preprocessing.sequence import pad_sequences\n",
        "sent_length = 25\n",
        "embedded_docs = pad_sequences(onehot_rep, maxlen=sent_length, padding='pre')"
      ]
    },
    {
      "cell_type": "code",
      "source": [
        "embedded_docs.shape"
      ],
      "metadata": {
        "colab": {
          "base_uri": "https://localhost:8080/"
        },
        "id": "-l7WATnQ9LhC",
        "outputId": "1b506d55-cd15-430a-ff49-fdbfe821098f"
      },
      "execution_count": null,
      "outputs": [
        {
          "output_type": "execute_result",
          "data": {
            "text/plain": [
              "(162976, 25)"
            ]
          },
          "metadata": {},
          "execution_count": 155
        }
      ]
    },
    {
      "cell_type": "markdown",
      "source": [
        " LSTM model "
      ],
      "metadata": {
        "id": "RJ64-CZMCdNZ"
      }
    },
    {
      "cell_type": "code",
      "source": [
        "vec_size=300\n",
        "model=Sequential()\n",
        "model.add(Embedding(voc_size,vec_size,input_length=sent_length))\n",
        "model.add(LSTM(units=64))\n",
        "\n",
        "\n",
        "model.add(Dense(32,activation=\"relu\"))\n",
        "model.add(Dropout(0.2))\n",
        "\n",
        "model.add(Dense(16,activation=\"relu\"))\n",
        "\n",
        "\n",
        "model.add(Dense(1,activation=\"sigmoid\"))"
      ],
      "metadata": {
        "id": "yuv17Cpa9Vhn"
      },
      "execution_count": null,
      "outputs": []
    },
    {
      "cell_type": "code",
      "source": [
        "model.compile(optimizer=\"adam\",loss=\"mean_squared_error\")"
      ],
      "metadata": {
        "id": "LPbPCnEubo8O"
      },
      "execution_count": null,
      "outputs": []
    },
    {
      "cell_type": "code",
      "source": [
        "y"
      ],
      "metadata": {
        "colab": {
          "base_uri": "https://localhost:8080/"
        },
        "id": "_xi4iOaRp4JI",
        "outputId": "40d17336-3473-428b-d4a2-55646c06f6d7"
      },
      "execution_count": null,
      "outputs": [
        {
          "output_type": "execute_result",
          "data": {
            "text/plain": [
              "0         Negative\n",
              "1          Neutral\n",
              "2         Positive\n",
              "3         Positive\n",
              "4         Positive\n",
              "            ...   \n",
              "162971    Negative\n",
              "162972    Negative\n",
              "162973     Neutral\n",
              "162974     Neutral\n",
              "162975    Positive\n",
              "Name: category, Length: 162976, dtype: object"
            ]
          },
          "metadata": {},
          "execution_count": 249
        }
      ]
    },
    {
      "cell_type": "code",
      "source": [
        "len(y)"
      ],
      "metadata": {
        "colab": {
          "base_uri": "https://localhost:8080/"
        },
        "id": "34dxilqbzeAh",
        "outputId": "c8b35e38-172f-48c0-a7b3-43ce0617f04f"
      },
      "execution_count": null,
      "outputs": [
        {
          "output_type": "execute_result",
          "data": {
            "text/plain": [
              "162976"
            ]
          },
          "metadata": {},
          "execution_count": 267
        }
      ]
    },
    {
      "cell_type": "code",
      "source": [
        "y=pd.get_dummies(y)"
      ],
      "metadata": {
        "id": "nMnm-I8TcQ88"
      },
      "execution_count": null,
      "outputs": []
    },
    {
      "cell_type": "markdown",
      "source": [
        "train test data splitting"
      ],
      "metadata": {
        "id": "NwOQIatRC6sq"
      }
    },
    {
      "cell_type": "code",
      "source": [
        "X_train, X_test, y_train, y_test = train_test_split(embedded_docs, y, test_size=0.2, random_state=42)"
      ],
      "metadata": {
        "id": "dmJOaJDedZGQ"
      },
      "execution_count": null,
      "outputs": []
    },
    {
      "cell_type": "code",
      "source": [
        "len(X_train),len(X_test),len(y_train),len(y_test)"
      ],
      "metadata": {
        "colab": {
          "base_uri": "https://localhost:8080/"
        },
        "id": "EO1UobZnzyrk",
        "outputId": "8d405722-6d48-43d0-9ca6-d9b6e836d1eb"
      },
      "execution_count": null,
      "outputs": [
        {
          "output_type": "execute_result",
          "data": {
            "text/plain": [
              "(130380, 32596, 130380, 32596)"
            ]
          },
          "metadata": {},
          "execution_count": 312
        }
      ]
    },
    {
      "cell_type": "code",
      "source": [
        "history = model.fit(X_train, y_train, epochs=10)"
      ],
      "metadata": {
        "colab": {
          "base_uri": "https://localhost:8080/"
        },
        "id": "InOL0hX9ccp_",
        "outputId": "60580b62-e147-471a-977b-63cb9217a3c8"
      },
      "execution_count": null,
      "outputs": [
        {
          "output_type": "stream",
          "name": "stdout",
          "text": [
            "Epoch 1/10\n",
            "4075/4075 [==============================] - 26s 6ms/step - loss: 0.2222\n",
            "Epoch 2/10\n",
            "4075/4075 [==============================] - 26s 6ms/step - loss: 0.2222\n",
            "Epoch 3/10\n",
            "4075/4075 [==============================] - 25s 6ms/step - loss: 0.2222\n",
            "Epoch 4/10\n",
            "4075/4075 [==============================] - 26s 6ms/step - loss: 0.2222\n",
            "Epoch 5/10\n",
            "4075/4075 [==============================] - 25s 6ms/step - loss: 0.2222\n",
            "Epoch 6/10\n",
            "4075/4075 [==============================] - 25s 6ms/step - loss: 0.2222\n",
            "Epoch 7/10\n",
            "4075/4075 [==============================] - 25s 6ms/step - loss: 0.2222\n",
            "Epoch 8/10\n",
            "4075/4075 [==============================] - 26s 6ms/step - loss: 0.2222\n",
            "Epoch 9/10\n",
            "4075/4075 [==============================] - 25s 6ms/step - loss: 0.2222\n",
            "Epoch 10/10\n",
            "4075/4075 [==============================] - 25s 6ms/step - loss: 0.2222\n"
          ]
        }
      ]
    },
    {
      "cell_type": "code",
      "source": [
        "model.summary()"
      ],
      "metadata": {
        "colab": {
          "base_uri": "https://localhost:8080/"
        },
        "id": "Q9bLdyqzgI_A",
        "outputId": "893c6cc7-908d-40a4-80ba-6419b1c62c09"
      },
      "execution_count": null,
      "outputs": [
        {
          "output_type": "stream",
          "name": "stdout",
          "text": [
            "Model: \"sequential_5\"\n",
            "_________________________________________________________________\n",
            " Layer (type)                Output Shape              Param #   \n",
            "=================================================================\n",
            " embedding_4 (Embedding)     (None, 25, 300)           3000000   \n",
            "                                                                 \n",
            " lstm_4 (LSTM)               (None, 64)                93440     \n",
            "                                                                 \n",
            " dense_5 (Dense)             (None, 32)                2080      \n",
            "                                                                 \n",
            " dropout_2 (Dropout)         (None, 32)                0         \n",
            "                                                                 \n",
            " dense_6 (Dense)             (None, 16)                528       \n",
            "                                                                 \n",
            " dense_7 (Dense)             (None, 1)                 17        \n",
            "                                                                 \n",
            "=================================================================\n",
            "Total params: 3,096,065\n",
            "Trainable params: 3,096,065\n",
            "Non-trainable params: 0\n",
            "_________________________________________________________________\n"
          ]
        }
      ]
    },
    {
      "cell_type": "code",
      "source": [
        "model.evaluate(X_test, y_test)"
      ],
      "metadata": {
        "colab": {
          "base_uri": "https://localhost:8080/"
        },
        "id": "kMJuTiDigUxw",
        "outputId": "46b753dc-99af-4d3e-813d-5d164f7bbda9"
      },
      "execution_count": null,
      "outputs": [
        {
          "output_type": "stream",
          "name": "stdout",
          "text": [
            "1019/1019 [==============================] - 3s 3ms/step - loss: 0.2223\n"
          ]
        },
        {
          "output_type": "execute_result",
          "data": {
            "text/plain": [
              "0.22230184078216553"
            ]
          },
          "metadata": {},
          "execution_count": 313
        }
      ]
    },
    {
      "cell_type": "markdown",
      "source": [
        "prediction from model"
      ],
      "metadata": {
        "id": "o91YEBUrDF6d"
      }
    },
    {
      "cell_type": "code",
      "source": [
        "y_pred = model.predict(X_test)"
      ],
      "metadata": {
        "id": "CWw5JGgggnkJ"
      },
      "execution_count": null,
      "outputs": []
    },
    {
      "cell_type": "code",
      "source": [
        "len(y_pred)"
      ],
      "metadata": {
        "colab": {
          "base_uri": "https://localhost:8080/"
        },
        "id": "w_AMCTyny7ky",
        "outputId": "35231662-024d-48e5-9a0b-3a03cfcbbb01"
      },
      "execution_count": null,
      "outputs": [
        {
          "output_type": "execute_result",
          "data": {
            "text/plain": [
              "32596"
            ]
          },
          "metadata": {},
          "execution_count": 379
        }
      ]
    },
    {
      "cell_type": "code",
      "source": [
        "len(y_test),len(X_test)"
      ],
      "metadata": {
        "colab": {
          "base_uri": "https://localhost:8080/"
        },
        "id": "DhSNPCHWpSYr",
        "outputId": "7906e8e4-c818-48e0-f87d-a4c053993900"
      },
      "execution_count": null,
      "outputs": [
        {
          "output_type": "execute_result",
          "data": {
            "text/plain": [
              "(32596, 32596)"
            ]
          },
          "metadata": {},
          "execution_count": 380
        }
      ]
    },
    {
      "cell_type": "code",
      "source": [
        "y_pred"
      ],
      "metadata": {
        "colab": {
          "base_uri": "https://localhost:8080/"
        },
        "id": "Iptg4Km-3ChK",
        "outputId": "8c1153d7-c52c-4a7e-96a6-c80773c3d07e"
      },
      "execution_count": null,
      "outputs": [
        {
          "output_type": "execute_result",
          "data": {
            "text/plain": [
              "array([[0.34217992],\n",
              "       [0.3421626 ],\n",
              "       [0.3421415 ],\n",
              "       ...,\n",
              "       [0.34214962],\n",
              "       [0.34216017],\n",
              "       [0.34218466]], dtype=float32)"
            ]
          },
          "metadata": {},
          "execution_count": 381
        }
      ]
    },
    {
      "cell_type": "code",
      "source": [
        "y_test=y_test.drop(columns=[\"Negative\",\"Neutral\"])"
      ],
      "metadata": {
        "id": "4sekStbW29H4"
      },
      "execution_count": null,
      "outputs": []
    },
    {
      "cell_type": "code",
      "source": [
        "y_test=list(y_test.Positive)"
      ],
      "metadata": {
        "id": "SHkeGM1U7muK"
      },
      "execution_count": null,
      "outputs": []
    },
    {
      "cell_type": "code",
      "source": [
        "len(y_test)"
      ],
      "metadata": {
        "colab": {
          "base_uri": "https://localhost:8080/"
        },
        "id": "s_w3LyEk8O_V",
        "outputId": "857ed2c4-8934-46e9-c9b2-e95e4abec9d0"
      },
      "execution_count": null,
      "outputs": [
        {
          "output_type": "execute_result",
          "data": {
            "text/plain": [
              "32596"
            ]
          },
          "metadata": {},
          "execution_count": 384
        }
      ]
    },
    {
      "cell_type": "code",
      "source": [
        "y_pred"
      ],
      "metadata": {
        "colab": {
          "base_uri": "https://localhost:8080/"
        },
        "id": "OC9jELvHs8wd",
        "outputId": "788f132b-110f-41f6-90f0-3a80212b0005"
      },
      "execution_count": null,
      "outputs": [
        {
          "output_type": "execute_result",
          "data": {
            "text/plain": [
              "array([[0.34217992],\n",
              "       [0.3421626 ],\n",
              "       [0.3421415 ],\n",
              "       ...,\n",
              "       [0.34214962],\n",
              "       [0.34216017],\n",
              "       [0.34218466]], dtype=float32)"
            ]
          },
          "metadata": {},
          "execution_count": 385
        }
      ]
    },
    {
      "cell_type": "code",
      "source": [
        "for i in range(0,len(y_pred)):\n",
        "  if y_pred[i]>y_pred.mean():\n",
        "    y_pred[i]=1\n",
        "  elif y_pred[i]==y_pred.mean():\n",
        "    y_pred[i]=0\n",
        "  else:\n",
        "    y_pred[i]=0"
      ],
      "metadata": {
        "id": "NBC5x3weguZP"
      },
      "execution_count": null,
      "outputs": []
    },
    {
      "cell_type": "code",
      "source": [
        "y_pred=y_pred.tolist()"
      ],
      "metadata": {
        "id": "gesJJX1coHac"
      },
      "execution_count": null,
      "outputs": []
    },
    {
      "cell_type": "code",
      "source": [
        "for i in range(0,len(y_pred)):\n",
        "  y_pred[i]=int(y_pred[i][0])"
      ],
      "metadata": {
        "id": "L_KF1HK79kAu"
      },
      "execution_count": null,
      "outputs": []
    },
    {
      "cell_type": "code",
      "source": [
        "from sklearn.metrics import accuracy_score"
      ],
      "metadata": {
        "id": "3Qmvz9c5o0b7"
      },
      "execution_count": null,
      "outputs": []
    },
    {
      "cell_type": "code",
      "source": [
        "accuracy_score(y_pred,y_test)"
      ],
      "metadata": {
        "colab": {
          "base_uri": "https://localhost:8080/"
        },
        "id": "mwLuZgOKo3Ne",
        "outputId": "453d498f-ccab-4641-9a80-3283095c7273"
      },
      "execution_count": null,
      "outputs": [
        {
          "output_type": "execute_result",
          "data": {
            "text/plain": [
              "0.5121487299055099"
            ]
          },
          "metadata": {},
          "execution_count": 391
        }
      ]
    },
    {
      "cell_type": "markdown",
      "source": [
        "Measure performance metricsand accuracy"
      ],
      "metadata": {
        "id": "-5mbbBVjDOP2"
      }
    },
    {
      "cell_type": "code",
      "source": [
        "from sklearn.metrics import confusion_matrix,classification_report\n",
        "import matplotlib.pyplot as plt\n"
      ],
      "metadata": {
        "id": "3X7moCJU_oh1"
      },
      "execution_count": null,
      "outputs": []
    },
    {
      "cell_type": "code",
      "source": [
        "cm = confusion_matrix(y_test, y_pred)\n",
        "print(cm)\n",
        "fig = plt.figure()\n",
        "ax = fig.add_subplot(111)\n",
        "cax = ax.matshow(cm)\n",
        "plt.title('Confusion matrix')\n",
        "fig.colorbar(cax)\n",
        "ax.set_xticklabels([''])\n",
        "ax.set_yticklabels([''])\n",
        "plt.xlabel('Predicted Values')\n",
        "plt.ylabel('Actual Values')\n",
        "plt.show()"
      ],
      "metadata": {
        "colab": {
          "base_uri": "https://localhost:8080/",
          "height": 324
        },
        "id": "6osjh7MGABWl",
        "outputId": "1bf629d0-9b57-4107-e716-2a3fe346cd2e"
      },
      "execution_count": null,
      "outputs": [
        {
          "output_type": "stream",
          "name": "stdout",
          "text": [
            "[[11815  6275]\n",
            " [ 9627  4879]]\n"
          ]
        },
        {
          "output_type": "display_data",
          "data": {
            "text/plain": [
              "<Figure size 432x288 with 2 Axes>"
            ],
            "image/png": "[encoded data removed]"
          },
          "metadata": {
            "needs_background": "light"
          }
        }
      ]
    },
    {
      "cell_type": "markdown",
      "source": [
        "Classification report"
      ],
      "metadata": {
        "id": "UQBAwksfDbZF"
      }
    },
    {
      "cell_type": "code",
      "source": [
        "print(classification_report(y_pred, y_test))"
      ],
      "metadata": {
        "colab": {
          "base_uri": "https://localhost:8080/"
        },
        "id": "sEtK8vF3A9AE",
        "outputId": "1a6ce16e-2c2b-4dea-de07-b22332840860"
      },
      "execution_count": null,
      "outputs": [
        {
          "output_type": "stream",
          "name": "stdout",
          "text": [
            "              precision    recall  f1-score   support\n",
            "\n",
            "           0       0.65      0.55      0.60     21442\n",
            "           1       0.34      0.44      0.38     11154\n",
            "\n",
            "    accuracy                           0.51     32596\n",
            "   macro avg       0.49      0.49      0.49     32596\n",
            "weighted avg       0.54      0.51      0.52     32596\n",
            "\n"
          ]
        }
      ]
    }
  ],
  "metadata": {
    "accelerator": "GPU",
    "colab": {
      "provenance": [],
      "collapsed_sections": [],
      "toc_visible": true
    },
    "gpuClass": "standard",
    "kernelspec": {
      "display_name": "Python 3",
      "name": "python3"
    },
    "language_info": {
      "name": "python"
    }
  },
  "nbformat": 4,
  "nbformat_minor": 0
}